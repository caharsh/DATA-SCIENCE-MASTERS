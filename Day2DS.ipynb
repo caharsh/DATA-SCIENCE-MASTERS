{
 "cells": [
  {
   "cell_type": "code",
   "execution_count": 1,
   "id": "2fc84ed9-a570-42a5-9a16-6e91529954a1",
   "metadata": {},
   "outputs": [
    {
     "data": {
      "text/plain": [
       "123"
      ]
     },
     "execution_count": 1,
     "metadata": {},
     "output_type": "execute_result"
    }
   ],
   "source": [
    "int('123')"
   ]
  },
  {
   "cell_type": "code",
   "execution_count": 2,
   "id": "af148667-27f3-4bff-b93f-f7a493a80266",
   "metadata": {},
   "outputs": [
    {
     "ename": "ValueError",
     "evalue": "invalid literal for int() with base 10: 'abcd'",
     "output_type": "error",
     "traceback": [
      "\u001b[0;31m---------------------------------------------------------------------------\u001b[0m",
      "\u001b[0;31mValueError\u001b[0m                                Traceback (most recent call last)",
      "Cell \u001b[0;32mIn[2], line 1\u001b[0m\n\u001b[0;32m----> 1\u001b[0m \u001b[38;5;28;43mint\u001b[39;49m\u001b[43m(\u001b[49m\u001b[38;5;124;43m'\u001b[39;49m\u001b[38;5;124;43mabcd\u001b[39;49m\u001b[38;5;124;43m'\u001b[39;49m\u001b[43m)\u001b[49m\n",
      "\u001b[0;31mValueError\u001b[0m: invalid literal for int() with base 10: 'abcd'"
     ]
    }
   ],
   "source": [
    "int('abcd')"
   ]
  },
  {
   "cell_type": "code",
   "execution_count": 3,
   "id": "031c9096-4517-49a7-9936-4d7148a0c400",
   "metadata": {},
   "outputs": [
    {
     "name": "stdout",
     "output_type": "stream",
     "text": [
      "hello world\n"
     ]
    }
   ],
   "source": [
    "print(\"hello world\")"
   ]
  },
  {
   "cell_type": "code",
   "execution_count": 7,
   "id": "11c4a9cc-331e-4336-9f9c-48cea8bfaaac",
   "metadata": {},
   "outputs": [
    {
     "name": "stdout",
     "output_type": "stream",
     "text": [
      "My age is :  24\n"
     ]
    }
   ],
   "source": [
    "age = 24\n",
    "print(\"My age is : \",age)"
   ]
  },
  {
   "cell_type": "code",
   "execution_count": 9,
   "id": "9d820e47-597d-4f9f-85f0-13d1ffad122a",
   "metadata": {},
   "outputs": [
    {
     "name": "stdout",
     "output_type": "stream",
     "text": [
      "My age is : 24\n"
     ]
    }
   ],
   "source": [
    "print(f\"My age is : {age}\")"
   ]
  },
  {
   "cell_type": "code",
   "execution_count": 10,
   "id": "5d65b482-00a6-49a0-8697-47cdba77635a",
   "metadata": {},
   "outputs": [
    {
     "name": "stdout",
     "output_type": "stream",
     "text": [
      "Number = 10\n"
     ]
    }
   ],
   "source": [
    "a =10\n",
    "print(f\"Number = {a}\")"
   ]
  },
  {
   "cell_type": "code",
   "execution_count": 11,
   "id": "123279e8-2920-4714-8b37-a9aaf53f1aa1",
   "metadata": {},
   "outputs": [
    {
     "name": "stdout",
     "output_type": "stream",
     "text": [
      "My name is harsh and age is 24\n"
     ]
    }
   ],
   "source": [
    "name=\"harsh\"\n",
    "age =24\n",
    "print('My name is {} and age is {}'.format(name,age))"
   ]
  },
  {
   "cell_type": "code",
   "execution_count": 14,
   "id": "00645243-8268-46e2-87ef-c9de2348a790",
   "metadata": {},
   "outputs": [
    {
     "name": "stdout",
     "output_type": "stream",
     "text": [
      "My name is harsh and age is 24\n"
     ]
    }
   ],
   "source": [
    "print('My name is {firstname} and age is {firstage}'.format(firstage = age,firstname = name))"
   ]
  },
  {
   "cell_type": "code",
   "execution_count": 17,
   "id": "eef23a86-b693-4767-9d94-8ab66d49760d",
   "metadata": {},
   "outputs": [
    {
     "name": "stdout",
     "output_type": "stream",
     "text": [
      "My age is 24 and I have completed : my degree of BTECH with the name of harsh\n",
      "My age is 24 and I have completed : my degree of BTECH with the name of harsh\n"
     ]
    }
   ],
   "source": [
    "name ='harsh'\n",
    "age=24\n",
    "degree='BTECH'\n",
    "print(f\"My age is {age} and I have completed : my degree of {degree} with the name of {name}\")\n",
    "print(\"My age is {fage} and I have completed : my degree of {fdegree} with the name of {fname}\".format(fage = age,fdegree=degree,fname=name))\n"
   ]
  },
  {
   "cell_type": "code",
   "execution_count": 18,
   "id": "25722fc0-3476-4ef3-b6ce-fd669736e0ca",
   "metadata": {},
   "outputs": [
    {
     "name": "stdout",
     "output_type": "stream",
     "text": [
      "I can Vote\n"
     ]
    }
   ],
   "source": [
    "## if statements\n",
    "age = 18\n",
    "if age>=18:\n",
    "    print('I can Vote')\n",
    "else:\n",
    "    print(\"I cannot\")"
   ]
  },
  {
   "cell_type": "code",
   "execution_count": 23,
   "id": "ca37ea69-3b52-4fc6-b001-0317b12e3165",
   "metadata": {},
   "outputs": [
    {
     "name": "stdin",
     "output_type": "stream",
     "text": [
      "Enter the Name: harsh\n"
     ]
    }
   ],
   "source": [
    "name= input(\"Enter the Name:\")"
   ]
  },
  {
   "cell_type": "code",
   "execution_count": 24,
   "id": "90bf4c4d-84ca-4547-9a1c-af4ecfab40f5",
   "metadata": {},
   "outputs": [
    {
     "data": {
      "text/plain": [
       "'harsh'"
      ]
     },
     "execution_count": 24,
     "metadata": {},
     "output_type": "execute_result"
    }
   ],
   "source": [
    "name"
   ]
  },
  {
   "cell_type": "code",
   "execution_count": 25,
   "id": "9d1d533c-ea5b-4b8b-abdb-cde2471c4e8e",
   "metadata": {},
   "outputs": [
    {
     "name": "stdin",
     "output_type": "stream",
     "text": [
      "Enter age: 12\n"
     ]
    }
   ],
   "source": [
    "age =int(input(\"Enter age:\"))"
   ]
  },
  {
   "cell_type": "code",
   "execution_count": 26,
   "id": "f2613e23-5ec7-4408-a09c-2f233161102c",
   "metadata": {},
   "outputs": [
    {
     "data": {
      "text/plain": [
       "12"
      ]
     },
     "execution_count": 26,
     "metadata": {},
     "output_type": "execute_result"
    }
   ],
   "source": [
    "age"
   ]
  },
  {
   "cell_type": "code",
   "execution_count": 30,
   "id": "7e45b0e8-3d7d-45f1-8294-c29d55f1286e",
   "metadata": {},
   "outputs": [
    {
     "name": "stdin",
     "output_type": "stream",
     "text": [
      "enter age  12\n"
     ]
    },
    {
     "name": "stdout",
     "output_type": "stream",
     "text": [
      "you are not a young blood\n"
     ]
    }
   ],
   "source": [
    "age = int(input(\"enter age \"))\n",
    "if age >=18 and age <=45:\n",
    "    print(\"you are a young blood\")\n",
    "else:\n",
    "    print(\"you are not a young blood\")\n",
    "\n",
    "    "
   ]
  },
  {
   "cell_type": "code",
   "execution_count": 33,
   "id": "dcd84496-dd55-4c4f-af7d-b188b4ccbaa8",
   "metadata": {},
   "outputs": [
    {
     "name": "stdin",
     "output_type": "stream",
     "text": [
      "Product price =  1000\n"
     ]
    },
    {
     "name": "stdout",
     "output_type": "stream",
     "text": [
      "Final Price : 700.0\n"
     ]
    }
   ],
   "source": [
    "price = int(input(\"Product price = \"))\n",
    "if price>1000:\n",
    "    print(\"Final Price : {}\".format(price*0.8))\n",
    "else:\n",
    "    print(\"Final Price : {}\".format(price*0.7))\n"
   ]
  },
  {
   "cell_type": "code",
   "execution_count": 40,
   "id": "bcb1422b-8187-4cda-b132-e925699b9a5d",
   "metadata": {},
   "outputs": [
    {
     "name": "stdin",
     "output_type": "stream",
     "text": [
      "Product price =  4000\n"
     ]
    },
    {
     "name": "stdout",
     "output_type": "stream",
     "text": [
      "gao trip\n",
      "Final Price : 3200.0\n"
     ]
    }
   ],
   "source": [
    "price = int(input(\"Product price = \"))\n",
    "if price>3000:\n",
    "    if price==4000:\n",
    "        print('gao trip')\n",
    "    print(f\"Final Price : {price*0.8}\")\n",
    "elif price>=2000 and price<=3000:\n",
    "    if price == 2999:\n",
    "        print('Additional Gift')\n",
    "    print(f\"Final Price : {price*0.7}\")\n",
    "else:\n",
    "    print(f\"Final Price : {price*0.6}\")\n"
   ]
  },
  {
   "cell_type": "code",
   "execution_count": 2,
   "id": "7f94ba5b-8ba1-468f-8a90-adc3610bb6c7",
   "metadata": {},
   "outputs": [
    {
     "name": "stdout",
     "output_type": "stream",
     "text": [
      "26\n",
      "27\n",
      "28\n",
      "29\n",
      "30\n",
      "31\n",
      "32\n",
      "33\n",
      "34\n",
      "35\n",
      "36\n",
      "37\n",
      "38\n",
      "39\n",
      "40\n",
      "41\n",
      "42\n",
      "43\n",
      "44\n",
      "45\n",
      "46\n",
      "47\n",
      "48\n",
      "49\n",
      "50\n",
      "51\n",
      "52\n",
      "53\n",
      "54\n",
      "55\n",
      "56\n",
      "57\n",
      "58\n",
      "59\n",
      "60\n",
      "61\n",
      "retire\n"
     ]
    }
   ],
   "source": [
    "## while loop\n",
    "## continuos iterating function\n",
    "joining_age = 25\n",
    "\n",
    "## keep on incremneting joining age\n",
    "while joining_age<=60:\n",
    "    joining_age+=1\n",
    "    print(joining_age)\n",
    "else:\n",
    "    print('retire')"
   ]
  },
  {
   "cell_type": "code",
   "execution_count": 4,
   "id": "72ae9452-76e0-47ca-bc7b-dde69119eb4d",
   "metadata": {},
   "outputs": [
    {
     "name": "stdout",
     "output_type": "stream",
     "text": [
      "1000\n",
      "900\n",
      "800\n",
      "700\n",
      "600\n",
      "500\n",
      "400\n",
      "300\n",
      "200\n",
      "100\n",
      "no money\n"
     ]
    }
   ],
   "source": [
    "## atm with 1000rs\n",
    "tot_amt = 1000\n",
    "while tot_amt !=0:\n",
    "    print(tot_amt)\n",
    "    tot_amt-=100\n",
    "else:\n",
    "    print('no money')\n",
    "#"
   ]
  },
  {
   "cell_type": "code",
   "execution_count": 1,
   "id": "ef2114a2-72e1-42b7-9b36-dbe553d0eddf",
   "metadata": {},
   "outputs": [],
   "source": [
    "## for loop\n",
    "\n",
    "## iteration over a loop\n",
    "\n",
    "\n",
    "\n",
    "lst = ['krish',1,2,3,'apple','banana']\n",
    "\n"
   ]
  },
  {
   "cell_type": "code",
   "execution_count": 2,
   "id": "2227c510-c11a-4182-853e-404a9e944915",
   "metadata": {},
   "outputs": [
    {
     "data": {
      "text/plain": [
       "list"
      ]
     },
     "execution_count": 2,
     "metadata": {},
     "output_type": "execute_result"
    }
   ],
   "source": [
    "type(lst)"
   ]
  },
  {
   "cell_type": "code",
   "execution_count": 3,
   "id": "d14312ef-4c44-422f-a053-f521d226b994",
   "metadata": {},
   "outputs": [
    {
     "data": {
      "text/plain": [
       "'apple'"
      ]
     },
     "execution_count": 3,
     "metadata": {},
     "output_type": "execute_result"
    }
   ],
   "source": [
    "lst[4]"
   ]
  },
  {
   "cell_type": "code",
   "execution_count": 4,
   "id": "604f256f-c901-4c07-8018-1d4666da8e22",
   "metadata": {},
   "outputs": [
    {
     "name": "stdout",
     "output_type": "stream",
     "text": [
      "krish\n",
      "1\n",
      "2\n",
      "3\n",
      "apple\n",
      "banana\n"
     ]
    }
   ],
   "source": [
    "for x in lst:\n",
    "    print(x)"
   ]
  },
  {
   "cell_type": "code",
   "execution_count": 13,
   "id": "7fad0baa-185d-4f41-b0ce-be96ca01789c",
   "metadata": {},
   "outputs": [
    {
     "name": "stdout",
     "output_type": "stream",
     "text": [
      "c\n",
      "fruit is c\n"
     ]
    }
   ],
   "source": [
    "fruit = ['c','b','c','d']\n",
    "for a in fruit:\n",
    "    print(a)\n",
    "    if a=='c':\n",
    "        print('fruit is c')\n",
    "    break"
   ]
  },
  {
   "cell_type": "code",
   "execution_count": 15,
   "id": "c3f21bd4-7a0f-4bd0-96fe-18703681c7e1",
   "metadata": {},
   "outputs": [
    {
     "name": "stdout",
     "output_type": "stream",
     "text": [
      "m\n",
      "a\n",
      "n\n",
      "g\n",
      "o\n"
     ]
    },
    {
     "data": {
      "text/plain": [
       "'n'"
      ]
     },
     "execution_count": 15,
     "metadata": {},
     "output_type": "execute_result"
    }
   ],
   "source": [
    "frt = 'mango'\n",
    "for x in frt:\n",
    "    print(x)\n",
    "frt[2]"
   ]
  },
  {
   "cell_type": "code",
   "execution_count": 16,
   "id": "5a02b8d1-fe1b-488c-8896-e6facd331923",
   "metadata": {},
   "outputs": [],
   "source": [
    "### nested for\n",
    "n=7\n"
   ]
  },
  {
   "cell_type": "code",
   "execution_count": 19,
   "id": "84d9b828-59be-4f8d-a3b5-9ad5101c6b8b",
   "metadata": {},
   "outputs": [
    {
     "name": "stdout",
     "output_type": "stream",
     "text": [
      "1\n",
      "3\n",
      "5\n"
     ]
    }
   ],
   "source": [
    "for i in range(1,6,2):\n",
    "    print(i)"
   ]
  },
  {
   "cell_type": "code",
   "execution_count": 22,
   "id": "b2c82103-ea39-47ca-8f18-14d0654101fe",
   "metadata": {},
   "outputs": [
    {
     "name": "stdout",
     "output_type": "stream",
     "text": [
      "2\n",
      "4\n",
      "6\n",
      "8\n"
     ]
    }
   ],
   "source": [
    "for i in range(2,10,2):\n",
    "    print(i)"
   ]
  },
  {
   "cell_type": "code",
   "execution_count": 2,
   "id": "e85b3bdd-0f48-43f2-b83b-360ff73301c6",
   "metadata": {},
   "outputs": [
    {
     "data": {
      "text/plain": [
       "[2, 4, 6, 8, 10]"
      ]
     },
     "execution_count": 2,
     "metadata": {},
     "output_type": "execute_result"
    }
   ],
   "source": [
    "\n",
    "#versik assessment question\n",
    "\n",
    "def even(start, n):\n",
    "    temp = start\n",
    "    lst = []\n",
    "    while n>0:\n",
    "        if temp %2==0:\n",
    "            lst.append(temp)\n",
    "        \n",
    "            n-=1\n",
    "        temp+=1\n",
    "    return lst\n",
    "even(1,5)"
   ]
  },
  {
   "cell_type": "code",
   "execution_count": 5,
   "id": "06f6d951-a7f4-4799-9f0e-a50e710ea7b2",
   "metadata": {},
   "outputs": [
    {
     "name": "stdout",
     "output_type": "stream",
     "text": [
      "*\n",
      "**\n",
      "***\n",
      "****\n",
      "*****\n",
      "******\n"
     ]
    }
   ],
   "source": [
    "n = 7\n",
    "for i in range(1,n):\n",
    "    for j in range(1,i+1):\n",
    "        print('*',end='')\n",
    "        # print(j,end='')\n",
    "    print('\\r')\n",
    "    "
   ]
  },
  {
   "cell_type": "code",
   "execution_count": 2,
   "id": "75bb5d28-f993-4b58-a957-3d439818dc54",
   "metadata": {},
   "outputs": [
    {
     "name": "stdout",
     "output_type": "stream",
     "text": [
      "123456789 included in CodeSpeedy\n"
     ]
    }
   ],
   "source": [
    "### \\r carriage return\n",
    "\n",
    "\n",
    "print('Python is included in CodeSpeedy\\r123456789')"
   ]
  },
  {
   "cell_type": "code",
   "execution_count": null,
   "id": "7348d376-2826-4212-b4d2-4b8d891fdcdc",
   "metadata": {},
   "outputs": [],
   "source": [
    "## loop controls\n",
    "## break and continue\n",
    "\n",
    "\n"
   ]
  },
  {
   "cell_type": "code",
   "execution_count": null,
   "id": "b7ef7bbe-7fae-4e69-91d7-67c7596e04a6",
   "metadata": {},
   "outputs": [],
   "source": []
  },
  {
   "cell_type": "code",
   "execution_count": null,
   "id": "77f712d0-b2aa-4f38-a915-2dfe4faf0461",
   "metadata": {},
   "outputs": [],
   "source": []
  },
  {
   "cell_type": "code",
   "execution_count": null,
   "id": "4d33d53a-9ab3-4961-9d69-2effc14d6473",
   "metadata": {},
   "outputs": [],
   "source": []
  },
  {
   "cell_type": "code",
   "execution_count": null,
   "id": "195f9fbe-ae24-421e-8ab2-01c36ff35da9",
   "metadata": {},
   "outputs": [],
   "source": []
  },
  {
   "cell_type": "code",
   "execution_count": null,
   "id": "5b896252-7714-4176-9b63-10be759e7d01",
   "metadata": {},
   "outputs": [],
   "source": []
  }
 ],
 "metadata": {
  "kernelspec": {
   "display_name": "Python 3 (ipykernel)",
   "language": "python",
   "name": "python3"
  },
  "language_info": {
   "codemirror_mode": {
    "name": "ipython",
    "version": 3
   },
   "file_extension": ".py",
   "mimetype": "text/x-python",
   "name": "python",
   "nbconvert_exporter": "python",
   "pygments_lexer": "ipython3",
   "version": "3.10.8"
  }
 },
 "nbformat": 4,
 "nbformat_minor": 5
}
