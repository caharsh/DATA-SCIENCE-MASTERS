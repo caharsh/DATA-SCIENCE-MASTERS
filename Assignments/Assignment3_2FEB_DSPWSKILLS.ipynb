{
 "cells": [
  {
   "cell_type": "markdown",
   "id": "19f0152a-9c07-432c-8d03-36bc5764a928",
   "metadata": {},
   "source": [
    "Q1 ANS: Tuples are ordered and used to store information or elements.Tuples can store elements of different data types. Tuples can be traversed and indexing starts from 0. Tuples are atmost similar to lists but just the difference is they cannot be modified by indexing which means tuples are immutable. It does not support item assignment."
   ]
  },
  {
   "cell_type": "markdown",
   "id": "b3adb618-2a79-4375-953d-ec3e59ca6dd8",
   "metadata": {},
   "source": [
    "Q2 ANS: Two Tuple methods <br>\n",
    "i) count() - used to count number of occurences of particular element in tuple <br>\n",
    "ii) index() - used to find index of particular element in tuple <br>\n",
    "Following are some examples"
   ]
  },
  {
   "cell_type": "code",
   "execution_count": 11,
   "id": "1eae47d1-8242-4185-9c87-7f316664b3db",
   "metadata": {},
   "outputs": [
    {
     "name": "stdout",
     "output_type": "stream",
     "text": [
      "1\n",
      "9\n"
     ]
    }
   ],
   "source": [
    "tuple1 = (1,2,3,4,1,2,3,3,2,'harsh',[1,2,3,4],5,3,2,'Harsh')\n",
    "print(tuple1.count(5))\n",
    "print(tuple1.index('harsh'))"
   ]
  },
  {
   "cell_type": "markdown",
   "id": "548058b3-3caa-4e6f-8c28-9031bcdff228",
   "metadata": {},
   "source": [
    "As mentioned tuples are immutable and hence we cannot apply some of the methods that are applicable to lists such as item assignment\n",
    "tuple[c] = 'some value', this operation throws error <br>\n",
    "Another is sort method. We can sort the lists but not the tuples"
   ]
  },
  {
   "cell_type": "markdown",
   "id": "8b6ad843-11e5-485c-8702-443c55e4d4d3",
   "metadata": {},
   "source": [
    "Q3 :\n",
    "The collection datatype in Python that does not allow duplicate items is the set. <br>\n"
   ]
  },
  {
   "cell_type": "code",
   "execution_count": 1,
   "id": "200f8ce5-73b5-44c4-a47d-bde5c59092f3",
   "metadata": {},
   "outputs": [
    {
     "name": "stdout",
     "output_type": "stream",
     "text": [
      "[1, 2, 3, 4, 5, 6]\n"
     ]
    }
   ],
   "source": [
    "my_list = [1, 2, 3, 2, 4, 1, 5, 6, 3]\n",
    "\n",
    "# Convert the list to a set to remove duplicates\n",
    "unique_items = set(my_list)\n",
    "\n",
    "# Convert the set back to a list\n",
    "new_list = list(unique_items)\n",
    "\n",
    "print(new_list)"
   ]
  },
  {
   "cell_type": "markdown",
   "id": "add374be-22ce-4bde-b8d6-6101af53b3e4",
   "metadata": {},
   "source": [
    "Q4:"
   ]
  },
  {
   "cell_type": "code",
   "execution_count": 4,
   "id": "36bd7e39-1f44-445a-ae9b-02008a64304b",
   "metadata": {},
   "outputs": [
    {
     "name": "stdout",
     "output_type": "stream",
     "text": [
      "[1, 2, 3, 4]\n"
     ]
    }
   ],
   "source": [
    "List = [1, 1, 1, 2, 1, 3, 1, 4, 2, 1, 2, 2, 2, 3, 2, 4, 3, 1, 3, 2, 3, 3, 3, 4, 4, 1, 4, 2, 4, 3, 4, 4]\n",
    "new_list = []\n",
    "for i in List:\n",
    "    if i not in new_list:\n",
    "        new_list.append(i)\n",
    "print(new_list)\n",
    "        "
   ]
  },
  {
   "cell_type": "markdown",
   "id": "af790e54-5e68-41ad-93e8-dcda640dff36",
   "metadata": {},
   "source": [
    "Q5 :\n",
    "\n",
    "A dictionary is a built-in data type in Python that allows you to store key-value pairs. Each key in a dictionary maps to a corresponding value, and you can use the key to retrieve the value later on."
   ]
  },
  {
   "cell_type": "code",
   "execution_count": 2,
   "id": "0382b4c7-f024-4e75-8815-e790b2479742",
   "metadata": {},
   "outputs": [
    {
     "name": "stdout",
     "output_type": "stream",
     "text": [
      "3\n",
      "2\n",
      "1\n"
     ]
    }
   ],
   "source": [
    "my_dict = {\"apple\": 3, \"banana\": 2, \"orange\": 1}\n",
    "\n",
    "print(my_dict[\"apple\"])  # Output: 3\n",
    "print(my_dict[\"banana\"])  # Output: 2\n",
    "print(my_dict[\"orange\"])  # Output: 1"
   ]
  },
  {
   "cell_type": "markdown",
   "id": "06884a7d-49cc-448f-82fc-1998d37a706a",
   "metadata": {},
   "source": [
    "In Python 3.7 and later versions, dictionaries are guaranteed to maintain the insertion order of their keys. This means that the order of items in the dictionary will be the same as the order in which they were inserted. However, in earlier versions of Python, dictionaries were unordered. So, whether a dictionary is ordered or unordered depends on the version of Python you are using."
   ]
  },
  {
   "cell_type": "markdown",
   "id": "fe74322e-56ac-4c12-bf98-130375b07631",
   "metadata": {},
   "source": [
    "Q6 :\n",
    "Yes, we can create a nested dictionary in Python. A nested dictionary is simply a dictionary that contains one or more dictionaries as values for its keys."
   ]
  },
  {
   "cell_type": "code",
   "execution_count": null,
   "id": "c83af43a-f358-4e94-b7c5-8647d590da31",
   "metadata": {},
   "outputs": [],
   "source": [
    "my_dict = {\"fruit\": {\"apple\": 3, \"banana\": 2, \"orange\": 1}}\n",
    "\n",
    "print(my_dict[\"fruit\"][\"apple\"])  # Output: 3\n",
    "print(my_dict[\"fruit\"][\"banana\"])  # Output: 2\n",
    "print(my_dict[\"fruit\"][\"orange\"])  # Output: 1"
   ]
  },
  {
   "cell_type": "markdown",
   "id": "a23239d1-2383-4505-a256-9647197e0356",
   "metadata": {},
   "source": [
    "In this example, we define a dictionary my_dict that contains a single key-value pair. The key is \"fruit\", and the corresponding value is another dictionary that contains three key-value pairs. The keys in the nested dictionary are \"apple\", \"banana\", and \"orange\", and the corresponding values are 3, 2, and 1, respectively. We can access the values in the nested dictionary by using the keys of both the outer and inner dictionary in square brackets."
   ]
  },
  {
   "cell_type": "code",
   "execution_count": null,
   "id": "e707807e-ffef-4971-904e-8aec4735f498",
   "metadata": {},
   "outputs": [],
   "source": []
  },
  {
   "cell_type": "markdown",
   "id": "dcafc8b1-c14f-4bf9-b608-b2987a89abc2",
   "metadata": {},
   "source": [
    "Q7 :\n"
   ]
  },
  {
   "cell_type": "code",
   "execution_count": 1,
   "id": "309a4896-a312-4edb-b039-048e90bec7f9",
   "metadata": {},
   "outputs": [],
   "source": [
    "dict1 = {'language' : 'Python', 'course': 'Data Science Masters'}"
   ]
  },
  {
   "cell_type": "code",
   "execution_count": 3,
   "id": "283ce58c-6b96-40e7-9c5b-343c18eab2b7",
   "metadata": {},
   "outputs": [
    {
     "data": {
      "text/plain": [
       "['Python', 'Machine Learning', 'Deep Learning']"
      ]
     },
     "execution_count": 3,
     "metadata": {},
     "output_type": "execute_result"
    }
   ],
   "source": [
    "dict1.setdefault('topics',['Python', 'Machine Learning', 'Deep Learning'])"
   ]
  },
  {
   "cell_type": "code",
   "execution_count": 4,
   "id": "df8ba529-dfa7-4ff8-ac99-9f93d784537a",
   "metadata": {},
   "outputs": [
    {
     "data": {
      "text/plain": [
       "{'language': 'Python',\n",
       " 'course': 'Data Science Masters',\n",
       " 'topics': ['Python', 'Machine Learning', 'Deep Learning']}"
      ]
     },
     "execution_count": 4,
     "metadata": {},
     "output_type": "execute_result"
    }
   ],
   "source": [
    "dict1"
   ]
  },
  {
   "cell_type": "code",
   "execution_count": null,
   "id": "f349de2a-7646-43a8-832c-2412e0e182c0",
   "metadata": {},
   "outputs": [],
   "source": []
  },
  {
   "cell_type": "markdown",
   "id": "3ce5160e-abdc-4398-98dc-d61caa141c37",
   "metadata": {},
   "source": [
    "Q8 :"
   ]
  },
  {
   "cell_type": "markdown",
   "id": "ed50e839-792d-4c9a-8f4c-268441e4347c",
   "metadata": {},
   "source": [
    "In Python, dictionaries have three built-in view objects that allow you to view the dictionary's keys, values, and key-value pairs. These view objects are:\n",
    "\n",
    "dict.keys(): returns a view object of the dictionary's keys. <br>\n",
    "dict.values(): returns a view object of the dictionary's values. <br>\n",
    "dict.items(): returns a view object of the dictionary's key-value pairs.\n"
   ]
  },
  {
   "cell_type": "code",
   "execution_count": 5,
   "id": "41b3aa08-4ead-4514-a400-7ffaf785735b",
   "metadata": {},
   "outputs": [],
   "source": [
    "dict1 = {'Sport': 'Cricket' , 'Teams': ['India', 'Australia', 'England', 'South Africa', 'Sri Lanka', 'New Zealand']}"
   ]
  },
  {
   "cell_type": "code",
   "execution_count": 7,
   "id": "54278119-a8ca-49ac-980f-b69a61f685e0",
   "metadata": {},
   "outputs": [
    {
     "name": "stdout",
     "output_type": "stream",
     "text": [
      "Sport\n",
      "Teams\n"
     ]
    }
   ],
   "source": [
    "for i in dict1.keys():\n",
    "    print(i)"
   ]
  },
  {
   "cell_type": "code",
   "execution_count": 8,
   "id": "7a429b46-82fa-421f-bf7b-1050a7c6b319",
   "metadata": {},
   "outputs": [
    {
     "name": "stdout",
     "output_type": "stream",
     "text": [
      "Cricket\n",
      "['India', 'Australia', 'England', 'South Africa', 'Sri Lanka', 'New Zealand']\n"
     ]
    }
   ],
   "source": [
    "for j in dict1.values():\n",
    "    print(j)"
   ]
  },
  {
   "cell_type": "code",
   "execution_count": null,
   "id": "b8263477-280f-45d9-a922-c8466f573ba6",
   "metadata": {},
   "outputs": [],
   "source": [
    "for i,j in dict1.items"
   ]
  }
 ],
 "metadata": {
  "kernelspec": {
   "display_name": "Python 3 (ipykernel)",
   "language": "python",
   "name": "python3"
  },
  "language_info": {
   "codemirror_mode": {
    "name": "ipython",
    "version": 3
   },
   "file_extension": ".py",
   "mimetype": "text/x-python",
   "name": "python",
   "nbconvert_exporter": "python",
   "pygments_lexer": "ipython3",
   "version": "3.10.8"
  }
 },
 "nbformat": 4,
 "nbformat_minor": 5
}
