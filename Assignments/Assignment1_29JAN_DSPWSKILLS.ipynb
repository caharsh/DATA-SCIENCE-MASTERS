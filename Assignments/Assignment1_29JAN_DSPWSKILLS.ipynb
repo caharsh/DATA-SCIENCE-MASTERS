{
 "cells": [
  {
   "cell_type": "markdown",
   "id": "1e0739fa-f682-4718-a5d7-a05ef5cab14f",
   "metadata": {},
   "source": [
    "#### ANS 1 : \n",
    "Python was created by Guido van Rossum"
   ]
  },
  {
   "cell_type": "markdown",
   "id": "4d59406f-e23b-45f8-bd5a-4ceeac4f16f6",
   "metadata": {},
   "source": [
    "#### ANS 2:\n",
    "Python is an interpreted programming language and supports object -oriented programming, structured and functional programming.\n",
    "\n",
    "#### ANS 3:\n",
    "Python is case sensitive programming language and it treats uppercase and lowercase differently when dealing with identifiers.\n",
    "\n",
    "#### ANS 4:\n",
    "correct extension : .py\n",
    "\n",
    "#### ANS 5:\n",
    "Both interpreted and compiled meaning as we run a code, first it compiles and then interprets.\n",
    "\n",
    "#### ANS 6:\n",
    "1. a module, a class definition and a function body\n",
    "\n",
    "#### ANS 7:\n",
    "hash character -(#)\n",
    "\n",
    "#### ANS 8:\n",
    "\n"
   ]
  },
  {
   "cell_type": "code",
   "execution_count": 1,
   "id": "57455526-f86e-407c-8e1d-e20935cabc06",
   "metadata": {},
   "outputs": [],
   "source": [
    "import sys"
   ]
  },
  {
   "cell_type": "code",
   "execution_count": 2,
   "id": "b4110b8f-854f-4534-8d98-ff9817e9dafb",
   "metadata": {},
   "outputs": [
    {
     "name": "stdout",
     "output_type": "stream",
     "text": [
      "3.10.8 | packaged by conda-forge | (main, Nov 22 2022, 08:26:04) [GCC 10.4.0]\n"
     ]
    }
   ],
   "source": [
    "print(sys.version)"
   ]
  },
  {
   "cell_type": "markdown",
   "id": "aae085b3-fe63-484e-b5be-eabf1ad2b9e1",
   "metadata": {},
   "source": [
    "#### ANS 9:"
   ]
  },
  {
   "cell_type": "markdown",
   "id": "bd8ab482-104c-40c2-b343-8661957067e9",
   "metadata": {},
   "source": [
    "lambda"
   ]
  },
  {
   "cell_type": "markdown",
   "id": "ffbb24ea-5ad2-4c3f-9d86-ebb4ed184337",
   "metadata": {},
   "source": [
    "#### ANS 10:"
   ]
  },
  {
   "cell_type": "markdown",
   "id": "9d5e44e4-bfca-4bc1-8a5d-bd4b34f6d598",
   "metadata": {},
   "source": [
    "pip stands for pip install packages is standard tool for installing python packages"
   ]
  },
  {
   "cell_type": "markdown",
   "id": "accb61b2-7d2e-4c0b-b427-5cc6dd38303b",
   "metadata": {},
   "source": [
    "#### ANS 11:"
   ]
  },
  {
   "cell_type": "markdown",
   "id": "d636fee8-7174-4af6-b5d6-12923e5f7ae2",
   "metadata": {},
   "source": [
    "1: print() : used to print onto the screen <br>\n",
    "2: type() : used to identify the data type of particular object <br>\n",
    "3. max() : returns maximum value in iterable <br>\n",
    "4. sorted() : used to sort in object"
   ]
  },
  {
   "cell_type": "markdown",
   "id": "25c7c730-be83-4a9c-86e3-205c17716e07",
   "metadata": {},
   "source": [
    "#### ANS 12:\n",
    "The maximum possible length of an identifier in Python language is 79 characters"
   ]
  },
  {
   "cell_type": "markdown",
   "id": "1b7e1d11-3b8f-40a7-b447-6eac726a3fe2",
   "metadata": {},
   "source": [
    "#### ANS 13:\n",
    "1.Presence of third-party modules <br>\n",
    "2.Extensive support libraries(NumPy for numerical calculations, Pandas for data analytics, etc.) <br>\n",
    "3.Open source and large active community base <br>\n",
    "4.Versatile, Easy to read, learn and write <br>\n",
    "5.User-friendly data structures"
   ]
  },
  {
   "cell_type": "markdown",
   "id": "51fdaf9d-7303-4f0f-97e1-bd0fbcaf8d2f",
   "metadata": {},
   "source": [
    "#### ANS 14:\n",
    "Python uses a portion of the memory for internal use and non-object memory. Another part of the memory is used for Python object such as int, dict, list, etc."
   ]
  },
  {
   "cell_type": "markdown",
   "id": "56001fa6-5c88-4b00-b7c0-01fcfd0c47d4",
   "metadata": {},
   "source": [
    "#### ANS 15:\n",
    "Python uses a portion of the memory for internal use and non-object memory. Another part of the memory is used for Python object such as int, dict, list, etc."
   ]
  },
  {
   "cell_type": "code",
   "execution_count": null,
   "id": "5b601aac-2893-4627-a3aa-2075f866acde",
   "metadata": {},
   "outputs": [],
   "source": []
  }
 ],
 "metadata": {
  "kernelspec": {
   "display_name": "Python 3 (ipykernel)",
   "language": "python",
   "name": "python3"
  },
  "language_info": {
   "codemirror_mode": {
    "name": "ipython",
    "version": 3
   },
   "file_extension": ".py",
   "mimetype": "text/x-python",
   "name": "python",
   "nbconvert_exporter": "python",
   "pygments_lexer": "ipython3",
   "version": "3.10.8"
  }
 },
 "nbformat": 4,
 "nbformat_minor": 5
}
