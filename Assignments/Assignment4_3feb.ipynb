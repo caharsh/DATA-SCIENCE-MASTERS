{
 "cells": [
  {
   "cell_type": "markdown",
   "id": "77ffa81b-a9f1-41fe-a66f-b05d36c01868",
   "metadata": {},
   "source": [
    "Q1 :\n",
    "def keyword is used to create a function in python"
   ]
  },
  {
   "cell_type": "code",
   "execution_count": 1,
   "id": "17909d3c-0588-444f-b632-5eb1a8de1cd6",
   "metadata": {},
   "outputs": [],
   "source": [
    "def Odd_no(n):\n",
    "    return [i for i in range(n) if i%2!=0]\n",
    "\n",
    "    # odd_lst = []\n",
    "    # for i in range(1,n):\n",
    "    #     if i % 2 != 0:\n",
    "    #         odd_lst.append(i)\n",
    "    # return odd_lst"
   ]
  },
  {
   "cell_type": "code",
   "execution_count": 25,
   "id": "7218885f-180e-4578-bb46-89a041d12c72",
   "metadata": {},
   "outputs": [
    {
     "data": {
      "text/plain": [
       "[1, 3, 5, 7, 9, 11, 13, 15, 17, 19, 21, 23]"
      ]
     },
     "execution_count": 25,
     "metadata": {},
     "output_type": "execute_result"
    }
   ],
   "source": [
    "Odd_no(25)"
   ]
  },
  {
   "cell_type": "markdown",
   "id": "f012a16d-30d4-4c44-8986-307a43fba121",
   "metadata": {},
   "source": [
    "Q2 :\n",
    "*args and **kwargs are special syntax in Python used to pass a variable number of arguments to a function. The *args parameter allows you to pass a variable number of non-keyword arguments to a function, while **kwargs allows you to pass a variable number of keyword arguments.\n",
    "\n",
    "The benefit of using '*args' is that they allow you to create more flexible and versatile functions that can handle different types and numbers of inputs. They are commonly used when you don't know exactly how many arguments you need to pass to a function in advance."
   ]
  },
  {
   "cell_type": "code",
   "execution_count": 35,
   "id": "cdda7e09-3482-46b6-84d8-ac5a83aa8d2d",
   "metadata": {},
   "outputs": [],
   "source": [
    "def typeis(*args):\n",
    "    for arg in args:\n",
    "        if type(arg) == list:\n",
    "            print('it is list')\n",
    "        elif type(arg) == int:\n",
    "            print('it is integer')\n",
    "        elif type(arg) == str:\n",
    "            print('it is string')\n",
    "        elif type(arg) == dict:\n",
    "            print('it is dictionary')\n"
   ]
  },
  {
   "cell_type": "code",
   "execution_count": 37,
   "id": "1287d89d-02a5-4f07-bf13-0868854e3113",
   "metadata": {},
   "outputs": [
    {
     "name": "stdout",
     "output_type": "stream",
     "text": [
      "it is integer\n",
      "it is integer\n",
      "it is integer\n",
      "it is integer\n",
      "it is string\n",
      "it is string\n",
      "it is list\n",
      "it is dictionary\n"
     ]
    }
   ],
   "source": [
    "typeis(1,2,3,4,'harsh','santosh',[1,2,3,4],{'a':1,'b':2})"
   ]
  },
  {
   "cell_type": "code",
   "execution_count": 3,
   "id": "49691fb2-3dd3-4d99-8ba5-411417e13e26",
   "metadata": {},
   "outputs": [
    {
     "name": "stdout",
     "output_type": "stream",
     "text": [
      "name John\n",
      "age 25\n",
      "city New York\n"
     ]
    }
   ],
   "source": [
    "def my_function(**kwargs):\n",
    "    for key, value in kwargs.items():\n",
    "        print(key,value)\n",
    "\n",
    "my_function(name='John', age=25, city='New York')"
   ]
  },
  {
   "cell_type": "code",
   "execution_count": null,
   "id": "24031793-c235-4395-9665-43c793d7833c",
   "metadata": {},
   "outputs": [],
   "source": []
  },
  {
   "cell_type": "markdown",
   "id": "bd573d5c-a507-4a2d-bc6c-38c0301366c5",
   "metadata": {},
   "source": [
    "Q3 :\n",
    "In Python, an iterator is an object that implements the iterator protocol, which consists of the __iter__() method and the __next__() method. It provides a way to access the elements of a collection one at a time, without exposing its underlying implementation.\n"
   ]
  },
  {
   "cell_type": "code",
   "execution_count": 16,
   "id": "f472b175-5244-4bbd-a77f-d568b7677ef3",
   "metadata": {},
   "outputs": [],
   "source": [
    "mylist = [2, 4, 6, 8, 10, 12, 14, 16, 18, 20]"
   ]
  },
  {
   "cell_type": "code",
   "execution_count": 17,
   "id": "c6826d3b-741a-41b5-a254-a2f12f73c305",
   "metadata": {},
   "outputs": [],
   "source": [
    "myit = iter(mylist) # creation of iter object"
   ]
  },
  {
   "cell_type": "code",
   "execution_count": 18,
   "id": "d1acc459-1d86-4e9a-ac64-2d0c955d2555",
   "metadata": {},
   "outputs": [
    {
     "name": "stdout",
     "output_type": "stream",
     "text": [
      "2\n",
      "4\n",
      "6\n",
      "8\n",
      "10\n"
     ]
    }
   ],
   "source": [
    "for i in range(5):\n",
    "    print(next(myit))"
   ]
  },
  {
   "cell_type": "code",
   "execution_count": null,
   "id": "d7736e95-11b9-41e5-94cd-fd8edff5fcc0",
   "metadata": {},
   "outputs": [],
   "source": []
  },
  {
   "cell_type": "markdown",
   "id": "575b14c8-0af2-42f6-9b40-8f1cceb2ca94",
   "metadata": {},
   "source": [
    "Q4 :\n",
    "In Python, a generator function is a special type of function that allows you to generate a sequence of values on the fly, without having to store them all in memory at once. It uses the yield keyword instead of return to return a value, and each time the yield statement is executed, the function's state is saved, allowing it to be resumed later on. <br>\n",
    "The yield keyword is used in a generator function to indicate that the function should return a value without exiting. yield generates output in functins without holding memory for it. It reminds the last outcome and works on that. "
   ]
  },
  {
   "cell_type": "code",
   "execution_count": 1,
   "id": "d5bca4ee-2109-4636-b7a4-c17af7a2cf72",
   "metadata": {},
   "outputs": [],
   "source": [
    "def fib(n):\n",
    "    a,b=0,1\n",
    "    for i in range(n):\n",
    "        yield a\n",
    "        a,b=b,a+b"
   ]
  },
  {
   "cell_type": "code",
   "execution_count": 10,
   "id": "bfde3208-873f-44ac-a50a-6ff121fd33db",
   "metadata": {},
   "outputs": [
    {
     "name": "stdout",
     "output_type": "stream",
     "text": [
      "<generator object fib at 0x7fc644291540>\n"
     ]
    }
   ],
   "source": [
    "my_generator = fib(5)\n",
    "print(my_generator)"
   ]
  },
  {
   "cell_type": "code",
   "execution_count": 11,
   "id": "14e4d0d1-daa6-4f13-8fff-ac19096eba0e",
   "metadata": {},
   "outputs": [
    {
     "name": "stdout",
     "output_type": "stream",
     "text": [
      "0\n",
      "1\n",
      "1\n",
      "2\n",
      "3\n"
     ]
    }
   ],
   "source": [
    "for val in my_generator:\n",
    "    print(val)"
   ]
  },
  {
   "cell_type": "code",
   "execution_count": null,
   "id": "0fb18f71-b926-4d9a-a63e-4b69934ff8ef",
   "metadata": {},
   "outputs": [],
   "source": [
    "Q5 :"
   ]
  },
  {
   "cell_type": "code",
   "execution_count": 27,
   "id": "cb6f10b5-92be-4ed0-a7f9-50a073ea8af8",
   "metadata": {},
   "outputs": [],
   "source": [
    "def prime_numbers():\n",
    "    for num in range(2, 1000):\n",
    "        for i in range(2, num):\n",
    "            if num % i == 0:\n",
    "                break\n",
    "        else:\n",
    "             yield num\n",
    "# prime_numbers()\n",
    "\n",
    "        \n",
    "        "
   ]
  },
  {
   "cell_type": "code",
   "execution_count": 28,
   "id": "8e965066-072a-4d42-bdfe-a5d411faea88",
   "metadata": {},
   "outputs": [
    {
     "name": "stdout",
     "output_type": "stream",
     "text": [
      "2\n",
      "3\n",
      "5\n",
      "7\n",
      "11\n",
      "13\n",
      "17\n",
      "19\n",
      "23\n",
      "29\n",
      "31\n",
      "37\n",
      "41\n",
      "43\n",
      "47\n",
      "53\n",
      "59\n",
      "61\n",
      "67\n",
      "71\n"
     ]
    }
   ],
   "source": [
    "#first 20 prime numbers\n",
    "prime_gen = prime_numbers()\n",
    "for i in range(20):\n",
    "    print(next(prime_gen))\n"
   ]
  },
  {
   "cell_type": "code",
   "execution_count": 33,
   "id": "36d3ef1f-38e5-43ba-b569-4ffb3946e882",
   "metadata": {},
   "outputs": [],
   "source": []
  },
  {
   "cell_type": "code",
   "execution_count": null,
   "id": "55ced986-eb73-4d2c-bd7f-aac63fab41dc",
   "metadata": {},
   "outputs": [],
   "source": []
  }
 ],
 "metadata": {
  "kernelspec": {
   "display_name": "Python 3 (ipykernel)",
   "language": "python",
   "name": "python3"
  },
  "language_info": {
   "codemirror_mode": {
    "name": "ipython",
    "version": 3
   },
   "file_extension": ".py",
   "mimetype": "text/x-python",
   "name": "python",
   "nbconvert_exporter": "python",
   "pygments_lexer": "ipython3",
   "version": "3.10.8"
  }
 },
 "nbformat": 4,
 "nbformat_minor": 5
}
