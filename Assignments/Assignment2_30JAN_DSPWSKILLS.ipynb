{
 "cells": [
  {
   "cell_type": "markdown",
   "id": "adb5965f-0965-4003-8714-b0737a2007b8",
   "metadata": {},
   "source": [
    "Q1 :"
   ]
  },
  {
   "cell_type": "code",
   "execution_count": 3,
   "id": "b82cf4f0-c2c9-4a0a-877f-fe6d014f652f",
   "metadata": {},
   "outputs": [
    {
     "name": "stdin",
     "output_type": "stream",
     "text": [
      "Enter Marks:  90\n"
     ]
    },
    {
     "name": "stdout",
     "output_type": "stream",
     "text": [
      "Grade B\n"
     ]
    }
   ],
   "source": [
    "marks = int(input(\"Enter Marks: \"))\n",
    "if marks > 90:\n",
    "    print('Grade A')\n",
    "elif marks > 80 and marks <= 90:\n",
    "    print('Grade B')\n",
    "elif marks >= 60 and marks <= 80:\n",
    "    print('Grade C')\n",
    "else:\n",
    "    print('Grade D')"
   ]
  },
  {
   "cell_type": "markdown",
   "id": "c405c115-caac-41af-8f75-0eee031217c6",
   "metadata": {},
   "source": [
    "Q2 : "
   ]
  },
  {
   "cell_type": "code",
   "execution_count": 6,
   "id": "fd6ab6c8-91fd-4764-8861-f8166700fcb8",
   "metadata": {},
   "outputs": [
    {
     "name": "stdin",
     "output_type": "stream",
     "text": [
      "Enter Cost Price:  100000\n"
     ]
    },
    {
     "name": "stdout",
     "output_type": "stream",
     "text": [
      "10000.0\n"
     ]
    }
   ],
   "source": [
    "cost_price = int(input(\"Enter Cost Price: \"))\n",
    "if cost_price > 100000:\n",
    "    roadtax_to_pay = (cost_price*0.15)\n",
    "    print(roadtax_to_pay)\n",
    "elif cost_price > 50000 and cost_price <= 100000:\n",
    "    roadtax_to_pay = (cost_price*0.10)\n",
    "    print(roadtax_to_pay)\n",
    "else:\n",
    "    roadtax_to_pay = (cost_price*0.05)\n",
    "    print(roadtax_to_pay)"
   ]
  },
  {
   "cell_type": "markdown",
   "id": "39e4f827-9b88-4e0b-a7dc-3ac5b767b7a6",
   "metadata": {},
   "source": [
    "Q3 :"
   ]
  },
  {
   "cell_type": "code",
   "execution_count": 8,
   "id": "b1615957-95bb-48b1-bb1d-010da3a01ae5",
   "metadata": {},
   "outputs": [
    {
     "name": "stdin",
     "output_type": "stream",
     "text": [
      "Enter City Name:  Delhi\n"
     ]
    },
    {
     "name": "stdout",
     "output_type": "stream",
     "text": [
      "Monument of Delhi is Red Fort\n"
     ]
    }
   ],
   "source": [
    "city = input('Enter City Name: ')\n",
    "if city == 'Delhi':\n",
    "    print(f'Monument of {city} is Red Fort')\n",
    "elif city == 'Agra':\n",
    "    print(f'Monument of {city} is Taj Mahal')\n",
    "elif city == 'Jaipur':\n",
    "    print(f'Monument of {city} is Jal Mahal')\n"
   ]
  },
  {
   "cell_type": "code",
   "execution_count": null,
   "id": "a3b615d0-d6f8-4a7f-869d-9d7bf20dd013",
   "metadata": {},
   "outputs": [],
   "source": []
  },
  {
   "cell_type": "markdown",
   "id": "8f8c152a-33ef-4fa2-b62f-6a39ceee5c31",
   "metadata": {},
   "source": [
    "Q4 :"
   ]
  },
  {
   "cell_type": "code",
   "execution_count": 13,
   "id": "198e74f9-4342-4708-935d-517aeb63a507",
   "metadata": {},
   "outputs": [
    {
     "name": "stdin",
     "output_type": "stream",
     "text": [
      "Enter a Number: 90\n"
     ]
    },
    {
     "name": "stdout",
     "output_type": "stream",
     "text": [
      "2\n"
     ]
    }
   ],
   "source": [
    "n = int(input('Enter a Number:'))\n",
    "count  = 0\n",
    "while n >=10 and n%3==0:\n",
    "    \n",
    "    n = n//3\n",
    "    count+=1\n",
    "print(count)\n",
    "    \n",
    "\n",
    "        \n"
   ]
  },
  {
   "cell_type": "markdown",
   "id": "f5044a0e-015e-48e4-9053-a85ee84b9b3c",
   "metadata": {},
   "source": [
    "Q5 :"
   ]
  },
  {
   "cell_type": "markdown",
   "id": "e842bf4e-4b28-493a-938c-b777caef2c9e",
   "metadata": {},
   "source": [
    "In python, while loop is used to run a block code until a certain condition is met. The process is evaluated until certain condition becomes false. While loop is certainly used when you don't know how many times you need to execute loop."
   ]
  },
  {
   "cell_type": "code",
   "execution_count": 1,
   "id": "5027a907-82d7-4ab1-9cdd-3f32551aec99",
   "metadata": {},
   "outputs": [
    {
     "name": "stdout",
     "output_type": "stream",
     "text": [
      "0\n",
      "1\n",
      "2\n",
      "3\n",
      "4\n",
      "5\n",
      "6\n",
      "7\n",
      "8\n",
      "9\n"
     ]
    }
   ],
   "source": [
    "# Initialize a counter variable\n",
    "count = 0\n",
    "\n",
    "# Loop until the counter reaches 10\n",
    "while count < 10:\n",
    "    print(count)\n",
    "    count += 1"
   ]
  },
  {
   "cell_type": "markdown",
   "id": "3b7d90bd-9f91-4b0a-92f8-e74abfe5d719",
   "metadata": {},
   "source": [
    "This while loop will print the values of count from 0 to 9. The loop continues to execute as long as the condition count < 10 is true. Inside the loop, we print the current value of count, and then increment count by 1 using the += operator. This continues until the value of count reaches 10, at which point the loop terminates."
   ]
  },
  {
   "cell_type": "markdown",
   "id": "85d5bd3a-6d37-4db7-98c1-f1ecfbdcc650",
   "metadata": {},
   "source": [
    "Q6 :"
   ]
  },
  {
   "cell_type": "markdown",
   "id": "253eb1af-bd63-4724-a92a-1e7c16e9ffe5",
   "metadata": {},
   "source": [
    "i) star pattern "
   ]
  },
  {
   "cell_type": "code",
   "execution_count": 15,
   "id": "5ecab8f2-38e5-476b-b16c-7a06bab784a5",
   "metadata": {},
   "outputs": [
    {
     "name": "stdin",
     "output_type": "stream",
     "text": [
      "Enter a number:  5\n"
     ]
    },
    {
     "name": "stdout",
     "output_type": "stream",
     "text": [
      "* \n",
      "\n",
      "* * \n",
      "\n",
      "* * * \n",
      "\n",
      "* * * * \n",
      "\n",
      "* * * * * \n",
      "\n"
     ]
    }
   ],
   "source": [
    "n = int(input('Enter a number: '))\n",
    "a = 0\n",
    "b = 0\n",
    "\n",
    "while a < n:\n",
    "    while b <= a:\n",
    "        print('*',end=' ')\n",
    "        b+=1\n",
    "    print('\\n')\n",
    "    a+=1\n",
    "    b=0\n",
    "    "
   ]
  },
  {
   "cell_type": "markdown",
   "id": "65ef6604-3939-4e5e-a360-9a481d71c51a",
   "metadata": {},
   "source": [
    "ii) star pattern 2"
   ]
  },
  {
   "cell_type": "code",
   "execution_count": 16,
   "id": "b341d758-a7eb-418f-9576-091025ee1d22",
   "metadata": {},
   "outputs": [
    {
     "name": "stdin",
     "output_type": "stream",
     "text": [
      "Enter a number:  5\n"
     ]
    },
    {
     "name": "stdout",
     "output_type": "stream",
     "text": [
      "* * * * * \n",
      "\n",
      "* * * * \n",
      "\n",
      "* * * \n",
      "\n",
      "* * \n",
      "\n",
      "* \n",
      "\n"
     ]
    }
   ],
   "source": [
    "# for i in range(5,0,-1):\n",
    "#     for j in range(i):\n",
    "#         print('*',end=' ')\n",
    "#     print('\\n')\n",
    "\n",
    "n = int(input('Enter a number: '))\n",
    "a = 0\n",
    "\n",
    "while n > 0:\n",
    "    while a < n:\n",
    "        print('*',end=' ')\n",
    "        a+=1\n",
    "    print('\\n')\n",
    "    n-=1\n",
    "    a=0\n",
    "    \n",
    "        \n",
    "    "
   ]
  },
  {
   "cell_type": "markdown",
   "id": "42d8580d-3e02-4a13-afbd-0af855eb1a51",
   "metadata": {},
   "source": [
    "iii) star pattern 3 : full pyramid"
   ]
  },
  {
   "cell_type": "code",
   "execution_count": 65,
   "id": "800bc044-a585-4749-915b-1af560b71f5d",
   "metadata": {},
   "outputs": [
    {
     "name": "stdin",
     "output_type": "stream",
     "text": [
      "Enter a number:  5\n"
     ]
    },
    {
     "name": "stdout",
     "output_type": "stream",
     "text": [
      "    * \n",
      "   * * \n",
      "  * * * \n",
      " * * * * \n",
      "* * * * * \n"
     ]
    }
   ],
   "source": [
    "n = int(input('Enter a number: '))\n",
    "\n",
    "for i in range(0,n):\n",
    "    for j in range(0,n-i-1):\n",
    "        print(end=' ')\n",
    "    for j in range(0,i+1):\n",
    "        print('*',end = ' ')\n",
    "    print()"
   ]
  },
  {
   "cell_type": "markdown",
   "id": "1acd2f18-4568-45bf-a427-67c867e593ce",
   "metadata": {},
   "source": [
    "iv) star pattern 4:\n",
    "    "
   ]
  },
  {
   "cell_type": "code",
   "execution_count": 66,
   "id": "e3f98877-35c6-4b6b-bedf-c1bc314d984c",
   "metadata": {},
   "outputs": [
    {
     "name": "stdin",
     "output_type": "stream",
     "text": [
      "Enter a number:  5\n"
     ]
    },
    {
     "name": "stdout",
     "output_type": "stream",
     "text": [
      "* * * * * \n",
      "  * * * * \n",
      "    * * * \n",
      "      * * \n",
      "        * \n"
     ]
    }
   ],
   "source": [
    "n = int(input('Enter a number: '))\n",
    "\n",
    "for i in range(0,n):\n",
    "    for j in range(0,n):\n",
    "        if j>=i:\n",
    "            print('*',end=' ')\n",
    "        else:\n",
    "            print(' ',end=' ')\n",
    "    print()\n",
    "    \n"
   ]
  },
  {
   "cell_type": "markdown",
   "id": "5c26c19a-01fa-4883-af84-d89bf14be489",
   "metadata": {},
   "source": [
    "Q7  and Q8 :\n"
   ]
  },
  {
   "cell_type": "code",
   "execution_count": 55,
   "id": "a920cd4d-6d97-4b79-b472-631500c0c56c",
   "metadata": {},
   "outputs": [
    {
     "name": "stdout",
     "output_type": "stream",
     "text": [
      "10\n",
      "9\n",
      "8\n",
      "7\n",
      "6\n",
      "5\n",
      "4\n",
      "3\n",
      "2\n",
      "1\n"
     ]
    }
   ],
   "source": [
    "n = 10\n",
    "while n > 0:\n",
    "    print(n)\n",
    "    n-=1"
   ]
  },
  {
   "cell_type": "code",
   "execution_count": null,
   "id": "2101a04a-badd-4159-a7b3-0301ec12ad3b",
   "metadata": {},
   "outputs": [],
   "source": [
    "\n",
    "    \n"
   ]
  },
  {
   "cell_type": "code",
   "execution_count": null,
   "id": "f79fa6b3-082f-49b0-b0dd-912c6b5166e7",
   "metadata": {},
   "outputs": [],
   "source": [
    "\n",
    "    "
   ]
  },
  {
   "cell_type": "code",
   "execution_count": null,
   "id": "60b54feb-908d-483e-bda8-bcb1b1715661",
   "metadata": {},
   "outputs": [],
   "source": []
  }
 ],
 "metadata": {
  "kernelspec": {
   "display_name": "Python 3 (ipykernel)",
   "language": "python",
   "name": "python3"
  },
  "language_info": {
   "codemirror_mode": {
    "name": "ipython",
    "version": 3
   },
   "file_extension": ".py",
   "mimetype": "text/x-python",
   "name": "python",
   "nbconvert_exporter": "python",
   "pygments_lexer": "ipython3",
   "version": "3.10.8"
  }
 },
 "nbformat": 4,
 "nbformat_minor": 5
}
