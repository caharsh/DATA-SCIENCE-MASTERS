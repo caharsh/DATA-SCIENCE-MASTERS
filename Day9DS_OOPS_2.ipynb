{
 "cells": [
  {
   "cell_type": "markdown",
   "id": "01a0b838-27be-4c1a-9af6-0594bc2641ad",
   "metadata": {},
   "source": [
    "# Decorators"
   ]
  },
  {
   "cell_type": "code",
   "execution_count": 1,
   "id": "219a5220-edc5-4a9d-8abe-31ab449676e0",
   "metadata": {},
   "outputs": [],
   "source": [
    "def test():\n",
    "    print('start of my fucn')\n",
    "    print(4+5)\n",
    "    print('end')\n",
    "    \n"
   ]
  },
  {
   "cell_type": "code",
   "execution_count": 2,
   "id": "67108744-6251-403c-9656-be8f7e125d78",
   "metadata": {},
   "outputs": [
    {
     "name": "stdout",
     "output_type": "stream",
     "text": [
      "start of my fucn\n",
      "9\n",
      "end\n"
     ]
    }
   ],
   "source": [
    "test()"
   ]
  },
  {
   "cell_type": "code",
   "execution_count": 4,
   "id": "a77a1d9f-0d11-45ca-8b97-1c9ef887b94a",
   "metadata": {},
   "outputs": [],
   "source": [
    "def deco(func):\n",
    "    def inner_deco():\n",
    "        print('start of my fucn')\n",
    "        func()\n",
    "        print('end')\n",
    "    return inner_deco\n",
    "        \n",
    "        "
   ]
  },
  {
   "cell_type": "code",
   "execution_count": 7,
   "id": "b47bee21-0d6f-4545-b9e0-91a73e23ba14",
   "metadata": {},
   "outputs": [],
   "source": [
    "@deco\n",
    "def test1():\n",
    "    print(4+5)"
   ]
  },
  {
   "cell_type": "code",
   "execution_count": 8,
   "id": "aa434db6-edd6-48a9-bbaf-868571ce6924",
   "metadata": {},
   "outputs": [
    {
     "name": "stdout",
     "output_type": "stream",
     "text": [
      "start of my fucn\n",
      "9\n",
      "end\n"
     ]
    }
   ],
   "source": [
    "test1()"
   ]
  },
  {
   "cell_type": "code",
   "execution_count": 9,
   "id": "ec745486-89bf-4afb-b41c-38ffd1065d52",
   "metadata": {},
   "outputs": [],
   "source": [
    "import time\n",
    "def timer_test(func):\n",
    "    def timer_inner():\n",
    "        start = time.time()\n",
    "        func()\n",
    "        end = time.time()\n",
    "        print(end - start)\n",
    "    return timer_inner"
   ]
  },
  {
   "cell_type": "code",
   "execution_count": 13,
   "id": "25d1687f-3cb6-4b65-91b6-8e69d3b4286e",
   "metadata": {},
   "outputs": [],
   "source": [
    "@timer_test\n",
    "def test2():\n",
    "    print(45+67)"
   ]
  },
  {
   "cell_type": "code",
   "execution_count": 14,
   "id": "b3ce3025-bc08-453f-81d8-f1081e600532",
   "metadata": {},
   "outputs": [
    {
     "name": "stdout",
     "output_type": "stream",
     "text": [
      "112\n",
      "4.482269287109375e-05\n"
     ]
    }
   ],
   "source": [
    "test2()"
   ]
  },
  {
   "cell_type": "code",
   "execution_count": 21,
   "id": "e1d7150d-0c1f-4b98-be27-10e3dc76c199",
   "metadata": {},
   "outputs": [],
   "source": [
    "@timer_test\n",
    "def test3():\n",
    "    for i in range(100000000):\n",
    "        pass"
   ]
  },
  {
   "cell_type": "code",
   "execution_count": 22,
   "id": "5be8d6fb-8872-4f4c-9afa-e5a6bff1f460",
   "metadata": {},
   "outputs": [
    {
     "name": "stdout",
     "output_type": "stream",
     "text": [
      "2.246962785720825\n"
     ]
    }
   ],
   "source": [
    "test3()"
   ]
  },
  {
   "cell_type": "markdown",
   "id": "fb642525-ba9f-453f-9b5c-da3ff5f626ab",
   "metadata": {},
   "source": [
    "# class method"
   ]
  },
  {
   "cell_type": "code",
   "execution_count": 1,
   "id": "8b26d33a-97e6-4d70-b2b0-d3830352094a",
   "metadata": {},
   "outputs": [],
   "source": [
    "class pwskills:\n",
    "    def __init__(self,name,email):\n",
    "        self.name = name\n",
    "        self.email = email\n",
    "    def student_details(self):\n",
    "        print(self.name,self.email)"
   ]
  },
  {
   "cell_type": "code",
   "execution_count": 2,
   "id": "20ebdb6a-0745-450a-a9cb-7f18243ca191",
   "metadata": {},
   "outputs": [],
   "source": [
    "pw = pwskills('harsh','ha@gmail.com')\n"
   ]
  },
  {
   "cell_type": "code",
   "execution_count": 3,
   "id": "953250a0-ff3c-4b72-a051-ec3bc95482aa",
   "metadata": {},
   "outputs": [
    {
     "data": {
      "text/plain": [
       "'harsh'"
      ]
     },
     "execution_count": 3,
     "metadata": {},
     "output_type": "execute_result"
    }
   ],
   "source": [
    "pw.name"
   ]
  },
  {
   "cell_type": "code",
   "execution_count": 4,
   "id": "547f6543-ee98-475b-b84b-418f049f7ef8",
   "metadata": {},
   "outputs": [
    {
     "data": {
      "text/plain": [
       "'ha@gmail.com'"
      ]
     },
     "execution_count": 4,
     "metadata": {},
     "output_type": "execute_result"
    }
   ],
   "source": [
    "pw.email"
   ]
  },
  {
   "cell_type": "code",
   "execution_count": 5,
   "id": "3131917e-8711-42a6-a815-1c80bdf6b61b",
   "metadata": {},
   "outputs": [
    {
     "name": "stdout",
     "output_type": "stream",
     "text": [
      "harsh ha@gmail.com\n"
     ]
    }
   ],
   "source": [
    "pw.student_details()"
   ]
  },
  {
   "cell_type": "code",
   "execution_count": 13,
   "id": "29dc44a7-b79f-4c95-a9e0-780886287969",
   "metadata": {},
   "outputs": [],
   "source": [
    "class pwskills1:\n",
    "    def __init__(self,name,email):\n",
    "        self.name = name\n",
    "        self.email = email\n",
    "        \n",
    "        \n",
    "    @classmethod\n",
    "    def details(cls, name1 , email1): #cls binds entire method to class\n",
    "        return cls(name1,email1)\n",
    "    \n",
    "    def student_details(self):\n",
    "        print(self.name,self.email)"
   ]
  },
  {
   "cell_type": "code",
   "execution_count": 14,
   "id": "3737a4d0-bd7e-4271-a221-7f840085a2c1",
   "metadata": {},
   "outputs": [],
   "source": [
    "pw1 = pwskills1.details('mohan','mog@gmail.com')"
   ]
  },
  {
   "cell_type": "code",
   "execution_count": 15,
   "id": "9ddd833e-bdcc-41f4-8be8-f28abf2bcdae",
   "metadata": {},
   "outputs": [
    {
     "data": {
      "text/plain": [
       "'mohan'"
      ]
     },
     "execution_count": 15,
     "metadata": {},
     "output_type": "execute_result"
    }
   ],
   "source": [
    "pw1.name"
   ]
  },
  {
   "cell_type": "code",
   "execution_count": 16,
   "id": "ac3f049d-4579-4535-be0d-1c4803e0c118",
   "metadata": {},
   "outputs": [
    {
     "data": {
      "text/plain": [
       "'mog@gmail.com'"
      ]
     },
     "execution_count": 16,
     "metadata": {},
     "output_type": "execute_result"
    }
   ],
   "source": [
    "pw1.email"
   ]
  },
  {
   "cell_type": "markdown",
   "id": "387275f1-eee2-43c4-a95f-ee500b346284",
   "metadata": {},
   "source": [
    "Indirect function overloading -  we are overloading init function with @classmethod (decorator)"
   ]
  },
  {
   "cell_type": "code",
   "execution_count": 17,
   "id": "3d37f35c-08f3-468f-ab10-d0a0f7f9c294",
   "metadata": {},
   "outputs": [
    {
     "name": "stdout",
     "output_type": "stream",
     "text": [
      "mohan mog@gmail.com\n"
     ]
    }
   ],
   "source": [
    "pw1.student_details()"
   ]
  },
  {
   "cell_type": "code",
   "execution_count": 36,
   "id": "195756cf-d1af-48c8-b65e-feb8cfc84dcb",
   "metadata": {},
   "outputs": [],
   "source": [
    "class pwskills2:\n",
    "    mobile_number = 7271837318\n",
    "    \n",
    "    def __init__(self,name,email):\n",
    "        self.name = name\n",
    "        self.email = email\n",
    "        \n",
    "    @classmethod\n",
    "    def change_number(cls,mobile):\n",
    "        pwskills2.mobile_number = mobile\n",
    "        \n",
    "    @classmethod\n",
    "    def details(cls, name1 , email1): #cls binds entire method to class   #class method\n",
    "        return cls(name1,email1)\n",
    "    \n",
    "    def student_details(self):                 #instance method \n",
    "        print(self.name,self.email,pwskills2.mobile_number)  "
   ]
  },
  {
   "cell_type": "code",
   "execution_count": 37,
   "id": "bc26db16-8cc9-44d0-bb3e-58ac7f5eb7c8",
   "metadata": {},
   "outputs": [
    {
     "data": {
      "text/plain": [
       "7271837318"
      ]
     },
     "execution_count": 37,
     "metadata": {},
     "output_type": "execute_result"
    }
   ],
   "source": [
    "pwskills2.mobile_number"
   ]
  },
  {
   "cell_type": "code",
   "execution_count": 38,
   "id": "f3a70e66-fa3a-47e6-ae57-e06858d042f9",
   "metadata": {},
   "outputs": [],
   "source": [
    "pwskills2.change_number(293729749) # with help of "
   ]
  },
  {
   "cell_type": "code",
   "execution_count": null,
   "id": "66a53167-651c-4605-a58b-c25d41c8af93",
   "metadata": {},
   "outputs": [],
   "source": []
  },
  {
   "cell_type": "code",
   "execution_count": 39,
   "id": "a25936ad-5d09-4f74-8114-f28903477160",
   "metadata": {},
   "outputs": [
    {
     "data": {
      "text/plain": [
       "293729749"
      ]
     },
     "execution_count": 39,
     "metadata": {},
     "output_type": "execute_result"
    }
   ],
   "source": [
    "pwskills2.mobile_number"
   ]
  },
  {
   "cell_type": "markdown",
   "id": "e1343ba3-a32c-4417-9742-a4625e850951",
   "metadata": {},
   "source": [
    "How I will be able to access mobile number inside student_details function or inside my class method?\n",
    "ANS : just pass variable name with classname inside fucntion (as in  print(pwskills2.mobile_number) in above code)"
   ]
  },
  {
   "cell_type": "code",
   "execution_count": null,
   "id": "36991f49-9137-49ec-8851-601b5b576651",
   "metadata": {},
   "outputs": [],
   "source": []
  },
  {
   "cell_type": "code",
   "execution_count": 22,
   "id": "45552de9-619f-4087-a5e9-1eb7274371d9",
   "metadata": {},
   "outputs": [],
   "source": [
    "pw2 = pwskills2.details('sohan','so@gmail.com')"
   ]
  },
  {
   "cell_type": "code",
   "execution_count": 23,
   "id": "167a8a72-813d-4c95-8f74-9e4e239269af",
   "metadata": {},
   "outputs": [
    {
     "name": "stdout",
     "output_type": "stream",
     "text": [
      "sohan so@gmail.com 7271837318\n"
     ]
    }
   ],
   "source": [
    "pw2.student_details()"
   ]
  },
  {
   "cell_type": "code",
   "execution_count": 24,
   "id": "d16f06af-2d84-4186-bda6-e2e89aa3e939",
   "metadata": {},
   "outputs": [],
   "source": [
    "pw2_obj = pwskills2('roahn','@gmail.com')"
   ]
  },
  {
   "cell_type": "code",
   "execution_count": 25,
   "id": "10885acd-e18a-46fe-97cd-70b46a524ea4",
   "metadata": {},
   "outputs": [
    {
     "name": "stdout",
     "output_type": "stream",
     "text": [
      "roahn @gmail.com 7271837318\n"
     ]
    }
   ],
   "source": [
    "pw2_obj.student_details()"
   ]
  },
  {
   "cell_type": "code",
   "execution_count": 26,
   "id": "027e7a7c-8172-4233-a60d-3600ece24c56",
   "metadata": {},
   "outputs": [],
   "source": [
    "#changing class varibale (mobile number)\n",
    "\n",
    "# change number fucntion using classmethod"
   ]
  },
  {
   "cell_type": "code",
   "execution_count": 40,
   "id": "d90f0b7e-bb1e-40e3-a667-c6825f5b3d2a",
   "metadata": {},
   "outputs": [],
   "source": [
    "pw2_obj = pwskills2('sohail','soh@gmail.com')"
   ]
  },
  {
   "cell_type": "code",
   "execution_count": 45,
   "id": "2cbb3c5b-cef9-46e9-b94b-2c0ca59a5c72",
   "metadata": {},
   "outputs": [
    {
     "data": {
      "text/plain": [
       "<__main__.pwskills2 at 0x7f220e6a8100>"
      ]
     },
     "execution_count": 45,
     "metadata": {},
     "output_type": "execute_result"
    }
   ],
   "source": [
    "pw2_obj.details('hahrss','dbshaj@gmail.com')"
   ]
  },
  {
   "cell_type": "code",
   "execution_count": 46,
   "id": "e709776a-b385-42b6-a3bf-364170585e23",
   "metadata": {},
   "outputs": [
    {
     "data": {
      "text/plain": [
       "'sohail'"
      ]
     },
     "execution_count": 46,
     "metadata": {},
     "output_type": "execute_result"
    }
   ],
   "source": [
    "pw2_obj.name"
   ]
  },
  {
   "cell_type": "code",
   "execution_count": 47,
   "id": "df97307e-115a-4067-bdd3-df8ddeea1a23",
   "metadata": {},
   "outputs": [],
   "source": [
    "pw2_obj.change_number(13863652178)"
   ]
  },
  {
   "cell_type": "code",
   "execution_count": 48,
   "id": "af2750e6-3518-4764-81c8-30e970739606",
   "metadata": {},
   "outputs": [
    {
     "data": {
      "text/plain": [
       "13863652178"
      ]
     },
     "execution_count": 48,
     "metadata": {},
     "output_type": "execute_result"
    }
   ],
   "source": [
    "pw2_obj.mobile_number"
   ]
  },
  {
   "cell_type": "code",
   "execution_count": 49,
   "id": "ee3cdd23-a528-486d-b455-42a4452cd9ba",
   "metadata": {},
   "outputs": [],
   "source": [
    "class pwskills3:\n",
    "    mobile_number = 7271837318\n",
    "    \n",
    "    def __init__(self,name,email):\n",
    "        self.name = name\n",
    "        self.email = email\n",
    "        \n",
    "    @classmethod\n",
    "    def change_number(cls,mobile):\n",
    "        pwskills2.mobile_number = mobile\n",
    "        \n",
    "    @classmethod\n",
    "    def details(cls, name1 , email1): #cls binds entire method to class   #class method\n",
    "        return cls(name1,email1)\n",
    "    \n",
    "    def student_details(self):                 #instance method \n",
    "        print(self.name,self.email,pwskills2.mobile_number)  "
   ]
  },
  {
   "cell_type": "code",
   "execution_count": 50,
   "id": "fe327a54-140d-4cc9-aa0c-e41ad2717512",
   "metadata": {},
   "outputs": [],
   "source": [
    "def course_details(cls,course_name):\n",
    "    print('course details',course_name)"
   ]
  },
  {
   "cell_type": "code",
   "execution_count": 52,
   "id": "03dff486-51a6-4864-bbcc-b26566df7b70",
   "metadata": {},
   "outputs": [],
   "source": [
    "\n",
    "# now add this function to above class : dynamic way"
   ]
  },
  {
   "cell_type": "code",
   "execution_count": 53,
   "id": "7c9634e1-89fd-4b8b-912e-a44cf10c73cf",
   "metadata": {},
   "outputs": [],
   "source": [
    "pwskills3.course_details = classmethod(course_details)"
   ]
  },
  {
   "cell_type": "code",
   "execution_count": 55,
   "id": "25d6fb83-a9a3-4719-baa1-19dae8123392",
   "metadata": {},
   "outputs": [
    {
     "name": "stdout",
     "output_type": "stream",
     "text": [
      "course details ds masters\n"
     ]
    }
   ],
   "source": [
    "pwskills3.course_details('ds masters')"
   ]
  },
  {
   "cell_type": "code",
   "execution_count": 56,
   "id": "edcfd2b4-fe07-4906-a4b6-f792e037a185",
   "metadata": {},
   "outputs": [],
   "source": [
    "pw3_obj =  pwskills3('harsh', 'sdnajk@gmail.com')"
   ]
  },
  {
   "cell_type": "code",
   "execution_count": 58,
   "id": "e1c71706-80ad-4cd5-9a66-31990b0e8bd0",
   "metadata": {},
   "outputs": [
    {
     "name": "stdout",
     "output_type": "stream",
     "text": [
      "course details webdev\n"
     ]
    }
   ],
   "source": [
    "pw3_obj.course_details('webdev')"
   ]
  },
  {
   "cell_type": "code",
   "execution_count": 59,
   "id": "f999b4e7-b208-4a4a-9945-11236cdd9983",
   "metadata": {},
   "outputs": [],
   "source": [
    "class pwskills4:\n",
    "    mobile_number = 7271837318\n",
    "    \n",
    "    def __init__(self,name,email):\n",
    "        self.name = name\n",
    "        self.email = email\n",
    "        \n",
    "    @classmethod\n",
    "    def change_number(cls,mobile):\n",
    "        pwskills2.mobile_number = mobile\n",
    "        \n",
    "    @classmethod\n",
    "    def details(cls, name1 , email1): #cls binds entire method to class   #class method\n",
    "        return cls(name1,email1)\n",
    "    \n",
    "    def student_details(self):                 #instance method \n",
    "        print(self.name,self.email,pwskills2.mobile_number)  "
   ]
  },
  {
   "cell_type": "code",
   "execution_count": 60,
   "id": "7ce5d2de-3532-4545-b382-74af03768dc8",
   "metadata": {},
   "outputs": [],
   "source": [
    "del pwskills4.change_number"
   ]
  },
  {
   "cell_type": "code",
   "execution_count": 61,
   "id": "372d480f-c9c8-472c-961c-e4dc89510cb8",
   "metadata": {},
   "outputs": [],
   "source": [
    "delattr(pwskills4,'details')"
   ]
  },
  {
   "cell_type": "code",
   "execution_count": 62,
   "id": "ca0a4ee3-daf5-4701-9cbd-d3e39d75f6da",
   "metadata": {},
   "outputs": [
    {
     "data": {
      "text/plain": [
       "7271837318"
      ]
     },
     "execution_count": 62,
     "metadata": {},
     "output_type": "execute_result"
    }
   ],
   "source": [
    "pwskills4.mobile_number"
   ]
  },
  {
   "cell_type": "code",
   "execution_count": 63,
   "id": "b88fa7b5-ff3c-41e8-8182-05dcd31fa9fc",
   "metadata": {},
   "outputs": [],
   "source": [
    "delattr(pwskills4,'mobile_number')"
   ]
  },
  {
   "cell_type": "code",
   "execution_count": 64,
   "id": "1640359e-669f-454e-b888-e70692e3df8f",
   "metadata": {},
   "outputs": [
    {
     "ename": "AttributeError",
     "evalue": "type object 'pwskills4' has no attribute 'mobile_number'",
     "output_type": "error",
     "traceback": [
      "\u001b[0;31m---------------------------------------------------------------------------\u001b[0m",
      "\u001b[0;31mAttributeError\u001b[0m                            Traceback (most recent call last)",
      "Cell \u001b[0;32mIn[64], line 1\u001b[0m\n\u001b[0;32m----> 1\u001b[0m \u001b[43mpwskills4\u001b[49m\u001b[38;5;241;43m.\u001b[39;49m\u001b[43mmobile_number\u001b[49m\n",
      "\u001b[0;31mAttributeError\u001b[0m: type object 'pwskills4' has no attribute 'mobile_number'"
     ]
    }
   ],
   "source": [
    "pwskills4.mobile_number"
   ]
  },
  {
   "cell_type": "code",
   "execution_count": null,
   "id": "ec5ebea2-503c-48d1-b455-75b71c149713",
   "metadata": {},
   "outputs": [],
   "source": []
  },
  {
   "cell_type": "markdown",
   "id": "cc2c79a4-0ade-4191-b4b8-89c7ac3e218a",
   "metadata": {},
   "source": [
    "# static method"
   ]
  },
  {
   "cell_type": "code",
   "execution_count": 69,
   "id": "7a0d05f9-1d1f-47d1-8979-964810d09c8e",
   "metadata": {},
   "outputs": [],
   "source": [
    "class pwskills:\n",
    "    def student_details(self,name,mail,number):\n",
    "        print(name,mail,number)"
   ]
  },
  {
   "cell_type": "code",
   "execution_count": 70,
   "id": "1577fd0d-1e79-4566-9e01-72233887c5db",
   "metadata": {},
   "outputs": [
    {
     "ename": "TypeError",
     "evalue": "pwskills() takes no arguments",
     "output_type": "error",
     "traceback": [
      "\u001b[0;31m---------------------------------------------------------------------------\u001b[0m",
      "\u001b[0;31mTypeError\u001b[0m                                 Traceback (most recent call last)",
      "Cell \u001b[0;32mIn[70], line 1\u001b[0m\n\u001b[0;32m----> 1\u001b[0m pw \u001b[38;5;241m=\u001b[39m \u001b[43mpwskills\u001b[49m\u001b[43m(\u001b[49m\u001b[38;5;124;43m'\u001b[39;49m\u001b[38;5;124;43mharsh\u001b[39;49m\u001b[38;5;124;43m'\u001b[39;49m\u001b[43m,\u001b[49m\u001b[38;5;124;43m'\u001b[39;49m\u001b[38;5;124;43m@g.com\u001b[39;49m\u001b[38;5;124;43m'\u001b[39;49m\u001b[43m,\u001b[49m\u001b[38;5;241;43m378264\u001b[39;49m\u001b[43m)\u001b[49m\n",
      "\u001b[0;31mTypeError\u001b[0m: pwskills() takes no arguments"
     ]
    }
   ],
   "source": [
    "pw = pwskills('harsh','@g.com',378264)"
   ]
  },
  {
   "cell_type": "code",
   "execution_count": 67,
   "id": "02868a0b-c9a6-455a-9358-4a255bddb8a0",
   "metadata": {},
   "outputs": [
    {
     "data": {
      "text/plain": [
       "<__main__.pwskills at 0x7f220e6abdf0>"
      ]
     },
     "execution_count": 67,
     "metadata": {},
     "output_type": "execute_result"
    }
   ],
   "source": [
    "pw"
   ]
  },
  {
   "cell_type": "code",
   "execution_count": null,
   "id": "239ce71b-40d9-4dcd-9d94-f1e3b3d64327",
   "metadata": {},
   "outputs": [],
   "source": []
  },
  {
   "cell_type": "code",
   "execution_count": null,
   "id": "0ffe4ff0-9c1a-4e52-8ccc-637f4bd0a6c3",
   "metadata": {},
   "outputs": [],
   "source": []
  },
  {
   "cell_type": "code",
   "execution_count": null,
   "id": "b95f69c9-7ddb-46ef-ac36-1c0244375762",
   "metadata": {},
   "outputs": [],
   "source": []
  },
  {
   "cell_type": "code",
   "execution_count": null,
   "id": "5901ba56-e78f-45cd-bdb9-3553013a0d04",
   "metadata": {},
   "outputs": [],
   "source": []
  },
  {
   "cell_type": "code",
   "execution_count": null,
   "id": "c0863177-3e47-437b-9e75-3d147637233f",
   "metadata": {},
   "outputs": [],
   "source": []
  },
  {
   "cell_type": "code",
   "execution_count": null,
   "id": "9d1937ea-a3f8-4709-8df3-f56dcf6ee381",
   "metadata": {},
   "outputs": [],
   "source": []
  },
  {
   "cell_type": "code",
   "execution_count": null,
   "id": "8d89d90f-d8ba-49db-a08b-49477a18a271",
   "metadata": {},
   "outputs": [],
   "source": []
  },
  {
   "cell_type": "code",
   "execution_count": null,
   "id": "095d3091-f8d8-4502-9f50-6818ed183d21",
   "metadata": {},
   "outputs": [],
   "source": []
  },
  {
   "cell_type": "code",
   "execution_count": null,
   "id": "5c4bb2ad-bbfd-41e9-b812-0bfd7dc78642",
   "metadata": {},
   "outputs": [],
   "source": []
  },
  {
   "cell_type": "code",
   "execution_count": null,
   "id": "bb5a64ae-7f7e-4698-82ef-98d6ff2e03ca",
   "metadata": {},
   "outputs": [],
   "source": []
  },
  {
   "cell_type": "code",
   "execution_count": null,
   "id": "542abeb6-45d0-46d1-91dc-5bfbf5806fab",
   "metadata": {},
   "outputs": [],
   "source": []
  },
  {
   "cell_type": "code",
   "execution_count": null,
   "id": "52b111d4-151a-4d6b-9d2e-1dae49704623",
   "metadata": {},
   "outputs": [],
   "source": []
  }
 ],
 "metadata": {
  "kernelspec": {
   "display_name": "Python 3 (ipykernel)",
   "language": "python",
   "name": "python3"
  },
  "language_info": {
   "codemirror_mode": {
    "name": "ipython",
    "version": 3
   },
   "file_extension": ".py",
   "mimetype": "text/x-python",
   "name": "python",
   "nbconvert_exporter": "python",
   "pygments_lexer": "ipython3",
   "version": "3.10.8"
  }
 },
 "nbformat": 4,
 "nbformat_minor": 5
}
