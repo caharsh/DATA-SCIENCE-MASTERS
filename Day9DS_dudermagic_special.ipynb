{
 "cells": [
  {
   "cell_type": "code",
   "execution_count": 5,
   "id": "61cfd284-81a0-4435-a759-0b68f261d92d",
   "metadata": {},
   "outputs": [
    {
     "data": {
      "text/plain": [
       "['__abs__',\n",
       " '__add__',\n",
       " '__and__',\n",
       " '__bool__',\n",
       " '__ceil__',\n",
       " '__class__',\n",
       " '__delattr__',\n",
       " '__dir__',\n",
       " '__divmod__',\n",
       " '__doc__',\n",
       " '__eq__',\n",
       " '__float__',\n",
       " '__floor__',\n",
       " '__floordiv__',\n",
       " '__format__',\n",
       " '__ge__',\n",
       " '__getattribute__',\n",
       " '__getnewargs__',\n",
       " '__gt__',\n",
       " '__hash__',\n",
       " '__index__',\n",
       " '__init__',\n",
       " '__init_subclass__',\n",
       " '__int__',\n",
       " '__invert__',\n",
       " '__le__',\n",
       " '__lshift__',\n",
       " '__lt__',\n",
       " '__mod__',\n",
       " '__mul__',\n",
       " '__ne__',\n",
       " '__neg__',\n",
       " '__new__',\n",
       " '__or__',\n",
       " '__pos__',\n",
       " '__pow__',\n",
       " '__radd__',\n",
       " '__rand__',\n",
       " '__rdivmod__',\n",
       " '__reduce__',\n",
       " '__reduce_ex__',\n",
       " '__repr__',\n",
       " '__rfloordiv__',\n",
       " '__rlshift__',\n",
       " '__rmod__',\n",
       " '__rmul__',\n",
       " '__ror__',\n",
       " '__round__',\n",
       " '__rpow__',\n",
       " '__rrshift__',\n",
       " '__rshift__',\n",
       " '__rsub__',\n",
       " '__rtruediv__',\n",
       " '__rxor__',\n",
       " '__setattr__',\n",
       " '__sizeof__',\n",
       " '__str__',\n",
       " '__sub__',\n",
       " '__subclasshook__',\n",
       " '__truediv__',\n",
       " '__trunc__',\n",
       " '__xor__',\n",
       " 'as_integer_ratio',\n",
       " 'bit_count',\n",
       " 'bit_length',\n",
       " 'conjugate',\n",
       " 'denominator',\n",
       " 'from_bytes',\n",
       " 'imag',\n",
       " 'numerator',\n",
       " 'real',\n",
       " 'to_bytes']"
      ]
     },
     "execution_count": 5,
     "metadata": {},
     "output_type": "execute_result"
    }
   ],
   "source": [
    "dir(int) #magic function or dunder methods"
   ]
  },
  {
   "cell_type": "code",
   "execution_count": 6,
   "id": "de28500a-7c4d-4522-ac47-aa59d6bdce04",
   "metadata": {},
   "outputs": [
    {
     "data": {
      "text/plain": [
       "16"
      ]
     },
     "execution_count": 6,
     "metadata": {},
     "output_type": "execute_result"
    }
   ],
   "source": [
    "a = 10\n",
    "a+6"
   ]
  },
  {
   "cell_type": "code",
   "execution_count": 7,
   "id": "eb095ff1-8cc0-482b-a663-feb8e12e5f26",
   "metadata": {},
   "outputs": [
    {
     "data": {
      "text/plain": [
       "16"
      ]
     },
     "execution_count": 7,
     "metadata": {},
     "output_type": "execute_result"
    }
   ],
   "source": [
    "a.__add__(6)"
   ]
  },
  {
   "cell_type": "code",
   "execution_count": 11,
   "id": "596e8378-f3da-4203-8173-ef115d4edb14",
   "metadata": {},
   "outputs": [],
   "source": [
    "class pwskills:\n",
    "    \n",
    "    def __new__(cls) :\n",
    "        print('This is my new')\n",
    "        \n",
    "    def __init__(self):\n",
    "        print('This is my init')\n",
    "        "
   ]
  },
  {
   "cell_type": "code",
   "execution_count": 12,
   "id": "1be1ca1c-d5ae-48c0-8869-fef1bac5389a",
   "metadata": {},
   "outputs": [
    {
     "name": "stdout",
     "output_type": "stream",
     "text": [
      "This is my new\n"
     ]
    }
   ],
   "source": [
    "pw = pwskills()"
   ]
  },
  {
   "cell_type": "markdown",
   "id": "fcc0b54f-c6a7-4c1e-a890-e46dae858448",
   "metadata": {},
   "source": [
    "before init, system is trying to call __new__ internally."
   ]
  },
  {
   "cell_type": "code",
   "execution_count": 27,
   "id": "fd38026d-ac26-4189-9e00-c5f2b784094f",
   "metadata": {},
   "outputs": [],
   "source": [
    "class pwskills1:\n",
    "    def __init__(self) :\n",
    "        self.mobile_number = 8932853344\n",
    "        \n",
    "    def __str__(self):\n",
    "        return 'this is a magic method which will print something for an object'\n",
    "        \n",
    "    "
   ]
  },
  {
   "cell_type": "code",
   "execution_count": 28,
   "id": "93825280-bfb3-4dea-ba63-eed4979a8079",
   "metadata": {},
   "outputs": [],
   "source": [
    "pw1 = pwskills1()"
   ]
  },
  {
   "cell_type": "code",
   "execution_count": 29,
   "id": "adef54c9-18c0-4012-a6b0-08056cf3f5c4",
   "metadata": {},
   "outputs": [
    {
     "data": {
      "text/plain": [
       "<__main__.pwskills1 at 0x7fb9840fdff0>"
      ]
     },
     "execution_count": 29,
     "metadata": {},
     "output_type": "execute_result"
    }
   ],
   "source": [
    "pw1 # output as memory location hexadecimal code"
   ]
  },
  {
   "cell_type": "code",
   "execution_count": 30,
   "id": "891b4e6b-7f6a-4172-b752-4c671c0abd11",
   "metadata": {},
   "outputs": [
    {
     "name": "stdout",
     "output_type": "stream",
     "text": [
      "this is a magic method which will print something for an object\n"
     ]
    }
   ],
   "source": [
    "print(pw1) #overriding "
   ]
  },
  {
   "cell_type": "markdown",
   "id": "5bf13464-0d7b-4585-8db3-08cd787dd1d1",
   "metadata": {},
   "source": [
    "# Property Decorators"
   ]
  },
  {
   "cell_type": "code",
   "execution_count": 29,
   "id": "04d210a7-3d84-4071-bfb0-44a42dc73826",
   "metadata": {},
   "outputs": [],
   "source": [
    "class pwskills:\n",
    "    def __init__(self,course_price,course_name):\n",
    "        self.__course_price = course_price        # private variables\n",
    "        self.course_name  = course_name\n",
    "    \n",
    "    #priviledge to external user for accessing private/protected info\n",
    "    \n",
    "    @property\n",
    "    def course_price_access(self):\n",
    "        return self.__course_price\n",
    "    \n",
    "    #    #priviledge to external user for modifying private/protected info using @property decorator\n",
    "\n",
    "    \n",
    "    @course_price_access.setter\n",
    "    def course_price_set(self,price):\n",
    "        if price <= 3500:\n",
    "            pass\n",
    "        else:\n",
    "            self.__course_price = price\n",
    "            \n",
    "            \n",
    "    #priviledge to external user for deleting private/protected info\n",
    "    @course_price_access.deleter\n",
    "    def course_price_delete(self):\n",
    "        del self.__course_price\n",
    "\n",
    "        \n",
    "         \n",
    "        "
   ]
  },
  {
   "cell_type": "code",
   "execution_count": 30,
   "id": "4dc22745-ccd7-4c36-a05d-2480e46df92f",
   "metadata": {},
   "outputs": [],
   "source": [
    "pw = pwskills(3500,'dsmasters')"
   ]
  },
  {
   "cell_type": "code",
   "execution_count": 3,
   "id": "4835db10-b3ad-43b2-b8c9-ad0aa23d1a11",
   "metadata": {},
   "outputs": [
    {
     "data": {
      "text/plain": [
       "'dsmasters'"
      ]
     },
     "execution_count": 3,
     "metadata": {},
     "output_type": "execute_result"
    }
   ],
   "source": [
    "pw.course_name"
   ]
  },
  {
   "cell_type": "code",
   "execution_count": 5,
   "id": "eb401864-ba63-425f-b46d-4e4ca0c3f29e",
   "metadata": {},
   "outputs": [
    {
     "data": {
      "text/plain": [
       "3500"
      ]
     },
     "execution_count": 5,
     "metadata": {},
     "output_type": "execute_result"
    }
   ],
   "source": [
    "pw._pwskills__course_price"
   ]
  },
  {
   "cell_type": "markdown",
   "id": "4691b5f6-2765-4bc0-baa8-85e28ecf12d2",
   "metadata": {},
   "source": [
    "as a creator of the class, I am able to understand that i have course_price, a private variable and i can access it using class name but as a outsider, i don't have any single idea about private variables inside class"
   ]
  },
  {
   "cell_type": "markdown",
   "id": "d505305e-f492-4da0-8e84-88ee490511fc",
   "metadata": {},
   "source": [
    "@property decorator says that with help of me, you will be able to access class information but not direcly the class variables, it will be through a defined method/function"
   ]
  },
  {
   "cell_type": "code",
   "execution_count": 14,
   "id": "e1c3d78b-11a1-4532-b12a-3cb1a3f451f8",
   "metadata": {},
   "outputs": [
    {
     "data": {
      "text/plain": [
       "3500"
      ]
     },
     "execution_count": 14,
     "metadata": {},
     "output_type": "execute_result"
    }
   ],
   "source": [
    "pw.course_price_access"
   ]
  },
  {
   "cell_type": "code",
   "execution_count": 27,
   "id": "91cfd983-9f78-457e-8934-4ec7e0a3da02",
   "metadata": {},
   "outputs": [],
   "source": [
    "pw.course_price_set = 4000\n"
   ]
  },
  {
   "cell_type": "code",
   "execution_count": 28,
   "id": "ce2bbc37-9703-4b5d-a962-d131a7310480",
   "metadata": {},
   "outputs": [
    {
     "data": {
      "text/plain": [
       "4000"
      ]
     },
     "execution_count": 28,
     "metadata": {},
     "output_type": "execute_result"
    }
   ],
   "source": [
    "pw.course_price_access"
   ]
  },
  {
   "cell_type": "code",
   "execution_count": 32,
   "id": "d87b5803-7683-4ee1-9b01-e2ba73a88b1a",
   "metadata": {},
   "outputs": [],
   "source": [
    "del pw.course_price_delete"
   ]
  },
  {
   "cell_type": "code",
   "execution_count": 33,
   "id": "70a37ced-055d-46da-a407-a6c440598dee",
   "metadata": {},
   "outputs": [
    {
     "ename": "AttributeError",
     "evalue": "'pwskills' object has no attribute '_pwskills__course_price'",
     "output_type": "error",
     "traceback": [
      "\u001b[0;31m---------------------------------------------------------------------------\u001b[0m",
      "\u001b[0;31mAttributeError\u001b[0m                            Traceback (most recent call last)",
      "Cell \u001b[0;32mIn[33], line 1\u001b[0m\n\u001b[0;32m----> 1\u001b[0m \u001b[43mpw\u001b[49m\u001b[38;5;241;43m.\u001b[39;49m\u001b[43mcourse_price_access\u001b[49m\n",
      "Cell \u001b[0;32mIn[29], line 10\u001b[0m, in \u001b[0;36mpwskills.course_price_access\u001b[0;34m(self)\u001b[0m\n\u001b[1;32m      8\u001b[0m \u001b[38;5;129m@property\u001b[39m\n\u001b[1;32m      9\u001b[0m \u001b[38;5;28;01mdef\u001b[39;00m \u001b[38;5;21mcourse_price_access\u001b[39m(\u001b[38;5;28mself\u001b[39m):\n\u001b[0;32m---> 10\u001b[0m     \u001b[38;5;28;01mreturn\u001b[39;00m \u001b[38;5;28;43mself\u001b[39;49m\u001b[38;5;241;43m.\u001b[39;49m\u001b[43m__course_price\u001b[49m\n",
      "\u001b[0;31mAttributeError\u001b[0m: 'pwskills' object has no attribute '_pwskills__course_price'"
     ]
    }
   ],
   "source": [
    "pw.course_price_access"
   ]
  },
  {
   "cell_type": "markdown",
   "id": "10e0c4da-915c-4b51-8f09-7fed470cbbf0",
   "metadata": {},
   "source": [
    "error because of successful deletion of course_price - a private info"
   ]
  },
  {
   "cell_type": "code",
   "execution_count": null,
   "id": "c2dec7f4-05fb-4433-b63e-bf2cfa42bd66",
   "metadata": {},
   "outputs": [],
   "source": []
  },
  {
   "cell_type": "code",
   "execution_count": null,
   "id": "f56d3121-4366-43ba-a39c-045b74676fde",
   "metadata": {},
   "outputs": [],
   "source": []
  },
  {
   "cell_type": "code",
   "execution_count": null,
   "id": "6b443b3d-fddb-4dd1-84b4-2341fb248682",
   "metadata": {},
   "outputs": [],
   "source": []
  },
  {
   "cell_type": "code",
   "execution_count": null,
   "id": "d0ac6282-63ec-4e54-9012-18628f45eefb",
   "metadata": {},
   "outputs": [],
   "source": []
  },
  {
   "cell_type": "code",
   "execution_count": null,
   "id": "f088865d-6bb3-486c-b6ca-f67c2977eef1",
   "metadata": {},
   "outputs": [],
   "source": []
  },
  {
   "cell_type": "code",
   "execution_count": null,
   "id": "731a0f8f-7b45-4b43-87b1-4ec4474cf97c",
   "metadata": {},
   "outputs": [],
   "source": []
  },
  {
   "cell_type": "code",
   "execution_count": null,
   "id": "b84d456e-2b74-46cf-9b95-a498bab41638",
   "metadata": {},
   "outputs": [],
   "source": []
  },
  {
   "cell_type": "code",
   "execution_count": null,
   "id": "3c3fc93b-aad1-4ceb-b19c-e37d1968a274",
   "metadata": {},
   "outputs": [],
   "source": []
  }
 ],
 "metadata": {
  "kernelspec": {
   "display_name": "Python 3 (ipykernel)",
   "language": "python",
   "name": "python3"
  },
  "language_info": {
   "codemirror_mode": {
    "name": "ipython",
    "version": 3
   },
   "file_extension": ".py",
   "mimetype": "text/x-python",
   "name": "python",
   "nbconvert_exporter": "python",
   "pygments_lexer": "ipython3",
   "version": "3.10.8"
  }
 },
 "nbformat": 4,
 "nbformat_minor": 5
}
