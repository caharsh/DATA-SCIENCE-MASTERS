{
 "cells": [
  {
   "cell_type": "code",
   "execution_count": 1,
   "id": "8411e2b2-2408-480f-9cb5-cba6dcf9fd76",
   "metadata": {},
   "outputs": [],
   "source": [
    "class pwskills:\n",
    "    def student_details(self,name,mail,number):\n",
    "        print(name,mail,number)"
   ]
  },
  {
   "cell_type": "code",
   "execution_count": 2,
   "id": "f4b55651-f694-4966-a7cd-d35ed2b9762e",
   "metadata": {},
   "outputs": [],
   "source": [
    "pw = pwskills()"
   ]
  },
  {
   "cell_type": "code",
   "execution_count": 3,
   "id": "c1684692-dfc7-4087-95bd-b5dffdfb0fc0",
   "metadata": {},
   "outputs": [
    {
     "data": {
      "text/plain": [
       "<__main__.pwskills at 0x7f462296a080>"
      ]
     },
     "execution_count": 3,
     "metadata": {},
     "output_type": "execute_result"
    }
   ],
   "source": [
    "pw"
   ]
  },
  {
   "cell_type": "code",
   "execution_count": 4,
   "id": "0575dddf-63ce-4448-b365-be7ab81f9b38",
   "metadata": {},
   "outputs": [
    {
     "name": "stdout",
     "output_type": "stream",
     "text": [
      "harsh harsh@g.com 38927\n"
     ]
    }
   ],
   "source": [
    "pw.student_details('harsh','harsh@g.com',38927)"
   ]
  },
  {
   "cell_type": "code",
   "execution_count": 20,
   "id": "3cb54222-079b-49fd-8166-4333ad4712b3",
   "metadata": {},
   "outputs": [],
   "source": [
    "class pwskills1:\n",
    "    def student_details(self,name,mail,number):\n",
    "        print(name,mail,number)\n",
    "        \n",
    "    @staticmethod\n",
    "    def mentor_class(list_mentor):\n",
    "        print(list_mentor)\n",
    "        \n",
    "    def mentor(self,mentor_list):\n",
    "        print(mentor_list)"
   ]
  },
  {
   "cell_type": "code",
   "execution_count": 21,
   "id": "ad095532-7392-4b19-8988-b9286171d695",
   "metadata": {},
   "outputs": [
    {
     "name": "stdout",
     "output_type": "stream",
     "text": [
      "['harsh', 'sudh']\n"
     ]
    }
   ],
   "source": [
    "pwskills1.mentor_class(['harsh','sudh'])"
   ]
  },
  {
   "cell_type": "code",
   "execution_count": 22,
   "id": "37c700c3-3edb-47b4-bb78-742dca2556bb",
   "metadata": {},
   "outputs": [],
   "source": [
    "pw1 = pwskills1()"
   ]
  },
  {
   "cell_type": "code",
   "execution_count": 23,
   "id": "8675a4a8-41a7-4868-8ed3-6a588d7d0d02",
   "metadata": {},
   "outputs": [
    {
     "name": "stdout",
     "output_type": "stream",
     "text": [
      "['anna', 'akash']\n"
     ]
    }
   ],
   "source": [
    "pw1.mentor(['anna','akash'])"
   ]
  },
  {
   "cell_type": "code",
   "execution_count": 24,
   "id": "dcd3b1ac-4939-4970-b8c0-49a926999f0b",
   "metadata": {},
   "outputs": [
    {
     "name": "stdout",
     "output_type": "stream",
     "text": [
      "['sufh', 'nayak']\n"
     ]
    }
   ],
   "source": [
    "pw1.mentor_class(['sufh','nayak'])"
   ]
  },
  {
   "cell_type": "code",
   "execution_count": 31,
   "id": "ad2e4a1a-7d1c-4e04-ac48-0f7869ec1f20",
   "metadata": {},
   "outputs": [],
   "source": [
    "class pwskills1:\n",
    "    def student_details(self,name,mail,number):\n",
    "        print(name,mail,number)\n",
    "        \n",
    "    @staticmethod\n",
    "    def mentor_mail_id(mail_id):\n",
    "        print(mail_id)\n",
    "        \n",
    "    @staticmethod\n",
    "    def mentor_class(list_mentor):\n",
    "        print(list_mentor)\n",
    "        pwskills1.mentor_mail_id(['harsh@g.com','krish@g.com'])     # calling static method (mentor_class) in static method (mentor_class)\n",
    "\n",
    "        \n",
    "    # calling static method (mentor_class) in class method (pwskills1)\n",
    "        \n",
    "    @classmethod            \n",
    "    def class_name(cls,class_name):\n",
    "        cls.mentor_class(['harshs','tabkfe'])\n",
    "        \n",
    "        \n",
    "    # calling static method (mentor_class) in instance method (mentor)\n",
    "    \n",
    "    def mentor(self,mentor_list):\n",
    "        print(mentor_list)\n",
    "        self.mentor_class(['harsh','tanp'])"
   ]
  },
  {
   "cell_type": "code",
   "execution_count": 32,
   "id": "cbed6ab2-f5c4-4b15-a1d4-c645daaa90f6",
   "metadata": {},
   "outputs": [],
   "source": [
    "pw1 = pwskills1()"
   ]
  },
  {
   "cell_type": "code",
   "execution_count": 34,
   "id": "a3859e8f-38ee-4401-95c2-157fce21d962",
   "metadata": {},
   "outputs": [
    {
     "name": "stdout",
     "output_type": "stream",
     "text": [
      "harsh g.vom 7942\n"
     ]
    }
   ],
   "source": [
    "pw1.student_details('harsh','g.vom',7942)"
   ]
  },
  {
   "cell_type": "code",
   "execution_count": 37,
   "id": "986606f4-2890-4d9f-8b7a-4dbd0a824370",
   "metadata": {},
   "outputs": [
    {
     "name": "stdout",
     "output_type": "stream",
     "text": [
      "['a@g.com', 'b@g.com']\n"
     ]
    }
   ],
   "source": [
    "pw1.mentor_mail_id(['a@g.com','b@g.com'])"
   ]
  },
  {
   "cell_type": "code",
   "execution_count": 38,
   "id": "63f64bcc-5931-4638-a4a6-67b6c5f67078",
   "metadata": {},
   "outputs": [
    {
     "name": "stdout",
     "output_type": "stream",
     "text": [
      "['harshs', 'tabkfe']\n",
      "['harsh@g.com', 'krish@g.com']\n"
     ]
    }
   ],
   "source": [
    "pw1.class_name('dsmaster')"
   ]
  },
  {
   "cell_type": "code",
   "execution_count": 41,
   "id": "9d714f1c-58f3-42d5-9252-ce6dddada10f",
   "metadata": {},
   "outputs": [
    {
     "name": "stdout",
     "output_type": "stream",
     "text": [
      "['krsih@g.com', 'sudh@g.com']\n"
     ]
    }
   ],
   "source": [
    "pwskills1.mentor_mail_id(['krsih@g.com','sudh@g.com'])"
   ]
  },
  {
   "cell_type": "code",
   "execution_count": null,
   "id": "c800de30-4ab1-4999-815c-df6aae8f6dd8",
   "metadata": {},
   "outputs": [],
   "source": []
  }
 ],
 "metadata": {
  "kernelspec": {
   "display_name": "Python 3 (ipykernel)",
   "language": "python",
   "name": "python3"
  },
  "language_info": {
   "codemirror_mode": {
    "name": "ipython",
    "version": 3
   },
   "file_extension": ".py",
   "mimetype": "text/x-python",
   "name": "python",
   "nbconvert_exporter": "python",
   "pygments_lexer": "ipython3",
   "version": "3.10.8"
  }
 },
 "nbformat": 4,
 "nbformat_minor": 5
}
