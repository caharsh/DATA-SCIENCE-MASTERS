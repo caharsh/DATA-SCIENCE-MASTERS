{
 "cells": [
  {
   "cell_type": "markdown",
   "id": "ae140135-8d31-4d7d-93c2-1c91fd97b64a",
   "metadata": {},
   "source": [
    "# Tuples - immutable"
   ]
  },
  {
   "cell_type": "code",
   "execution_count": 1,
   "id": "2d9f19f6-053d-4142-8720-a19cfd197288",
   "metadata": {},
   "outputs": [],
   "source": [
    "t = ()"
   ]
  },
  {
   "cell_type": "code",
   "execution_count": 2,
   "id": "77ba5fe8-1db8-4a3f-aca9-4a5530e19af3",
   "metadata": {},
   "outputs": [
    {
     "data": {
      "text/plain": [
       "tuple"
      ]
     },
     "execution_count": 2,
     "metadata": {},
     "output_type": "execute_result"
    }
   ],
   "source": [
    "type(t)"
   ]
  },
  {
   "cell_type": "code",
   "execution_count": 3,
   "id": "1a0ad841-2bff-4fff-a0d9-901777833aff",
   "metadata": {},
   "outputs": [],
   "source": [
    "t1 = (1,2,3,4.8,45+7j,'tina',True)"
   ]
  },
  {
   "cell_type": "code",
   "execution_count": 4,
   "id": "3d073347-053b-49be-a1cb-4a85a127c7e6",
   "metadata": {},
   "outputs": [
    {
     "data": {
      "text/plain": [
       "(1, 2, 3, 4.8, (45+7j), 'tina', True)"
      ]
     },
     "execution_count": 4,
     "metadata": {},
     "output_type": "execute_result"
    }
   ],
   "source": [
    "t1"
   ]
  },
  {
   "cell_type": "code",
   "execution_count": 5,
   "id": "4b346ad0-33bd-4179-a696-24c4c331edd2",
   "metadata": {},
   "outputs": [
    {
     "data": {
      "text/plain": [
       "1"
      ]
     },
     "execution_count": 5,
     "metadata": {},
     "output_type": "execute_result"
    }
   ],
   "source": [
    "t1[0]"
   ]
  },
  {
   "cell_type": "code",
   "execution_count": 7,
   "id": "1a67082a-0a83-4a01-95b2-6676fff30574",
   "metadata": {},
   "outputs": [
    {
     "data": {
      "text/plain": [
       "(45+7j)"
      ]
     },
     "execution_count": 7,
     "metadata": {},
     "output_type": "execute_result"
    }
   ],
   "source": [
    "t1[4]"
   ]
  },
  {
   "cell_type": "code",
   "execution_count": 9,
   "id": "d1eee864-e9c1-47f8-bc15-1205cf8b5d36",
   "metadata": {},
   "outputs": [
    {
     "data": {
      "text/plain": [
       "(True, 'tina', (45+7j), 4.8, 3, 2, 1)"
      ]
     },
     "execution_count": 9,
     "metadata": {},
     "output_type": "execute_result"
    }
   ],
   "source": [
    "t1[::-1]"
   ]
  },
  {
   "cell_type": "code",
   "execution_count": 13,
   "id": "5d1057af-de01-45e8-b4f9-0a654a9d0029",
   "metadata": {},
   "outputs": [
    {
     "data": {
      "text/plain": [
       "(1, 2, 3, 4.8, (45+7j), 'tina', True)"
      ]
     },
     "execution_count": 13,
     "metadata": {},
     "output_type": "execute_result"
    }
   ],
   "source": [
    "t1[::-1]"
   ]
  },
  {
   "cell_type": "code",
   "execution_count": 14,
   "id": "4a5bbbbf-848b-41cf-b977-0a43042b03e5",
   "metadata": {},
   "outputs": [
    {
     "data": {
      "text/plain": [
       "(True, 'tina', (45+7j))"
      ]
     },
     "execution_count": 14,
     "metadata": {},
     "output_type": "execute_result"
    }
   ],
   "source": [
    "t1[0:3]"
   ]
  },
  {
   "cell_type": "code",
   "execution_count": 15,
   "id": "f82a9c95-ecbc-46b9-b0cb-2b957e9d2fd8",
   "metadata": {},
   "outputs": [
    {
     "data": {
      "text/plain": [
       "(True, 'tina', (45+7j), 4.8, 3, 2, 1)"
      ]
     },
     "execution_count": 15,
     "metadata": {},
     "output_type": "execute_result"
    }
   ],
   "source": [
    "t1"
   ]
  },
  {
   "cell_type": "code",
   "execution_count": 16,
   "id": "130c1d90-4448-4a77-b20a-3f5324102217",
   "metadata": {},
   "outputs": [],
   "source": [
    "t1=t1[::-1]"
   ]
  },
  {
   "cell_type": "code",
   "execution_count": 17,
   "id": "43c00552-47fa-4ba7-9db9-85a727c2238a",
   "metadata": {},
   "outputs": [
    {
     "data": {
      "text/plain": [
       "(1, 2, 3, 4.8, (45+7j), 'tina', True)"
      ]
     },
     "execution_count": 17,
     "metadata": {},
     "output_type": "execute_result"
    }
   ],
   "source": [
    "t1"
   ]
  },
  {
   "cell_type": "code",
   "execution_count": 19,
   "id": "8cf96e80-2379-4d79-8818-1aaa06d3fc22",
   "metadata": {},
   "outputs": [
    {
     "data": {
      "text/plain": [
       "2"
      ]
     },
     "execution_count": 19,
     "metadata": {},
     "output_type": "execute_result"
    }
   ],
   "source": [
    "t1.count(1)"
   ]
  },
  {
   "cell_type": "code",
   "execution_count": 21,
   "id": "312258c1-6466-45e8-99be-2cd55796aca3",
   "metadata": {},
   "outputs": [
    {
     "data": {
      "text/plain": [
       "5"
      ]
     },
     "execution_count": 21,
     "metadata": {},
     "output_type": "execute_result"
    }
   ],
   "source": [
    "t1.index('tina')"
   ]
  },
  {
   "cell_type": "code",
   "execution_count": 22,
   "id": "a20639e0-f6e8-40de-93b2-1826de2638f1",
   "metadata": {},
   "outputs": [],
   "source": [
    "l = [1,2,3,4]"
   ]
  },
  {
   "cell_type": "code",
   "execution_count": 23,
   "id": "fad9640d-132a-4f51-b4fc-0f29de1455b9",
   "metadata": {},
   "outputs": [
    {
     "data": {
      "text/plain": [
       "(1, 2, 3, 4.8, (45+7j), 'tina', True)"
      ]
     },
     "execution_count": 23,
     "metadata": {},
     "output_type": "execute_result"
    }
   ],
   "source": [
    "t1"
   ]
  },
  {
   "cell_type": "code",
   "execution_count": 24,
   "id": "c395bee2-10ee-414d-bf87-1227e3fa87ef",
   "metadata": {},
   "outputs": [
    {
     "data": {
      "text/plain": [
       "[1, 2, 3, 4]"
      ]
     },
     "execution_count": 24,
     "metadata": {},
     "output_type": "execute_result"
    }
   ],
   "source": [
    "l"
   ]
  },
  {
   "cell_type": "code",
   "execution_count": 25,
   "id": "d40a454a-d1f3-44e0-bc25-f3f35bfc38df",
   "metadata": {},
   "outputs": [
    {
     "ename": "TypeError",
     "evalue": "'tuple' object does not support item assignment",
     "output_type": "error",
     "traceback": [
      "\u001b[0;31m---------------------------------------------------------------------------\u001b[0m",
      "\u001b[0;31mTypeError\u001b[0m                                 Traceback (most recent call last)",
      "Cell \u001b[0;32mIn[25], line 1\u001b[0m\n\u001b[0;32m----> 1\u001b[0m \u001b[43mt1\u001b[49m\u001b[43m[\u001b[49m\u001b[38;5;241;43m0\u001b[39;49m\u001b[43m]\u001b[49m \u001b[38;5;241m=\u001b[39m \u001b[38;5;241m345\u001b[39m\n",
      "\u001b[0;31mTypeError\u001b[0m: 'tuple' object does not support item assignment"
     ]
    }
   ],
   "source": [
    "t1[0] = 345"
   ]
  },
  {
   "cell_type": "code",
   "execution_count": 26,
   "id": "058b6117-ff7a-4a32-8e74-bc002ac8074b",
   "metadata": {},
   "outputs": [],
   "source": [
    "l[0] = 100"
   ]
  },
  {
   "cell_type": "code",
   "execution_count": 27,
   "id": "633ec4fb-bf95-4712-ac82-1570b7037836",
   "metadata": {},
   "outputs": [
    {
     "data": {
      "text/plain": [
       "[100, 2, 3, 4]"
      ]
     },
     "execution_count": 27,
     "metadata": {},
     "output_type": "execute_result"
    }
   ],
   "source": [
    "l"
   ]
  },
  {
   "cell_type": "code",
   "execution_count": 29,
   "id": "a059bfaa-6041-4e15-906a-a3c22154eada",
   "metadata": {},
   "outputs": [
    {
     "name": "stdout",
     "output_type": "stream",
     "text": [
      "1 <class 'int'>\n",
      "2 <class 'int'>\n",
      "3 <class 'int'>\n",
      "4.8 <class 'float'>\n",
      "(45+7j) <class 'complex'>\n",
      "tina <class 'str'>\n",
      "True <class 'bool'>\n"
     ]
    }
   ],
   "source": [
    "for i in t1:\n",
    "    print(i, type(i))"
   ]
  },
  {
   "cell_type": "code",
   "execution_count": 35,
   "id": "54f90d20-1fde-4a5a-832b-4c9cedd96c41",
   "metadata": {},
   "outputs": [],
   "source": [
    "l1 = l + [True]"
   ]
  },
  {
   "cell_type": "code",
   "execution_count": 36,
   "id": "d944e4e2-db01-41bf-98ff-7a9edf485e2d",
   "metadata": {},
   "outputs": [
    {
     "data": {
      "text/plain": [
       "[100, 2, 3, 4, True]"
      ]
     },
     "execution_count": 36,
     "metadata": {},
     "output_type": "execute_result"
    }
   ],
   "source": [
    "\n",
    "l1"
   ]
  },
  {
   "cell_type": "code",
   "execution_count": 37,
   "id": "b4f8db58-2caa-4b3c-9182-c720d59a214d",
   "metadata": {},
   "outputs": [
    {
     "data": {
      "text/plain": [
       "1"
      ]
     },
     "execution_count": 37,
     "metadata": {},
     "output_type": "execute_result"
    }
   ],
   "source": [
    "l1.count(1)"
   ]
  },
  {
   "cell_type": "code",
   "execution_count": 97,
   "id": "c081f096-424a-427f-b867-3f976fb20b29",
   "metadata": {},
   "outputs": [],
   "source": [
    "t2=(1,2,3)"
   ]
  },
  {
   "cell_type": "code",
   "execution_count": 101,
   "id": "3c5f34f9-6ddd-4329-98d1-9a05be1c87ea",
   "metadata": {},
   "outputs": [
    {
     "data": {
      "text/plain": [
       "(1, 2, 3, 2, 6)"
      ]
     },
     "execution_count": 101,
     "metadata": {},
     "output_type": "execute_result"
    }
   ],
   "source": [
    "t2+ (2,6)"
   ]
  },
  {
   "cell_type": "code",
   "execution_count": 40,
   "id": "9088d1ea-031e-4614-bfb1-75a289cbb05e",
   "metadata": {},
   "outputs": [
    {
     "data": {
      "text/plain": [
       "3"
      ]
     },
     "execution_count": 40,
     "metadata": {},
     "output_type": "execute_result"
    }
   ],
   "source": [
    "max(t2)"
   ]
  },
  {
   "cell_type": "code",
   "execution_count": 41,
   "id": "7cd7916e-0235-43a1-8dc6-0555f206fe62",
   "metadata": {},
   "outputs": [
    {
     "data": {
      "text/plain": [
       "1"
      ]
     },
     "execution_count": 41,
     "metadata": {},
     "output_type": "execute_result"
    }
   ],
   "source": [
    "min(t2)"
   ]
  },
  {
   "cell_type": "code",
   "execution_count": 44,
   "id": "439468b6-546c-44d7-bc28-a9babe5ab3bf",
   "metadata": {},
   "outputs": [],
   "source": [
    "t1 = (1,2,3,4)\n",
    "t2 = (4,5,6,7)"
   ]
  },
  {
   "cell_type": "code",
   "execution_count": 45,
   "id": "77996a60-20ec-43f6-b363-296860bbcede",
   "metadata": {},
   "outputs": [],
   "source": [
    "t3 = (t1,t1)"
   ]
  },
  {
   "cell_type": "code",
   "execution_count": 46,
   "id": "538d29d0-5f53-466e-a209-4f7de4176684",
   "metadata": {},
   "outputs": [
    {
     "data": {
      "text/plain": [
       "((1, 2, 3, 4), (1, 2, 3, 4))"
      ]
     },
     "execution_count": 46,
     "metadata": {},
     "output_type": "execute_result"
    }
   ],
   "source": [
    "t3"
   ]
  },
  {
   "cell_type": "code",
   "execution_count": 47,
   "id": "8fc3b55b-2619-403f-a102-69ae91d889f8",
   "metadata": {},
   "outputs": [
    {
     "data": {
      "text/plain": [
       "[100, 2, 3, 4]"
      ]
     },
     "execution_count": 47,
     "metadata": {},
     "output_type": "execute_result"
    }
   ],
   "source": [
    "l"
   ]
  },
  {
   "cell_type": "code",
   "execution_count": 49,
   "id": "068cc5e4-6295-4904-a73b-61a619fe0aa9",
   "metadata": {},
   "outputs": [
    {
     "data": {
      "text/plain": [
       "[5, 6, 7, 100, 2, 3, 4]"
      ]
     },
     "execution_count": 49,
     "metadata": {},
     "output_type": "execute_result"
    }
   ],
   "source": [
    "l2=[5,6,7]\n",
    "l2+l"
   ]
  },
  {
   "cell_type": "code",
   "execution_count": 156,
   "id": "96d22067-acb4-4bc4-ac46-b9e14a5176c3",
   "metadata": {},
   "outputs": [],
   "source": [
    "t4 = ((1,2,3,4),[1,2,3,4])"
   ]
  },
  {
   "cell_type": "code",
   "execution_count": 157,
   "id": "0f3cee07-fa51-443c-8a1a-c44dec901695",
   "metadata": {},
   "outputs": [
    {
     "data": {
      "text/plain": [
       "((1, 2, 3, 4), [1, 2, 3, 4])"
      ]
     },
     "execution_count": 157,
     "metadata": {},
     "output_type": "execute_result"
    }
   ],
   "source": [
    "t4"
   ]
  },
  {
   "cell_type": "code",
   "execution_count": 158,
   "id": "b793d7bc-8b54-456f-8225-5330d4d19a62",
   "metadata": {},
   "outputs": [],
   "source": [
    "del t4"
   ]
  },
  {
   "cell_type": "code",
   "execution_count": 159,
   "id": "9e0e4631-65da-4604-abf9-3031c5c9d865",
   "metadata": {},
   "outputs": [
    {
     "ename": "NameError",
     "evalue": "name 't4' is not defined",
     "output_type": "error",
     "traceback": [
      "\u001b[0;31m---------------------------------------------------------------------------\u001b[0m",
      "\u001b[0;31mNameError\u001b[0m                                 Traceback (most recent call last)",
      "Cell \u001b[0;32mIn[159], line 1\u001b[0m\n\u001b[0;32m----> 1\u001b[0m \u001b[43mt4\u001b[49m\n",
      "\u001b[0;31mNameError\u001b[0m: name 't4' is not defined"
     ]
    }
   ],
   "source": [
    "t4"
   ]
  },
  {
   "cell_type": "code",
   "execution_count": 56,
   "id": "bd42325c-26d4-44ee-8758-6192bfd49835",
   "metadata": {},
   "outputs": [],
   "source": [
    "tu = (1,1,1)"
   ]
  },
  {
   "cell_type": "code",
   "execution_count": 57,
   "id": "0abd78a4-8aaa-4acd-9964-2f2d77961296",
   "metadata": {},
   "outputs": [
    {
     "data": {
      "text/plain": [
       "(1, 1, 1)"
      ]
     },
     "execution_count": 57,
     "metadata": {},
     "output_type": "execute_result"
    }
   ],
   "source": [
    "tu"
   ]
  },
  {
   "cell_type": "code",
   "execution_count": 58,
   "id": "8a786d1b-554d-4913-87d3-6be47ed37973",
   "metadata": {},
   "outputs": [
    {
     "data": {
      "text/plain": [
       "True"
      ]
     },
     "execution_count": 58,
     "metadata": {},
     "output_type": "execute_result"
    }
   ],
   "source": [
    "1 in tu"
   ]
  },
  {
   "cell_type": "code",
   "execution_count": 59,
   "id": "4cc4bbce-2dc8-4981-aba6-cbc0af8bad30",
   "metadata": {},
   "outputs": [
    {
     "data": {
      "text/plain": [
       "False"
      ]
     },
     "execution_count": 59,
     "metadata": {},
     "output_type": "execute_result"
    }
   ],
   "source": [
    "2 in tu"
   ]
  },
  {
   "cell_type": "markdown",
   "id": "021857da-0c8e-4d82-bed9-ab4f1950f3ad",
   "metadata": {},
   "source": [
    "# sets"
   ]
  },
  {
   "cell_type": "code",
   "execution_count": 60,
   "id": "fce4d66d-332c-4be9-a444-cba382fae8bc",
   "metadata": {},
   "outputs": [],
   "source": [
    "s = {}\n"
   ]
  },
  {
   "cell_type": "code",
   "execution_count": 61,
   "id": "4a589c69-2f71-4d85-9702-0edc112fc899",
   "metadata": {},
   "outputs": [
    {
     "data": {
      "text/plain": [
       "dict"
      ]
     },
     "execution_count": 61,
     "metadata": {},
     "output_type": "execute_result"
    }
   ],
   "source": [
    "type(s)"
   ]
  },
  {
   "cell_type": "code",
   "execution_count": 62,
   "id": "0cd14127-11bc-461d-a497-39f9ebd8ec4d",
   "metadata": {},
   "outputs": [
    {
     "data": {
      "text/plain": [
       "set"
      ]
     },
     "execution_count": 62,
     "metadata": {},
     "output_type": "execute_result"
    }
   ],
   "source": [
    "s1 = {1,2,3,4}\n",
    "type(s1)"
   ]
  },
  {
   "cell_type": "code",
   "execution_count": 63,
   "id": "20fe3efd-d396-4455-a96c-7d5ed3f2b09f",
   "metadata": {},
   "outputs": [],
   "source": [
    "s2 = {1,1,12,3,3,4,5,66,7,8,8,59}"
   ]
  },
  {
   "cell_type": "code",
   "execution_count": 64,
   "id": "fb20197a-8467-4196-bace-402fc476d09f",
   "metadata": {},
   "outputs": [
    {
     "data": {
      "text/plain": [
       "{1, 3, 4, 5, 7, 8, 12, 59, 66}"
      ]
     },
     "execution_count": 64,
     "metadata": {},
     "output_type": "execute_result"
    }
   ],
   "source": [
    "s2"
   ]
  },
  {
   "cell_type": "code",
   "execution_count": 68,
   "id": "10ac9f4c-b21c-4bc2-80cd-5b59c4ab369c",
   "metadata": {},
   "outputs": [
    {
     "data": {
      "text/plain": [
       "(1, 66, 3, 4, 5, 7, 8, 12, 59)"
      ]
     },
     "execution_count": 68,
     "metadata": {},
     "output_type": "execute_result"
    }
   ],
   "source": [
    "tuple(s2)"
   ]
  },
  {
   "cell_type": "code",
   "execution_count": 66,
   "id": "1b29513c-c3ae-4181-b781-25c0015e20b5",
   "metadata": {},
   "outputs": [],
   "source": [
    " l = list(s2)"
   ]
  },
  {
   "cell_type": "code",
   "execution_count": 67,
   "id": "82e441b3-d924-4dcb-8336-e702a21ba8b5",
   "metadata": {},
   "outputs": [
    {
     "data": {
      "text/plain": [
       "[1, 66, 3, 4, 5, 7, 8, 12, 59]"
      ]
     },
     "execution_count": 67,
     "metadata": {},
     "output_type": "execute_result"
    }
   ],
   "source": [
    "l"
   ]
  },
  {
   "cell_type": "code",
   "execution_count": 69,
   "id": "43ec9a23-90e6-48b5-8741-df2fc73be368",
   "metadata": {},
   "outputs": [
    {
     "data": {
      "text/plain": [
       "{1, 3, 4, 5, 7, 8, 12, 59, 66}"
      ]
     },
     "execution_count": 69,
     "metadata": {},
     "output_type": "execute_result"
    }
   ],
   "source": [
    "set(l)"
   ]
  },
  {
   "cell_type": "code",
   "execution_count": 70,
   "id": "dcf6b2ce-5d17-4451-b0a3-e910c9db472a",
   "metadata": {},
   "outputs": [
    {
     "ename": "TypeError",
     "evalue": "unhashable type: 'list'",
     "output_type": "error",
     "traceback": [
      "\u001b[0;31m---------------------------------------------------------------------------\u001b[0m",
      "\u001b[0;31mTypeError\u001b[0m                                 Traceback (most recent call last)",
      "Cell \u001b[0;32mIn[70], line 1\u001b[0m\n\u001b[0;32m----> 1\u001b[0m s4 \u001b[38;5;241m=\u001b[39m{\u001b[38;5;241m1\u001b[39m,\u001b[38;5;241m2\u001b[39m,\u001b[38;5;241m3\u001b[39m,[\u001b[38;5;241m1\u001b[39m,\u001b[38;5;241m2\u001b[39m,\u001b[38;5;241m3\u001b[39m]}\n",
      "\u001b[0;31mTypeError\u001b[0m: unhashable type: 'list'"
     ]
    }
   ],
   "source": [
    "s4 ={1,2,3,[1,2,3]}"
   ]
  },
  {
   "cell_type": "code",
   "execution_count": 71,
   "id": "1c996b73-f02a-41b7-83ed-b33e198c8b5b",
   "metadata": {},
   "outputs": [],
   "source": [
    "s4 = {1,2,3,4,(1,2,3,4)}"
   ]
  },
  {
   "cell_type": "code",
   "execution_count": 72,
   "id": "5da06efd-56ba-43cd-a812-052278785474",
   "metadata": {},
   "outputs": [
    {
     "data": {
      "text/plain": [
       "{(1, 2, 3, 4), 1, 2, 3, 4}"
      ]
     },
     "execution_count": 72,
     "metadata": {},
     "output_type": "execute_result"
    }
   ],
   "source": [
    "s4"
   ]
  },
  {
   "cell_type": "code",
   "execution_count": 73,
   "id": "8d081d7b-f9c9-4544-b896-1e1b8284698d",
   "metadata": {},
   "outputs": [],
   "source": [
    "s6 = {'harsh','HARSH',1,2,3}"
   ]
  },
  {
   "cell_type": "code",
   "execution_count": 74,
   "id": "b9d22b20-e229-4d50-8264-336722b486f6",
   "metadata": {},
   "outputs": [
    {
     "data": {
      "text/plain": [
       "{1, 2, 3, 'HARSH', 'harsh'}"
      ]
     },
     "execution_count": 74,
     "metadata": {},
     "output_type": "execute_result"
    }
   ],
   "source": [
    "s6"
   ]
  },
  {
   "cell_type": "code",
   "execution_count": 75,
   "id": "be105869-4747-47c7-abb3-a770e3174e8d",
   "metadata": {},
   "outputs": [],
   "source": [
    "s7 = {'harsh','harsh'}"
   ]
  },
  {
   "cell_type": "code",
   "execution_count": 76,
   "id": "f21c9708-1c91-42ca-8bb5-cdc7eff44c42",
   "metadata": {},
   "outputs": [
    {
     "data": {
      "text/plain": [
       "{'harsh'}"
      ]
     },
     "execution_count": 76,
     "metadata": {},
     "output_type": "execute_result"
    }
   ],
   "source": [
    "s7"
   ]
  },
  {
   "cell_type": "code",
   "execution_count": 77,
   "id": "0912a033-dddf-4c0d-aa22-2dadb9bc412a",
   "metadata": {},
   "outputs": [
    {
     "data": {
      "text/plain": [
       "{1, 2, 3, 'HARSH', 'harsh'}"
      ]
     },
     "execution_count": 77,
     "metadata": {},
     "output_type": "execute_result"
    }
   ],
   "source": [
    "s6"
   ]
  },
  {
   "cell_type": "code",
   "execution_count": 78,
   "id": "2c49c11c-7cf0-4a3a-842b-7815f30db728",
   "metadata": {},
   "outputs": [
    {
     "ename": "TypeError",
     "evalue": "'set' object is not subscriptable",
     "output_type": "error",
     "traceback": [
      "\u001b[0;31m---------------------------------------------------------------------------\u001b[0m",
      "\u001b[0;31mTypeError\u001b[0m                                 Traceback (most recent call last)",
      "Cell \u001b[0;32mIn[78], line 1\u001b[0m\n\u001b[0;32m----> 1\u001b[0m \u001b[43ms6\u001b[49m\u001b[43m[\u001b[49m\u001b[38;5;241;43m0\u001b[39;49m\u001b[43m]\u001b[49m\n",
      "\u001b[0;31mTypeError\u001b[0m: 'set' object is not subscriptable"
     ]
    }
   ],
   "source": [
    "s6[0]"
   ]
  },
  {
   "cell_type": "code",
   "execution_count": 79,
   "id": "209eb352-d61b-4bff-9b55-89ef901967b6",
   "metadata": {},
   "outputs": [
    {
     "name": "stdout",
     "output_type": "stream",
     "text": [
      "HARSH\n",
      "1\n",
      "2\n",
      "3\n",
      "harsh\n"
     ]
    }
   ],
   "source": [
    "for i in s6:\n",
    "    print(i)"
   ]
  },
  {
   "cell_type": "code",
   "execution_count": 80,
   "id": "03775f65-e52c-4405-921f-c256acaf563c",
   "metadata": {},
   "outputs": [],
   "source": [
    "s6.add(34)"
   ]
  },
  {
   "cell_type": "code",
   "execution_count": 81,
   "id": "e24a6f31-f73b-4ea8-9ac0-c0e54bc9293e",
   "metadata": {},
   "outputs": [
    {
     "data": {
      "text/plain": [
       "{1, 2, 3, 34, 'HARSH', 'harsh'}"
      ]
     },
     "execution_count": 81,
     "metadata": {},
     "output_type": "execute_result"
    }
   ],
   "source": [
    "s6"
   ]
  },
  {
   "cell_type": "code",
   "execution_count": 82,
   "id": "ea44d66f-b2fd-42b9-930a-fb0e52360f5c",
   "metadata": {},
   "outputs": [],
   "source": [
    "s6.add(2)"
   ]
  },
  {
   "cell_type": "code",
   "execution_count": 83,
   "id": "9c52dbbc-ebd9-45c7-9c59-d320fef01329",
   "metadata": {},
   "outputs": [
    {
     "data": {
      "text/plain": [
       "{1, 2, 3, 34, 'HARSH', 'harsh'}"
      ]
     },
     "execution_count": 83,
     "metadata": {},
     "output_type": "execute_result"
    }
   ],
   "source": [
    "s6"
   ]
  },
  {
   "cell_type": "code",
   "execution_count": 84,
   "id": "989d8758-f1c9-4dcc-a3f3-7e567c668032",
   "metadata": {},
   "outputs": [
    {
     "data": {
      "text/plain": [
       "6"
      ]
     },
     "execution_count": 84,
     "metadata": {},
     "output_type": "execute_result"
    }
   ],
   "source": [
    "len(s6)"
   ]
  },
  {
   "cell_type": "code",
   "execution_count": 87,
   "id": "743312e3-65c6-4a89-a94c-8a4670240ae1",
   "metadata": {},
   "outputs": [
    {
     "data": {
      "text/plain": [
       "'HARSH'"
      ]
     },
     "execution_count": 87,
     "metadata": {},
     "output_type": "execute_result"
    }
   ],
   "source": [
    "s6.pop()"
   ]
  },
  {
   "cell_type": "code",
   "execution_count": 88,
   "id": "27bbe5d6-7da7-4184-bea0-e4cf17790dfb",
   "metadata": {},
   "outputs": [
    {
     "data": {
      "text/plain": [
       "{1, 2, 3, 34, 'harsh'}"
      ]
     },
     "execution_count": 88,
     "metadata": {},
     "output_type": "execute_result"
    }
   ],
   "source": [
    "s6"
   ]
  },
  {
   "cell_type": "code",
   "execution_count": 89,
   "id": "46f0779d-3182-44ee-b868-ddecfd9e8451",
   "metadata": {},
   "outputs": [
    {
     "data": {
      "text/plain": [
       "1"
      ]
     },
     "execution_count": 89,
     "metadata": {},
     "output_type": "execute_result"
    }
   ],
   "source": [
    "s6.pop()"
   ]
  },
  {
   "cell_type": "code",
   "execution_count": 91,
   "id": "de3d4bd1-2277-40d3-bda2-dad63aa6fa8f",
   "metadata": {},
   "outputs": [
    {
     "data": {
      "text/plain": [
       "{2, 3, 34, 'harsh'}"
      ]
     },
     "execution_count": 91,
     "metadata": {},
     "output_type": "execute_result"
    }
   ],
   "source": [
    "s6"
   ]
  },
  {
   "cell_type": "code",
   "execution_count": 92,
   "id": "be860702-1f6e-4efd-a672-94bae82da1d4",
   "metadata": {},
   "outputs": [],
   "source": [
    "s6.clear()"
   ]
  },
  {
   "cell_type": "code",
   "execution_count": 93,
   "id": "707f4f27-5c0a-40b9-b6bc-7c690c854b2c",
   "metadata": {},
   "outputs": [
    {
     "data": {
      "text/plain": [
       "set()"
      ]
     },
     "execution_count": 93,
     "metadata": {},
     "output_type": "execute_result"
    }
   ],
   "source": [
    "s6"
   ]
  },
  {
   "cell_type": "code",
   "execution_count": 94,
   "id": "10fb69d5-12d7-4541-a5e5-27c1d88ace53",
   "metadata": {},
   "outputs": [],
   "source": [
    "s1 = {1,2,3,4}\n",
    "s3 = {2,3,4,5,6}"
   ]
  },
  {
   "cell_type": "code",
   "execution_count": 95,
   "id": "a975880d-edbc-42e6-a206-72d3c296a9f7",
   "metadata": {},
   "outputs": [
    {
     "data": {
      "text/plain": [
       "{1}"
      ]
     },
     "execution_count": 95,
     "metadata": {},
     "output_type": "execute_result"
    }
   ],
   "source": [
    "s1.difference(s3)"
   ]
  },
  {
   "cell_type": "code",
   "execution_count": 96,
   "id": "5b035954-f491-4b4a-a6ab-f3d98aa19888",
   "metadata": {},
   "outputs": [
    {
     "data": {
      "text/plain": [
       "{5, 6}"
      ]
     },
     "execution_count": 96,
     "metadata": {},
     "output_type": "execute_result"
    }
   ],
   "source": [
    "s3.difference(s1)"
   ]
  },
  {
   "cell_type": "markdown",
   "id": "0c6ec364-8836-473f-b211-c28e3bc6f40a",
   "metadata": {},
   "source": [
    "# Dictionary "
   ]
  },
  {
   "cell_type": "code",
   "execution_count": 102,
   "id": "8c6fc0b2-6136-4876-b427-94706e691dab",
   "metadata": {},
   "outputs": [],
   "source": [
    "d = {}\n"
   ]
  },
  {
   "cell_type": "code",
   "execution_count": 103,
   "id": "b1e37f3c-710d-4575-8656-567d66668949",
   "metadata": {},
   "outputs": [
    {
     "data": {
      "text/plain": [
       "dict"
      ]
     },
     "execution_count": 103,
     "metadata": {},
     "output_type": "execute_result"
    }
   ],
   "source": [
    "type(d)"
   ]
  },
  {
   "cell_type": "code",
   "execution_count": 104,
   "id": "366d4af7-fab2-467e-8d38-8c7fd1b9e7f7",
   "metadata": {},
   "outputs": [],
   "source": [
    "d1 = {'name':'harsh', 'number':2121,'email':'harsh@gmail.com'}"
   ]
  },
  {
   "cell_type": "code",
   "execution_count": 105,
   "id": "50965602-714d-4f5b-aa71-bd339f306828",
   "metadata": {},
   "outputs": [
    {
     "data": {
      "text/plain": [
       "{'name': 'harsh', 'number': 2121, 'email': 'harsh@gmail.com'}"
      ]
     },
     "execution_count": 105,
     "metadata": {},
     "output_type": "execute_result"
    }
   ],
   "source": [
    "d1"
   ]
  },
  {
   "cell_type": "code",
   "execution_count": 106,
   "id": "8bc97e31-a539-45e3-a251-13834bb7cf1d",
   "metadata": {},
   "outputs": [],
   "source": [
    "d2 ={'name':'harsh','name':'santosh'}"
   ]
  },
  {
   "cell_type": "code",
   "execution_count": 107,
   "id": "4f7699f5-a3fc-40c4-918a-ffc82f07c077",
   "metadata": {},
   "outputs": [
    {
     "data": {
      "text/plain": [
       "{'name': 'santosh'}"
      ]
     },
     "execution_count": 107,
     "metadata": {},
     "output_type": "execute_result"
    }
   ],
   "source": [
    "d2"
   ]
  },
  {
   "cell_type": "code",
   "execution_count": 108,
   "id": "f86e89b9-e1d1-43d5-b0f6-6f8034a3342e",
   "metadata": {},
   "outputs": [],
   "source": [
    "d3 = {123:'harsh'}"
   ]
  },
  {
   "cell_type": "code",
   "execution_count": 109,
   "id": "edda440a-89f2-43e9-aa19-b07a031056bb",
   "metadata": {},
   "outputs": [
    {
     "data": {
      "text/plain": [
       "{123: 'harsh'}"
      ]
     },
     "execution_count": 109,
     "metadata": {},
     "output_type": "execute_result"
    }
   ],
   "source": [
    "d3"
   ]
  },
  {
   "cell_type": "code",
   "execution_count": 110,
   "id": "ec8f8093-fd4d-4a09-b478-3f4a7f9ac972",
   "metadata": {},
   "outputs": [],
   "source": [
    "d3 = {123.2:'harsh'}"
   ]
  },
  {
   "cell_type": "code",
   "execution_count": 111,
   "id": "61d5f60f-6d9a-4fb2-9546-278cd00e3a96",
   "metadata": {},
   "outputs": [
    {
     "data": {
      "text/plain": [
       "{123.2: 'harsh'}"
      ]
     },
     "execution_count": 111,
     "metadata": {},
     "output_type": "execute_result"
    }
   ],
   "source": [
    "d3"
   ]
  },
  {
   "cell_type": "code",
   "execution_count": 112,
   "id": "0057fa77-e2c6-4b0a-b0f1-751c2f6b2173",
   "metadata": {},
   "outputs": [],
   "source": [
    "d4 = {True:'harsh'}"
   ]
  },
  {
   "cell_type": "code",
   "execution_count": 113,
   "id": "7f09d918-c76c-4f5e-a5d2-4155dde05cf1",
   "metadata": {},
   "outputs": [
    {
     "data": {
      "text/plain": [
       "{True: 'harsh'}"
      ]
     },
     "execution_count": 113,
     "metadata": {},
     "output_type": "execute_result"
    }
   ],
   "source": [
    "d4"
   ]
  },
  {
   "cell_type": "code",
   "execution_count": 114,
   "id": "2351f09b-9ddf-4390-b630-6c23d3600428",
   "metadata": {},
   "outputs": [
    {
     "ename": "SyntaxError",
     "evalue": "invalid syntax (1116460213.py, line 1)",
     "output_type": "error",
     "traceback": [
      "\u001b[0;36m  Cell \u001b[0;32mIn[114], line 1\u001b[0;36m\u001b[0m\n\u001b[0;31m    d5 ={@:'harsh'}\u001b[0m\n\u001b[0m         ^\u001b[0m\n\u001b[0;31mSyntaxError\u001b[0m\u001b[0;31m:\u001b[0m invalid syntax\n"
     ]
    }
   ],
   "source": [
    "d5 ={@:'harsh'}"
   ]
  },
  {
   "cell_type": "code",
   "execution_count": 115,
   "id": "ea6071f7-ec05-4a52-a0bb-d4610b9f16ff",
   "metadata": {},
   "outputs": [],
   "source": [
    "d6 = {(1,2,4):'harsh'}"
   ]
  },
  {
   "cell_type": "code",
   "execution_count": 116,
   "id": "0c96fe9d-c9c8-494f-a14f-c8e72ad76ea0",
   "metadata": {},
   "outputs": [
    {
     "data": {
      "text/plain": [
       "{(1, 2, 4): 'harsh'}"
      ]
     },
     "execution_count": 116,
     "metadata": {},
     "output_type": "execute_result"
    }
   ],
   "source": [
    "d6"
   ]
  },
  {
   "cell_type": "code",
   "execution_count": 117,
   "id": "53d167ff-d8bd-4b89-8858-a48729081dd7",
   "metadata": {},
   "outputs": [
    {
     "ename": "TypeError",
     "evalue": "unhashable type: 'set'",
     "output_type": "error",
     "traceback": [
      "\u001b[0;31m---------------------------------------------------------------------------\u001b[0m",
      "\u001b[0;31mTypeError\u001b[0m                                 Traceback (most recent call last)",
      "Cell \u001b[0;32mIn[117], line 1\u001b[0m\n\u001b[0;32m----> 1\u001b[0m d7 \u001b[38;5;241m=\u001b[39m {{\u001b[38;5;241m1\u001b[39m,\u001b[38;5;241m2\u001b[39m,\u001b[38;5;241m3\u001b[39m}:\u001b[38;5;124m'\u001b[39m\u001b[38;5;124mharsh\u001b[39m\u001b[38;5;124m'\u001b[39m}\n",
      "\u001b[0;31mTypeError\u001b[0m: unhashable type: 'set'"
     ]
    }
   ],
   "source": [
    "d7 = {{1,2,3}:'harsh'}"
   ]
  },
  {
   "cell_type": "code",
   "execution_count": 118,
   "id": "12495c99-d16c-4094-ae79-fa0fbbedbb67",
   "metadata": {},
   "outputs": [
    {
     "ename": "TypeError",
     "evalue": "unhashable type: 'dict'",
     "output_type": "error",
     "traceback": [
      "\u001b[0;31m---------------------------------------------------------------------------\u001b[0m",
      "\u001b[0;31mTypeError\u001b[0m                                 Traceback (most recent call last)",
      "Cell \u001b[0;32mIn[118], line 1\u001b[0m\n\u001b[0;32m----> 1\u001b[0m d8 \u001b[38;5;241m=\u001b[39m {{\u001b[38;5;124m'\u001b[39m\u001b[38;5;124mkey\u001b[39m\u001b[38;5;124m'\u001b[39m:\u001b[38;5;241m123\u001b[39m}:\u001b[38;5;124m'\u001b[39m\u001b[38;5;124mabc\u001b[39m\u001b[38;5;124m'\u001b[39m}\n",
      "\u001b[0;31mTypeError\u001b[0m: unhashable type: 'dict'"
     ]
    }
   ],
   "source": [
    "d8 = {{'key':123}:'abc'}"
   ]
  },
  {
   "cell_type": "code",
   "execution_count": 119,
   "id": "c1834d32-50ec-4486-beb6-c5fd5f0450fe",
   "metadata": {},
   "outputs": [],
   "source": [
    "d9 = {'course_name':['ds','ai','wevdev']}"
   ]
  },
  {
   "cell_type": "code",
   "execution_count": 122,
   "id": "40bd2ce2-2e2e-4467-ad11-272f7e76c2cd",
   "metadata": {},
   "outputs": [],
   "source": [
    "d10 = {'key':(12,3,3,4)}"
   ]
  },
  {
   "cell_type": "code",
   "execution_count": 123,
   "id": "9b5a8ed3-394b-43fb-9aa9-45cfce660251",
   "metadata": {},
   "outputs": [
    {
     "data": {
      "text/plain": [
       "{'key': (12, 3, 3, 4)}"
      ]
     },
     "execution_count": 123,
     "metadata": {},
     "output_type": "execute_result"
    }
   ],
   "source": [
    "d10"
   ]
  },
  {
   "cell_type": "code",
   "execution_count": 124,
   "id": "93fa206e-714a-4c9d-abab-fc28aa9b4e70",
   "metadata": {},
   "outputs": [],
   "source": [
    "d11 = {'key':{1,2,3,4}}"
   ]
  },
  {
   "cell_type": "code",
   "execution_count": 125,
   "id": "25ba28ed-0458-4884-b0d6-ca1d478f2be6",
   "metadata": {},
   "outputs": [
    {
     "data": {
      "text/plain": [
       "{'key': {1, 2, 3, 4}}"
      ]
     },
     "execution_count": 125,
     "metadata": {},
     "output_type": "execute_result"
    }
   ],
   "source": [
    "d11\n"
   ]
  },
  {
   "cell_type": "code",
   "execution_count": 128,
   "id": "60805636-e9ef-4e8c-8c51-8693852a555f",
   "metadata": {},
   "outputs": [],
   "source": [
    "d12 = {'key':{'name':'harsh','class':'ds'}}"
   ]
  },
  {
   "cell_type": "code",
   "execution_count": 129,
   "id": "95851a01-9fad-4c79-8c33-e84cd72f8043",
   "metadata": {},
   "outputs": [
    {
     "data": {
      "text/plain": [
       "{'key': {'name': 'harsh', 'class': 'ds'}}"
      ]
     },
     "execution_count": 129,
     "metadata": {},
     "output_type": "execute_result"
    }
   ],
   "source": [
    "d12"
   ]
  },
  {
   "cell_type": "code",
   "execution_count": 130,
   "id": "2626cfb9-dd04-4169-9c70-cbf4bcfef937",
   "metadata": {},
   "outputs": [],
   "source": [
    "d13 = {'batch_name':['ds','webdev','javads'],'start_date':(12,2,31,4),'mentor_name':{'krish','sudhanshu','hitesh','anurag'}}"
   ]
  },
  {
   "cell_type": "code",
   "execution_count": 131,
   "id": "e8a96271-e431-4b14-b408-f8f1b1a8e7dc",
   "metadata": {},
   "outputs": [
    {
     "data": {
      "text/plain": [
       "{'batch_name': ['ds', 'webdev', 'javads'],\n",
       " 'start_date': (12, 2, 31, 4),\n",
       " 'mentor_name': {'anurag', 'hitesh', 'krish', 'sudhanshu'}}"
      ]
     },
     "execution_count": 131,
     "metadata": {},
     "output_type": "execute_result"
    }
   ],
   "source": [
    "d13"
   ]
  },
  {
   "cell_type": "code",
   "execution_count": 132,
   "id": "e2cbe049-68d9-4dc7-8299-3d067e4656d8",
   "metadata": {},
   "outputs": [],
   "source": [
    "# add in dictionary\n",
    "d13['timing'] = (4,4,4)"
   ]
  },
  {
   "cell_type": "code",
   "execution_count": 133,
   "id": "5e9d280c-d5ba-47b6-aea0-6ecf7719870b",
   "metadata": {},
   "outputs": [
    {
     "data": {
      "text/plain": [
       "{'batch_name': ['ds', 'webdev', 'javads'],\n",
       " 'start_date': (12, 2, 31, 4),\n",
       " 'mentor_name': {'anurag', 'hitesh', 'krish', 'sudhanshu'},\n",
       " 'timing': (4, 4, 4)}"
      ]
     },
     "execution_count": 133,
     "metadata": {},
     "output_type": "execute_result"
    }
   ],
   "source": [
    "d13"
   ]
  },
  {
   "cell_type": "code",
   "execution_count": 134,
   "id": "4217ec9e-c967-48c6-9c4e-2a1b77cffb3e",
   "metadata": {},
   "outputs": [
    {
     "data": {
      "text/plain": [
       "['ds', 'webdev', 'javads']"
      ]
     },
     "execution_count": 134,
     "metadata": {},
     "output_type": "execute_result"
    }
   ],
   "source": [
    "d13['batch_name']"
   ]
  },
  {
   "cell_type": "code",
   "execution_count": 136,
   "id": "ea0db518-bf71-4f58-b319-ad034ef49e90",
   "metadata": {},
   "outputs": [
    {
     "data": {
      "text/plain": [
       "set"
      ]
     },
     "execution_count": 136,
     "metadata": {},
     "output_type": "execute_result"
    }
   ],
   "source": [
    "type(d13['mentor_name'])"
   ]
  },
  {
   "cell_type": "code",
   "execution_count": 137,
   "id": "9b60d281-aa3e-4aba-bf19-3cf1beaa8a65",
   "metadata": {},
   "outputs": [
    {
     "ename": "KeyError",
     "evalue": "'key'",
     "output_type": "error",
     "traceback": [
      "\u001b[0;31m---------------------------------------------------------------------------\u001b[0m",
      "\u001b[0;31mKeyError\u001b[0m                                  Traceback (most recent call last)",
      "Cell \u001b[0;32mIn[137], line 1\u001b[0m\n\u001b[0;32m----> 1\u001b[0m \u001b[43md13\u001b[49m\u001b[43m[\u001b[49m\u001b[38;5;124;43m'\u001b[39;49m\u001b[38;5;124;43mkey\u001b[39;49m\u001b[38;5;124;43m'\u001b[39;49m\u001b[43m]\u001b[49m\n",
      "\u001b[0;31mKeyError\u001b[0m: 'key'"
     ]
    }
   ],
   "source": [
    "d13['key']"
   ]
  },
  {
   "cell_type": "code",
   "execution_count": 138,
   "id": "b233703a-6c1a-4467-9f05-1bcea5d14112",
   "metadata": {},
   "outputs": [],
   "source": [
    "d13['name'] = 'harsh'"
   ]
  },
  {
   "cell_type": "code",
   "execution_count": 141,
   "id": "5339e103-5754-4fa3-939e-7e5745469b6e",
   "metadata": {},
   "outputs": [
    {
     "data": {
      "text/plain": [
       "'HARSH'"
      ]
     },
     "execution_count": 141,
     "metadata": {},
     "output_type": "execute_result"
    }
   ],
   "source": [
    "d13['name'].upper()"
   ]
  },
  {
   "cell_type": "code",
   "execution_count": 142,
   "id": "4a470cb2-7b96-4062-9337-d2cbe9e24e04",
   "metadata": {},
   "outputs": [
    {
     "data": {
      "text/plain": [
       "{'key': {'name': 'harsh', 'class': 'ds'}}"
      ]
     },
     "execution_count": 142,
     "metadata": {},
     "output_type": "execute_result"
    }
   ],
   "source": [
    "d12"
   ]
  },
  {
   "cell_type": "code",
   "execution_count": 143,
   "id": "cbd79f66-4009-4302-8598-0d22c1e92279",
   "metadata": {},
   "outputs": [
    {
     "data": {
      "text/plain": [
       "{'name': 'harsh', 'class': 'ds'}"
      ]
     },
     "execution_count": 143,
     "metadata": {},
     "output_type": "execute_result"
    }
   ],
   "source": [
    "d12['key']"
   ]
  },
  {
   "cell_type": "code",
   "execution_count": 144,
   "id": "835723da-86ac-4ae5-8ab9-36423330e9ea",
   "metadata": {},
   "outputs": [
    {
     "data": {
      "text/plain": [
       "dict"
      ]
     },
     "execution_count": 144,
     "metadata": {},
     "output_type": "execute_result"
    }
   ],
   "source": [
    "type(d12['key'])"
   ]
  },
  {
   "cell_type": "code",
   "execution_count": 145,
   "id": "e26b2a22-d0c5-4a25-95f5-90e678270fd3",
   "metadata": {},
   "outputs": [
    {
     "data": {
      "text/plain": [
       "'ds'"
      ]
     },
     "execution_count": 145,
     "metadata": {},
     "output_type": "execute_result"
    }
   ],
   "source": [
    "d12['key']['class']"
   ]
  },
  {
   "cell_type": "code",
   "execution_count": 146,
   "id": "d6edd978-7a3a-4dc7-a299-ca458f2370e8",
   "metadata": {},
   "outputs": [
    {
     "data": {
      "text/plain": [
       "{'key': {'name': 'harsh', 'class': 'ds'}}"
      ]
     },
     "execution_count": 146,
     "metadata": {},
     "output_type": "execute_result"
    }
   ],
   "source": [
    "d12"
   ]
  },
  {
   "cell_type": "code",
   "execution_count": 147,
   "id": "4b46bf81-8ee9-432b-bba5-b907211e5e13",
   "metadata": {},
   "outputs": [],
   "source": [
    "d12['key1']='abc'"
   ]
  },
  {
   "cell_type": "code",
   "execution_count": 148,
   "id": "2171968d-41c9-4d46-8485-c56a43cfd700",
   "metadata": {},
   "outputs": [
    {
     "data": {
      "text/plain": [
       "{'key': {'name': 'harsh', 'class': 'ds'}, 'key1': 'abc'}"
      ]
     },
     "execution_count": 148,
     "metadata": {},
     "output_type": "execute_result"
    }
   ],
   "source": [
    "d12"
   ]
  },
  {
   "cell_type": "code",
   "execution_count": 149,
   "id": "aaa1f544-0316-4730-a7f9-8c5cf74207b9",
   "metadata": {},
   "outputs": [],
   "source": [
    "del d12['key1']"
   ]
  },
  {
   "cell_type": "code",
   "execution_count": 150,
   "id": "8f183000-46db-45aa-97dc-9196b4a90360",
   "metadata": {},
   "outputs": [
    {
     "data": {
      "text/plain": [
       "{'key': {'name': 'harsh', 'class': 'ds'}}"
      ]
     },
     "execution_count": 150,
     "metadata": {},
     "output_type": "execute_result"
    }
   ],
   "source": [
    "d12"
   ]
  },
  {
   "cell_type": "code",
   "execution_count": 151,
   "id": "c44e8cb7-7180-4083-8bde-d5b9087e1b8a",
   "metadata": {},
   "outputs": [],
   "source": [
    "d12.clear()"
   ]
  },
  {
   "cell_type": "code",
   "execution_count": 152,
   "id": "7f7f7d25-398b-4e59-a872-d0a20889ce6b",
   "metadata": {},
   "outputs": [
    {
     "data": {
      "text/plain": [
       "{}"
      ]
     },
     "execution_count": 152,
     "metadata": {},
     "output_type": "execute_result"
    }
   ],
   "source": [
    "d12"
   ]
  },
  {
   "cell_type": "code",
   "execution_count": 153,
   "id": "a5975152-a3d9-49bf-be7c-759c071e654a",
   "metadata": {},
   "outputs": [
    {
     "data": {
      "text/plain": [
       "5"
      ]
     },
     "execution_count": 153,
     "metadata": {},
     "output_type": "execute_result"
    }
   ],
   "source": [
    "len(d13)"
   ]
  },
  {
   "cell_type": "code",
   "execution_count": 154,
   "id": "96305f23-0ee5-4d5c-9238-24a8132368d2",
   "metadata": {},
   "outputs": [
    {
     "data": {
      "text/plain": [
       "{'batch_name': ['ds', 'webdev', 'javads'],\n",
       " 'start_date': (12, 2, 31, 4),\n",
       " 'mentor_name': {'anurag', 'hitesh', 'krish', 'sudhanshu'},\n",
       " 'timing': (4, 4, 4),\n",
       " 'name': 'harsh'}"
      ]
     },
     "execution_count": 154,
     "metadata": {},
     "output_type": "execute_result"
    }
   ],
   "source": [
    "d13"
   ]
  },
  {
   "cell_type": "code",
   "execution_count": 155,
   "id": "3eac4e42-769b-4aa4-af46-3f28af55f8e9",
   "metadata": {},
   "outputs": [
    {
     "data": {
      "text/plain": [
       "dict_keys(['batch_name', 'start_date', 'mentor_name', 'timing', 'name'])"
      ]
     },
     "execution_count": 155,
     "metadata": {},
     "output_type": "execute_result"
    }
   ],
   "source": [
    "d13.keys()"
   ]
  },
  {
   "cell_type": "code",
   "execution_count": 160,
   "id": "fd702467-e6a2-4400-85f9-b7217d459376",
   "metadata": {},
   "outputs": [
    {
     "data": {
      "text/plain": [
       "dict_values([['ds', 'webdev', 'javads'], (12, 2, 31, 4), {'sudhanshu', 'krish', 'hitesh', 'anurag'}, (4, 4, 4), 'harsh'])"
      ]
     },
     "execution_count": 160,
     "metadata": {},
     "output_type": "execute_result"
    }
   ],
   "source": [
    "d13.values()"
   ]
  },
  {
   "cell_type": "code",
   "execution_count": 161,
   "id": "3b1abda2-e8ff-4ae7-8529-2f87ca300425",
   "metadata": {},
   "outputs": [
    {
     "data": {
      "text/plain": [
       "[['ds', 'webdev', 'javads'],\n",
       " (12, 2, 31, 4),\n",
       " {'anurag', 'hitesh', 'krish', 'sudhanshu'},\n",
       " (4, 4, 4),\n",
       " 'harsh']"
      ]
     },
     "execution_count": 161,
     "metadata": {},
     "output_type": "execute_result"
    }
   ],
   "source": [
    "list(d13.values())"
   ]
  },
  {
   "cell_type": "code",
   "execution_count": 162,
   "id": "6774d1cc-c3a5-45cf-8413-04f18ada7666",
   "metadata": {},
   "outputs": [
    {
     "data": {
      "text/plain": [
       "['batch_name', 'start_date', 'mentor_name', 'timing', 'name']"
      ]
     },
     "execution_count": 162,
     "metadata": {},
     "output_type": "execute_result"
    }
   ],
   "source": [
    "list(d13.keys())"
   ]
  },
  {
   "cell_type": "code",
   "execution_count": 164,
   "id": "08bfb8e5-3b92-4c9c-a240-7ada11ea6850",
   "metadata": {},
   "outputs": [
    {
     "data": {
      "text/plain": [
       "[('batch_name', ['ds', 'webdev', 'javads']),\n",
       " ('start_date', (12, 2, 31, 4)),\n",
       " ('mentor_name', {'anurag', 'hitesh', 'krish', 'sudhanshu'}),\n",
       " ('timing', (4, 4, 4)),\n",
       " ('name', 'harsh')]"
      ]
     },
     "execution_count": 164,
     "metadata": {},
     "output_type": "execute_result"
    }
   ],
   "source": [
    "list(d13.items())"
   ]
  },
  {
   "cell_type": "code",
   "execution_count": 165,
   "id": "48fa4dbc-95f6-45b6-bc70-88e559c5b6cf",
   "metadata": {},
   "outputs": [
    {
     "data": {
      "text/plain": [
       "{'batch_name': ['ds', 'webdev', 'javads'],\n",
       " 'start_date': (12, 2, 31, 4),\n",
       " 'mentor_name': {'anurag', 'hitesh', 'krish', 'sudhanshu'},\n",
       " 'timing': (4, 4, 4),\n",
       " 'name': 'harsh'}"
      ]
     },
     "execution_count": 165,
     "metadata": {},
     "output_type": "execute_result"
    }
   ],
   "source": [
    "d13"
   ]
  },
  {
   "cell_type": "code",
   "execution_count": 166,
   "id": "4bd63cab-358d-4632-a61f-733363db6d06",
   "metadata": {},
   "outputs": [],
   "source": [
    "d14 = d13.copy()"
   ]
  },
  {
   "cell_type": "code",
   "execution_count": 167,
   "id": "01ca7e9e-c402-4f9d-b43e-a082b1d63ed2",
   "metadata": {},
   "outputs": [
    {
     "data": {
      "text/plain": [
       "{'batch_name': ['ds', 'webdev', 'javads'],\n",
       " 'start_date': (12, 2, 31, 4),\n",
       " 'mentor_name': {'anurag', 'hitesh', 'krish', 'sudhanshu'},\n",
       " 'timing': (4, 4, 4),\n",
       " 'name': 'harsh'}"
      ]
     },
     "execution_count": 167,
     "metadata": {},
     "output_type": "execute_result"
    }
   ],
   "source": [
    "d14"
   ]
  },
  {
   "cell_type": "code",
   "execution_count": 168,
   "id": "1cf9fa2d-4fd9-4858-aeaf-d6650cd6d92c",
   "metadata": {},
   "outputs": [
    {
     "data": {
      "text/plain": [
       "{'batch_name': ['ds', 'webdev', 'javads'],\n",
       " 'start_date': (12, 2, 31, 4),\n",
       " 'mentor_name': {'anurag', 'hitesh', 'krish', 'sudhanshu'},\n",
       " 'timing': (4, 4, 4),\n",
       " 'name': 'harsh'}"
      ]
     },
     "execution_count": 168,
     "metadata": {},
     "output_type": "execute_result"
    }
   ],
   "source": [
    "d14"
   ]
  },
  {
   "cell_type": "code",
   "execution_count": 170,
   "id": "3d6f41e3-ef92-487b-a9f0-4c99a84e81b9",
   "metadata": {},
   "outputs": [
    {
     "data": {
      "text/plain": [
       "(4, 4, 4)"
      ]
     },
     "execution_count": 170,
     "metadata": {},
     "output_type": "execute_result"
    }
   ],
   "source": [
    "d14.pop('timing')"
   ]
  },
  {
   "cell_type": "code",
   "execution_count": 171,
   "id": "06e35a90-b2d8-487e-8e4d-a76d94e73199",
   "metadata": {},
   "outputs": [
    {
     "data": {
      "text/plain": [
       "{'batch_name': ['ds', 'webdev', 'javads'],\n",
       " 'start_date': (12, 2, 31, 4),\n",
       " 'mentor_name': {'anurag', 'hitesh', 'krish', 'sudhanshu'},\n",
       " 'name': 'harsh'}"
      ]
     },
     "execution_count": 171,
     "metadata": {},
     "output_type": "execute_result"
    }
   ],
   "source": [
    "d14"
   ]
  },
  {
   "cell_type": "code",
   "execution_count": 172,
   "id": "2c7d6512-1560-4c58-bab5-e48f55d69ee1",
   "metadata": {},
   "outputs": [
    {
     "data": {
      "text/plain": [
       "{1: ('a', 'b', 'c'), 2: ('a', 'b', 'c'), 3: ('a', 'b', 'c')}"
      ]
     },
     "execution_count": 172,
     "metadata": {},
     "output_type": "execute_result"
    }
   ],
   "source": [
    "d.fromkeys((1,2,3),('a','b','c'))"
   ]
  },
  {
   "cell_type": "code",
   "execution_count": 173,
   "id": "e92e1087-458b-48f0-8954-a7426cdcfe82",
   "metadata": {},
   "outputs": [
    {
     "data": {
      "text/plain": [
       "({'key1': 'value', 'key2': 'value2'}, {'key3': 'value3', 'key4': 'value4'})"
      ]
     },
     "execution_count": 173,
     "metadata": {},
     "output_type": "execute_result"
    }
   ],
   "source": [
    "d17 = {'key1':'value','key2':'value2'}\n",
    "d18 = {'key3':'value3','key4':'value4'}\n",
    "(d17,d18)"
   ]
  },
  {
   "cell_type": "code",
   "execution_count": 175,
   "id": "41f72b42-56c4-44a2-b183-e8c4056836e4",
   "metadata": {},
   "outputs": [],
   "source": [
    "d17.update(d18)"
   ]
  },
  {
   "cell_type": "code",
   "execution_count": 176,
   "id": "e365b93b-d73b-4f21-be62-bb25aa18d3aa",
   "metadata": {},
   "outputs": [
    {
     "data": {
      "text/plain": [
       "{'key1': 'value', 'key2': 'value2', 'key3': 'value3', 'key4': 'value4'}"
      ]
     },
     "execution_count": 176,
     "metadata": {},
     "output_type": "execute_result"
    }
   ],
   "source": [
    "d17"
   ]
  },
  {
   "cell_type": "code",
   "execution_count": 178,
   "id": "2fce2227-0701-44cb-8a76-bec41170fad2",
   "metadata": {},
   "outputs": [
    {
     "data": {
      "text/plain": [
       "{'key3': 'value3', 'key4': 'value4'}"
      ]
     },
     "execution_count": 178,
     "metadata": {},
     "output_type": "execute_result"
    }
   ],
   "source": [
    "d18"
   ]
  },
  {
   "cell_type": "code",
   "execution_count": 179,
   "id": "171d974e-caba-4113-968a-e216d991c6d0",
   "metadata": {},
   "outputs": [
    {
     "data": {
      "text/plain": [
       "{'batch_name': ['ds', 'webdev', 'javads'],\n",
       " 'start_date': (12, 2, 31, 4),\n",
       " 'mentor_name': {'anurag', 'hitesh', 'krish', 'sudhanshu'},\n",
       " 'timing': (4, 4, 4),\n",
       " 'name': 'harsh'}"
      ]
     },
     "execution_count": 179,
     "metadata": {},
     "output_type": "execute_result"
    }
   ],
   "source": [
    "d13"
   ]
  },
  {
   "cell_type": "code",
   "execution_count": 180,
   "id": "d1383323-0d77-4bbe-9aea-c5c19caa2a74",
   "metadata": {},
   "outputs": [],
   "source": [
    "d13.get('sudh')"
   ]
  },
  {
   "cell_type": "code",
   "execution_count": 181,
   "id": "39c2e4d7-2fe5-44d6-8a38-e13d060cdf0c",
   "metadata": {},
   "outputs": [
    {
     "data": {
      "text/plain": [
       "'harsh'"
      ]
     },
     "execution_count": 181,
     "metadata": {},
     "output_type": "execute_result"
    }
   ],
   "source": [
    "d13.get('name')"
   ]
  },
  {
   "cell_type": "code",
   "execution_count": 183,
   "id": "dc77437f-9571-47ee-b3ac-9713e8db9742",
   "metadata": {},
   "outputs": [
    {
     "ename": "KeyError",
     "evalue": "'su'",
     "output_type": "error",
     "traceback": [
      "\u001b[0;31m---------------------------------------------------------------------------\u001b[0m",
      "\u001b[0;31mKeyError\u001b[0m                                  Traceback (most recent call last)",
      "Cell \u001b[0;32mIn[183], line 1\u001b[0m\n\u001b[0;32m----> 1\u001b[0m \u001b[43md13\u001b[49m\u001b[43m[\u001b[49m\u001b[38;5;124;43m'\u001b[39;49m\u001b[38;5;124;43msu\u001b[39;49m\u001b[38;5;124;43m'\u001b[39;49m\u001b[43m]\u001b[49m\n",
      "\u001b[0;31mKeyError\u001b[0m: 'su'"
     ]
    }
   ],
   "source": [
    "d13['su']"
   ]
  },
  {
   "cell_type": "markdown",
   "id": "1d03dc48-741c-48bf-b473-9452f872e07e",
   "metadata": {},
   "source": [
    "### dict comprehension"
   ]
  },
  {
   "cell_type": "code",
   "execution_count": 184,
   "id": "96d7ab01-c895-44ae-83ee-dff2d1b623dd",
   "metadata": {},
   "outputs": [
    {
     "data": {
      "text/plain": [
       "{1: 1, 2: 4, 3: 9, 4: 16, 5: 25, 6: 36, 7: 49, 8: 64, 9: 81, 10: 100}"
      ]
     },
     "execution_count": 184,
     "metadata": {},
     "output_type": "execute_result"
    }
   ],
   "source": [
    "{i : i**2 for i in range(1,11)}"
   ]
  },
  {
   "cell_type": "code",
   "execution_count": 185,
   "id": "52a48a5b-87f8-4c4c-a005-32ff7bc1e561",
   "metadata": {},
   "outputs": [
    {
     "data": {
      "text/plain": [
       "{1: 11, 2: 12, 3: 13, 4: 14, 5: 15, 6: 16, 7: 17, 8: 18, 9: 19, 10: 20}"
      ]
     },
     "execution_count": 185,
     "metadata": {},
     "output_type": "execute_result"
    }
   ],
   "source": [
    "{i : i+10 for i in range(1,11)}"
   ]
  },
  {
   "cell_type": "code",
   "execution_count": 193,
   "id": "8631dc08-328a-43d5-a95d-a94c1c6fa4c8",
   "metadata": {},
   "outputs": [],
   "source": [
    "import math\n",
    "d20 = {i : math.log10(i) for i in range(1,11)}"
   ]
  },
  {
   "cell_type": "code",
   "execution_count": 190,
   "id": "bacab1e3-00e6-40d9-9764-c96d8a232017",
   "metadata": {},
   "outputs": [
    {
     "data": {
      "text/plain": [
       "{'batch_name': ['ds', 'webdev', 'javads'],\n",
       " 'start_date': (12, 2, 31, 4),\n",
       " 'mentor_name': {'anurag', 'hitesh', 'krish', 'sudhanshu'},\n",
       " 'timing': (4, 4, 4),\n",
       " 'name': 'harsh'}"
      ]
     },
     "execution_count": 190,
     "metadata": {},
     "output_type": "execute_result"
    }
   ],
   "source": [
    "d13"
   ]
  },
  {
   "cell_type": "code",
   "execution_count": 191,
   "id": "580eca0a-35e0-4e25-994e-4232b82838b1",
   "metadata": {},
   "outputs": [
    {
     "data": {
      "text/plain": [
       "True"
      ]
     },
     "execution_count": 191,
     "metadata": {},
     "output_type": "execute_result"
    }
   ],
   "source": [
    "'batch_name' in d13"
   ]
  },
  {
   "cell_type": "code",
   "execution_count": 194,
   "id": "87fb3edc-be76-4e33-bc61-3248506e23b5",
   "metadata": {},
   "outputs": [
    {
     "data": {
      "text/plain": [
       "{1: 0.0,\n",
       " 2: 0.3010299956639812,\n",
       " 3: 0.47712125471966244,\n",
       " 4: 0.6020599913279624,\n",
       " 5: 0.6989700043360189,\n",
       " 6: 0.7781512503836436,\n",
       " 7: 0.8450980400142568,\n",
       " 8: 0.9030899869919435,\n",
       " 9: 0.9542425094393249,\n",
       " 10: 1.0}"
      ]
     },
     "execution_count": 194,
     "metadata": {},
     "output_type": "execute_result"
    }
   ],
   "source": [
    "d20"
   ]
  },
  {
   "cell_type": "code",
   "execution_count": 197,
   "id": "a7911182-cc24-4c14-b236-499ef02a3cdc",
   "metadata": {},
   "outputs": [
    {
     "name": "stdout",
     "output_type": "stream",
     "text": [
      "0.3010299956639812\n",
      "0.6020599913279624\n",
      "0.7781512503836436\n",
      "0.9030899869919435\n",
      "1.0\n"
     ]
    }
   ],
   "source": [
    "for i in d20.keys():\n",
    "    # print(i)\n",
    "    if i%2 == 0:\n",
    "        print(d20[i])\n",
    "    "
   ]
  },
  {
   "cell_type": "code",
   "execution_count": null,
   "id": "f24dff07-2e0a-4e0e-ad8c-fb50552487e9",
   "metadata": {},
   "outputs": [],
   "source": []
  }
 ],
 "metadata": {
  "kernelspec": {
   "display_name": "Python 3 (ipykernel)",
   "language": "python",
   "name": "python3"
  },
  "language_info": {
   "codemirror_mode": {
    "name": "ipython",
    "version": 3
   },
   "file_extension": ".py",
   "mimetype": "text/x-python",
   "name": "python",
   "nbconvert_exporter": "python",
   "pygments_lexer": "ipython3",
   "version": "3.10.8"
  }
 },
 "nbformat": 4,
 "nbformat_minor": 5
}
