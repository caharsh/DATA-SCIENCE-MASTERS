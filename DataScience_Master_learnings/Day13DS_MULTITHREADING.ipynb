{
 "cells": [
  {
   "cell_type": "code",
   "execution_count": 1,
   "id": "25547233-0d0a-4132-bac1-929bb02ff75a",
   "metadata": {},
   "outputs": [],
   "source": [
    "import threading"
   ]
  },
  {
   "cell_type": "code",
   "execution_count": 5,
   "id": "906d26c5-2f99-4c85-b944-d9713e59faed",
   "metadata": {},
   "outputs": [],
   "source": [
    "def test(id):\n",
    "    print(\"this is my thread id %d\" % id)"
   ]
  },
  {
   "cell_type": "code",
   "execution_count": 4,
   "id": "d77912bc-e6c1-4bd6-a637-f9a07033c3b4",
   "metadata": {},
   "outputs": [
    {
     "name": "stdout",
     "output_type": "stream",
     "text": [
      "this is my thread id 10\n"
     ]
    }
   ],
   "source": [
    "test(10)"
   ]
  },
  {
   "cell_type": "code",
   "execution_count": 5,
   "id": "a58400fc-df3d-40d9-aace-a08a159427f6",
   "metadata": {},
   "outputs": [
    {
     "name": "stdout",
     "output_type": "stream",
     "text": [
      "this is my thread id 1\n"
     ]
    }
   ],
   "source": [
    "test(1)"
   ]
  },
  {
   "cell_type": "code",
   "execution_count": 6,
   "id": "dd48f2ea-2a34-4536-8800-daa7ab775a05",
   "metadata": {},
   "outputs": [
    {
     "name": "stdout",
     "output_type": "stream",
     "text": [
      "this is my thread id 3\n"
     ]
    }
   ],
   "source": [
    "test(3)"
   ]
  },
  {
   "cell_type": "code",
   "execution_count": 7,
   "id": "e4c59aa3-2f4c-49aa-aebb-14ce401010aa",
   "metadata": {},
   "outputs": [],
   "source": [
    "# calling all 10,1,3 simultaneously in automatic manner\n",
    "#creation of threading\n"
   ]
  },
  {
   "cell_type": "code",
   "execution_count": 6,
   "id": "9b149eac-a222-46be-998e-a1aa70469fc4",
   "metadata": {},
   "outputs": [],
   "source": [
    "thread  = [threading.Thread(target=test, args=(i,)) for i in [10,1,3]]"
   ]
  },
  {
   "cell_type": "code",
   "execution_count": 7,
   "id": "cc155416-7996-4c5a-8313-3f4507752437",
   "metadata": {},
   "outputs": [
    {
     "data": {
      "text/plain": [
       "[<Thread(Thread-5 (test), initial)>,\n",
       " <Thread(Thread-6 (test), initial)>,\n",
       " <Thread(Thread-7 (test), initial)>]"
      ]
     },
     "execution_count": 7,
     "metadata": {},
     "output_type": "execute_result"
    }
   ],
   "source": [
    "thread"
   ]
  },
  {
   "cell_type": "code",
   "execution_count": 8,
   "id": "bd04997e-bd45-47aa-b9d7-afb3949f7423",
   "metadata": {},
   "outputs": [],
   "source": [
    "#3 threads have been created in a single core"
   ]
  },
  {
   "cell_type": "code",
   "execution_count": 9,
   "id": "fb003884-d874-45a2-a618-2ca6dbe048c0",
   "metadata": {},
   "outputs": [
    {
     "name": "stdout",
     "output_type": "stream",
     "text": [
      "<Thread(Thread-5 (test), initial)>\n",
      "<Thread(Thread-6 (test), initial)>\n",
      "<Thread(Thread-7 (test), initial)>\n"
     ]
    }
   ],
   "source": [
    "for t in thread:\n",
    "    print(t)"
   ]
  },
  {
   "cell_type": "code",
   "execution_count": null,
   "id": "5917884b-3cbe-4f21-8a1b-aac15ed2fe5c",
   "metadata": {},
   "outputs": [],
   "source": []
  },
  {
   "cell_type": "code",
   "execution_count": 10,
   "id": "a2987f85-ccc3-42f6-b8b0-3551d10abc04",
   "metadata": {},
   "outputs": [],
   "source": [
    "import urllib.request\n",
    "\n",
    "def file_download(url,filename):\n",
    "    urllib.request.urlretrieve(url, filename)"
   ]
  },
  {
   "cell_type": "code",
   "execution_count": 14,
   "id": "c259141e-0e14-4a57-9e0d-a874ff395555",
   "metadata": {},
   "outputs": [],
   "source": [
    "file_download('https://raw.githubusercontent.com/itsfoss/text-files/master/agatha.txt','testt_1.txt')\n",
    "\n",
    "# data is fetched from given url and it is stored into testtt_1.txt file"
   ]
  },
  {
   "cell_type": "code",
   "execution_count": 16,
   "id": "547e9589-e0e4-4175-bdc8-aaeecd97446b",
   "metadata": {},
   "outputs": [],
   "source": [
    "#now i have to fetch data from 3 diffrent url's = create thread"
   ]
  },
  {
   "cell_type": "code",
   "execution_count": 17,
   "id": "8b51640d-8bfa-4dab-885b-5ea97fbbb1a8",
   "metadata": {},
   "outputs": [],
   "source": [
    "url_list = ['https://raw.githubusercontent.com/itsfoss/text-files/master/agatha.txt','https://raw.githubusercontent.com/itsfoss/text-files/master/sherlock.txt','https://raw.githubusercontent.com/itsfoss/text-files/master/sample_log_file.txt']"
   ]
  },
  {
   "cell_type": "code",
   "execution_count": 18,
   "id": "969e80c0-9c2f-4b34-a13e-a331aad433b2",
   "metadata": {},
   "outputs": [
    {
     "data": {
      "text/plain": [
       "['https://raw.githubusercontent.com/itsfoss/text-files/master/agatha.txt',\n",
       " 'https://raw.githubusercontent.com/itsfoss/text-files/master/sherlock.txt',\n",
       " 'https://raw.githubusercontent.com/itsfoss/text-files/master/sample_log_file.txt']"
      ]
     },
     "execution_count": 18,
     "metadata": {},
     "output_type": "execute_result"
    }
   ],
   "source": [
    "url_list"
   ]
  },
  {
   "cell_type": "code",
   "execution_count": 19,
   "id": "4bd28756-3a06-47c3-b210-67257527c0ea",
   "metadata": {},
   "outputs": [],
   "source": [
    "data_file_list = ['data1.txt','data2.txt','data3.txt']"
   ]
  },
  {
   "cell_type": "code",
   "execution_count": 26,
   "id": "837854df-f1a7-4be1-bc6c-5a2e79f93eae",
   "metadata": {},
   "outputs": [],
   "source": [
    "thread1  = [threading.Thread(target = file_download, args = (url_list[i],data_file_list[i])) for i in range(len(url_list))]"
   ]
  },
  {
   "cell_type": "code",
   "execution_count": 27,
   "id": "55654cab-69e1-41a1-9d3e-daed78ad9213",
   "metadata": {},
   "outputs": [
    {
     "data": {
      "text/plain": [
       "[<Thread(Thread-11 (file_download), initial)>,\n",
       " <Thread(Thread-12 (file_download), initial)>,\n",
       " <Thread(Thread-13 (file_download), initial)>]"
      ]
     },
     "execution_count": 27,
     "metadata": {},
     "output_type": "execute_result"
    }
   ],
   "source": [
    "thread1"
   ]
  },
  {
   "cell_type": "code",
   "execution_count": 28,
   "id": "ea63820e-eea1-4432-9af8-038fc8b66823",
   "metadata": {},
   "outputs": [],
   "source": [
    "for t in thread1:\n",
    "    t.start()"
   ]
  },
  {
   "cell_type": "code",
   "execution_count": 4,
   "id": "77b8c038-b256-4c4e-9174-534da484126b",
   "metadata": {},
   "outputs": [],
   "source": [
    "import time"
   ]
  },
  {
   "cell_type": "code",
   "execution_count": 40,
   "id": "c67a0e71-b2f1-40ed-be57-c9f06307a28e",
   "metadata": {},
   "outputs": [],
   "source": [
    "def test2(x):\n",
    "    for i in range(10):\n",
    "        print('test1 print the value of x %d and print value of i %d' %(x,i))\n",
    "        time.sleep(1) # prints each iteration after 1 sec time"
   ]
  },
  {
   "cell_type": "code",
   "execution_count": 34,
   "id": "9b77cae9-4a33-48f1-8dd1-2813268e5ef7",
   "metadata": {},
   "outputs": [
    {
     "name": "stdout",
     "output_type": "stream",
     "text": [
      "test1 print the value of x 10 and print value of i 0\n",
      "test1 print the value of x 10 and print value of i 1\n",
      "test1 print the value of x 10 and print value of i 2\n",
      "test1 print the value of x 10 and print value of i 3\n",
      "test1 print the value of x 10 and print value of i 4\n",
      "test1 print the value of x 10 and print value of i 5\n",
      "test1 print the value of x 10 and print value of i 6\n",
      "test1 print the value of x 10 and print value of i 7\n",
      "test1 print the value of x 10 and print value of i 8\n",
      "test1 print the value of x 10 and print value of i 9\n"
     ]
    }
   ],
   "source": [
    "test2(10)"
   ]
  },
  {
   "cell_type": "code",
   "execution_count": 32,
   "id": "8f2fe7de-d105-4d16-b6f9-a97a41ac79b0",
   "metadata": {},
   "outputs": [
    {
     "name": "stdout",
     "output_type": "stream",
     "text": [
      "test1 print the value of x 2 and print value of i 0\n",
      "test1 print the value of x 2 and print value of i 1\n",
      "test1 print the value of x 2 and print value of i 2\n",
      "test1 print the value of x 2 and print value of i 3\n",
      "test1 print the value of x 2 and print value of i 4\n",
      "test1 print the value of x 2 and print value of i 5\n",
      "test1 print the value of x 2 and print value of i 6\n",
      "test1 print the value of x 2 and print value of i 7\n",
      "test1 print the value of x 2 and print value of i 8\n",
      "test1 print the value of x 2 and print value of i 9\n"
     ]
    }
   ],
   "source": [
    "test2(2)"
   ]
  },
  {
   "cell_type": "code",
   "execution_count": 41,
   "id": "540bee74-c8bd-47b3-a654-622d5bf937e8",
   "metadata": {},
   "outputs": [],
   "source": [
    "thread2 = [threading.Thread(target = test2,args = (i,)) for i in [100,20,30,5]]"
   ]
  },
  {
   "cell_type": "code",
   "execution_count": 42,
   "id": "f7971d17-8be6-47f8-b042-c41adade94f8",
   "metadata": {},
   "outputs": [
    {
     "name": "stdout",
     "output_type": "stream",
     "text": [
      "test1 print the value of x 100 and print value of i 0\n",
      "test1 print the value of x 20 and print value of i 0\n",
      "test1 print the value of x 30 and print value of i 0\n",
      "test1 print the value of x 5 and print value of i 0\n",
      "test1 print the value of x 100 and print value of i 1test1 print the value of x 20 and print value of i 1\n",
      "\n",
      "test1 print the value of x 30 and print value of i 1\n",
      "test1 print the value of x 5 and print value of i 1\n",
      "test1 print the value of x 20 and print value of i 2\n",
      "test1 print the value of x 100 and print value of i 2\n",
      "test1 print the value of x 30 and print value of i 2\n",
      "test1 print the value of x 5 and print value of i 2\n",
      "test1 print the value of x 20 and print value of i 3test1 print the value of x 30 and print value of i 3\n",
      "\n",
      "test1 print the value of x 100 and print value of i 3\n",
      "test1 print the value of x 5 and print value of i 3\n",
      "test1 print the value of x 30 and print value of i 4\n",
      "test1 print the value of x 5 and print value of i 4\n",
      "test1 print the value of x 100 and print value of i 4\n",
      "test1 print the value of x 20 and print value of i 4\n",
      "test1 print the value of x 5 and print value of i 5\n",
      "test1 print the value of x 20 and print value of i 5\n",
      "test1 print the value of x 100 and print value of i 5\n",
      "test1 print the value of x 30 and print value of i 5\n",
      "test1 print the value of x 5 and print value of i 6test1 print the value of x 20 and print value of i 6\n",
      "test1 print the value of x 30 and print value of i 6\n",
      "\n",
      "test1 print the value of x 100 and print value of i 6\n",
      "test1 print the value of x 20 and print value of i 7test1 print the value of x 5 and print value of i 7\n",
      "test1 print the value of x 30 and print value of i 7\n",
      "\n",
      "test1 print the value of x 100 and print value of i 7\n",
      "test1 print the value of x 5 and print value of i 8\n",
      "test1 print the value of x 30 and print value of i 8\n",
      "test1 print the value of x 20 and print value of i 8\n",
      "test1 print the value of x 100 and print value of i 8\n",
      "test1 print the value of x 5 and print value of i 9\n",
      "test1 print the value of x 30 and print value of i 9\n",
      "test1 print the value of x 20 and print value of i 9\n",
      "test1 print the value of x 100 and print value of i 9\n"
     ]
    }
   ],
   "source": [
    "for t in thread2:\n",
    "    t.start()"
   ]
  },
  {
   "cell_type": "markdown",
   "id": "8afb761f-34b0-442d-a86e-b1583ae572bc",
   "metadata": {},
   "source": [
    "if u can see in the above code, if we dnot add time.sleep(1), results will get generated completely for first iteration i.e. 100 and then for 20 and 30 and 5.\n",
    "But if we add time.sleep(1) then it will print for everything at one by one.\n",
    "first it will print for 100 then it sleeps, at the same time it print for 20 then sleep, at the same time for 30 and so on. Hence proved threading works partially"
   ]
  },
  {
   "cell_type": "code",
   "execution_count": 9,
   "id": "02b65c42-4986-48f4-b6ce-b364f286f3c2",
   "metadata": {},
   "outputs": [],
   "source": [
    "shared_var = 0\n",
    "lock_var = threading.Lock() #create lock for resources e.g when someone is using x=1 , no one can use 1 at the same time\n",
    "def test3(x):\n",
    "    global shared_var\n",
    "    with lock_var:\n",
    "        shared_var +=1\n",
    "        print('value of x %d and value of shared_var %d' %(x,shared_var))\n",
    "        time.sleep(1)\n",
    "\n",
    "thread5 = [threading.Thread(target = test3,args=(i,)) for i in [1,2,3,4,4,5]]"
   ]
  },
  {
   "cell_type": "code",
   "execution_count": 5,
   "id": "7f861923-2ae9-4e0c-be41-9d3025340d9a",
   "metadata": {},
   "outputs": [
    {
     "name": "stdout",
     "output_type": "stream",
     "text": [
      "value of x 1 and value of shared_var 2\n"
     ]
    }
   ],
   "source": [
    "test3(1)"
   ]
  },
  {
   "cell_type": "code",
   "execution_count": 6,
   "id": "4759f745-953f-4700-84ba-9975e77dbe95",
   "metadata": {},
   "outputs": [
    {
     "name": "stdout",
     "output_type": "stream",
     "text": [
      "value of x 5 and value of shared_var 3\n"
     ]
    }
   ],
   "source": [
    "test3(5)"
   ]
  },
  {
   "cell_type": "code",
   "execution_count": 10,
   "id": "3dbf475a-d9e9-433a-bb52-3ef70dca9e1e",
   "metadata": {},
   "outputs": [
    {
     "name": "stdout",
     "output_type": "stream",
     "text": [
      "value of x 1 and value of shared_var 1\n",
      "value of x 2 and value of shared_var 2\n",
      "value of x 3 and value of shared_var 3\n",
      "value of x 4 and value of shared_var 4\n",
      "value of x 4 and value of shared_var 5\n",
      "value of x 5 and value of shared_var 6\n"
     ]
    }
   ],
   "source": [
    "for t in thread5:\n",
    "    t.start()"
   ]
  },
  {
   "cell_type": "code",
   "execution_count": null,
   "id": "099c43f6-b4ad-4397-9d8b-4d4bc8866d17",
   "metadata": {},
   "outputs": [],
   "source": []
  }
 ],
 "metadata": {
  "kernelspec": {
   "display_name": "Python 3 (ipykernel)",
   "language": "python",
   "name": "python3"
  },
  "language_info": {
   "codemirror_mode": {
    "name": "ipython",
    "version": 3
   },
   "file_extension": ".py",
   "mimetype": "text/x-python",
   "name": "python",
   "nbconvert_exporter": "python",
   "pygments_lexer": "ipython3",
   "version": "3.10.8"
  }
 },
 "nbformat": 4,
 "nbformat_minor": 5
}
