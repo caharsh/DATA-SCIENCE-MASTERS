{
 "cells": [
  {
   "cell_type": "code",
   "execution_count": 9,
   "id": "cb53df64-4ba1-40fb-860d-ff872c0253be",
   "metadata": {},
   "outputs": [],
   "source": [
    "def test():\n",
    "    pass\n",
    "    "
   ]
  },
  {
   "cell_type": "code",
   "execution_count": 10,
   "id": "a0de5a54-6a8c-4b5b-8bf9-ec2518c82253",
   "metadata": {},
   "outputs": [],
   "source": [
    "def test1():\n",
    "    print(\"my 1st func\")"
   ]
  },
  {
   "cell_type": "code",
   "execution_count": 11,
   "id": "0e57c747-cf65-4e9b-a72a-5ff06e935cdb",
   "metadata": {},
   "outputs": [
    {
     "name": "stdout",
     "output_type": "stream",
     "text": [
      "my 1st func\n"
     ]
    }
   ],
   "source": [
    "test1()"
   ]
  },
  {
   "cell_type": "code",
   "execution_count": 12,
   "id": "a048327e-c910-4bc0-ad28-16670e8f16d5",
   "metadata": {},
   "outputs": [
    {
     "name": "stdout",
     "output_type": "stream",
     "text": [
      "my 1st func\n"
     ]
    },
    {
     "ename": "TypeError",
     "evalue": "unsupported operand type(s) for +: 'NoneType' and 'str'",
     "output_type": "error",
     "traceback": [
      "\u001b[0;31m---------------------------------------------------------------------------\u001b[0m",
      "\u001b[0;31mTypeError\u001b[0m                                 Traceback (most recent call last)",
      "Cell \u001b[0;32mIn[12], line 1\u001b[0m\n\u001b[0;32m----> 1\u001b[0m \u001b[43mtest1\u001b[49m\u001b[43m(\u001b[49m\u001b[43m)\u001b[49m\u001b[43m \u001b[49m\u001b[38;5;241;43m+\u001b[39;49m\u001b[43m \u001b[49m\u001b[38;5;124;43m'\u001b[39;49m\u001b[38;5;124;43mharsh\u001b[39;49m\u001b[38;5;124;43m'\u001b[39;49m\n",
      "\u001b[0;31mTypeError\u001b[0m: unsupported operand type(s) for +: 'NoneType' and 'str'"
     ]
    }
   ],
   "source": [
    "test1() + 'harsh'"
   ]
  },
  {
   "cell_type": "code",
   "execution_count": null,
   "id": "276b101a-11c0-4990-b475-a6de5f04d0dd",
   "metadata": {},
   "outputs": [],
   "source": [
    "#Nonetype - print returns runtype"
   ]
  },
  {
   "cell_type": "code",
   "execution_count": 17,
   "id": "c9283f91-d001-4da7-807a-5b588e42f791",
   "metadata": {},
   "outputs": [],
   "source": [
    "def test2():\n",
    "    return \"this is my func with return \""
   ]
  },
  {
   "cell_type": "code",
   "execution_count": 18,
   "id": "138bf096-a481-4762-bef5-0229b3bb9aef",
   "metadata": {},
   "outputs": [
    {
     "data": {
      "text/plain": [
       "'this is my func with return harsh'"
      ]
     },
     "execution_count": 18,
     "metadata": {},
     "output_type": "execute_result"
    }
   ],
   "source": [
    "test2() + 'harsh'\n"
   ]
  },
  {
   "cell_type": "code",
   "execution_count": 19,
   "id": "e60d33aa-deb8-4c22-8c8b-ec0ec5de567a",
   "metadata": {},
   "outputs": [],
   "source": [
    "def test3():\n",
    "    return 1,2,'pwskills',34.56"
   ]
  },
  {
   "cell_type": "code",
   "execution_count": 20,
   "id": "3f8fd0b8-f868-4cd1-ad22-0899b0c50428",
   "metadata": {},
   "outputs": [
    {
     "data": {
      "text/plain": [
       "(1, 2, 'pwskills', 34.56)"
      ]
     },
     "execution_count": 20,
     "metadata": {},
     "output_type": "execute_result"
    }
   ],
   "source": [
    "test3()"
   ]
  },
  {
   "cell_type": "code",
   "execution_count": 24,
   "id": "8348d34f-815d-431f-a50f-9ca135c4fa79",
   "metadata": {},
   "outputs": [
    {
     "data": {
      "text/plain": [
       "'True'"
      ]
     },
     "execution_count": 24,
     "metadata": {},
     "output_type": "execute_result"
    }
   ],
   "source": [
    "a,b,c,d  = 1,2,34.56,'True'\n",
    "d #declaring multiple variable at the same type"
   ]
  },
  {
   "cell_type": "code",
   "execution_count": 25,
   "id": "0255cb0b-8ce9-4b1b-9618-89695ab59f17",
   "metadata": {},
   "outputs": [
    {
     "data": {
      "text/plain": [
       "(1, 2, 'pwskills', 34.56)"
      ]
     },
     "execution_count": 25,
     "metadata": {},
     "output_type": "execute_result"
    }
   ],
   "source": [
    "test3() # in tuple output"
   ]
  },
  {
   "cell_type": "code",
   "execution_count": 26,
   "id": "8e4592b8-07aa-446c-b729-011188339d64",
   "metadata": {},
   "outputs": [
    {
     "data": {
      "text/plain": [
       "1"
      ]
     },
     "execution_count": 26,
     "metadata": {},
     "output_type": "execute_result"
    }
   ],
   "source": [
    "test3()[0]"
   ]
  },
  {
   "cell_type": "code",
   "execution_count": 27,
   "id": "f6d2c29c-cab5-4ed7-aa56-23c4aa71e3d4",
   "metadata": {},
   "outputs": [
    {
     "data": {
      "text/plain": [
       "34.56"
      ]
     },
     "execution_count": 27,
     "metadata": {},
     "output_type": "execute_result"
    }
   ],
   "source": [
    "test3()[3]"
   ]
  },
  {
   "cell_type": "code",
   "execution_count": 28,
   "id": "445c93d7-5193-45ba-995f-0542aba1224e",
   "metadata": {},
   "outputs": [],
   "source": [
    "a,b,c,d = test3()"
   ]
  },
  {
   "cell_type": "code",
   "execution_count": 30,
   "id": "c3f8ca91-7ac5-452b-bf57-09f06fb69fde",
   "metadata": {},
   "outputs": [
    {
     "data": {
      "text/plain": [
       "'pwskills'"
      ]
     },
     "execution_count": 30,
     "metadata": {},
     "output_type": "execute_result"
    }
   ],
   "source": [
    "c"
   ]
  },
  {
   "cell_type": "code",
   "execution_count": 31,
   "id": "d11dac13-535e-4f81-b4e8-7a098e137d11",
   "metadata": {},
   "outputs": [],
   "source": [
    "def test4():\n",
    "    a = 3*4 + 5\n",
    "    return a\n",
    "    "
   ]
  },
  {
   "cell_type": "code",
   "execution_count": 33,
   "id": "3d5e7428-f499-481b-b29b-afff38b9aafd",
   "metadata": {},
   "outputs": [
    {
     "data": {
      "text/plain": [
       "int"
      ]
     },
     "execution_count": 33,
     "metadata": {},
     "output_type": "execute_result"
    }
   ],
   "source": [
    "type(test4())"
   ]
  },
  {
   "cell_type": "code",
   "execution_count": 43,
   "id": "972815de-fa66-44d0-b58f-38e1b54fdad5",
   "metadata": {},
   "outputs": [],
   "source": [
    "def test5(a,b):\n",
    "    c = a + b\n",
    "    return c\n"
   ]
  },
  {
   "cell_type": "code",
   "execution_count": 44,
   "id": "8524ba1d-eaff-4aca-9d2b-79543ae06ed1",
   "metadata": {},
   "outputs": [
    {
     "data": {
      "text/plain": [
       "9"
      ]
     },
     "execution_count": 44,
     "metadata": {},
     "output_type": "execute_result"
    }
   ],
   "source": [
    "test5(2,7)"
   ]
  },
  {
   "cell_type": "code",
   "execution_count": 45,
   "id": "4277f69a-6516-478f-843d-73ae10616ac0",
   "metadata": {},
   "outputs": [
    {
     "data": {
      "text/plain": [
       "'harshtanpure'"
      ]
     },
     "execution_count": 45,
     "metadata": {},
     "output_type": "execute_result"
    }
   ],
   "source": [
    "test5('harsh','tanpure')"
   ]
  },
  {
   "cell_type": "code",
   "execution_count": 46,
   "id": "9701f4c0-f471-450b-b65f-702a65ba7e14",
   "metadata": {},
   "outputs": [
    {
     "data": {
      "text/plain": [
       "[1, 2, 3, 4, 5, 6, 7, 8]"
      ]
     },
     "execution_count": 46,
     "metadata": {},
     "output_type": "execute_result"
    }
   ],
   "source": [
    "test5([1,2,3,4],[5,6,7,8])"
   ]
  },
  {
   "cell_type": "code",
   "execution_count": 47,
   "id": "afd26f0b-ce08-4170-a3c5-c4dfe8eb179d",
   "metadata": {},
   "outputs": [
    {
     "data": {
      "text/plain": [
       "'santoshharsh'"
      ]
     },
     "execution_count": 47,
     "metadata": {},
     "output_type": "execute_result"
    }
   ],
   "source": [
    "test5(b='harsh',a='santosh')"
   ]
  },
  {
   "cell_type": "code",
   "execution_count": 61,
   "id": "73a6c75f-d813-41b9-acf0-3cdd11329dfa",
   "metadata": {},
   "outputs": [],
   "source": [
    "l = [1,2,3,4,5,'harsh','pwskills',[1,2,3,4,5]]\n"
   ]
  },
  {
   "cell_type": "code",
   "execution_count": 54,
   "id": "1a3a9340-11d8-4ad5-a3a8-8a61bc10c812",
   "metadata": {},
   "outputs": [],
   "source": [
    "# create a func which will take list a sinput and give me final list with all the numeric values\n",
    "def test6(a):\n",
    "    n=[]\n",
    "    for i in a:\n",
    "        if type(i)==int or type(i)==float:\n",
    "            n.append(i)\n",
    "        elif type(i)==list:\n",
    "            for j in \n",
    "            n.append\n",
    "    return n\n",
    "            \n",
    "    "
   ]
  },
  {
   "cell_type": "code",
   "execution_count": 55,
   "id": "35af2382-9f98-4103-8504-ff1e7b6035cd",
   "metadata": {},
   "outputs": [
    {
     "data": {
      "text/plain": [
       "[1, 2, 3, 4, 5]"
      ]
     },
     "execution_count": 55,
     "metadata": {},
     "output_type": "execute_result"
    }
   ],
   "source": [
    "test6(l)"
   ]
  },
  {
   "cell_type": "code",
   "execution_count": 62,
   "id": "ece971cf-0865-472a-ad53-6db8ce92de30",
   "metadata": {},
   "outputs": [],
   "source": [
    "def test7(b):\n",
    "    n = []\n",
    "    for i in b:\n",
    "        if type(i)==list:\n",
    "            for j in i:\n",
    "                if type(j)==int or type(j)==float:\n",
    "                    n.append(j)\n",
    "        else:\n",
    "            if type(i)==int or type(i)==float:\n",
    "                n.append(i)\n",
    "    return n"
   ]
  },
  {
   "cell_type": "code",
   "execution_count": 63,
   "id": "85c15635-d9d8-40ed-b648-ba6e65889b08",
   "metadata": {},
   "outputs": [
    {
     "data": {
      "text/plain": [
       "[1, 2, 3, 4, 5, 1, 2, 3, 4, 5]"
      ]
     },
     "execution_count": 63,
     "metadata": {},
     "output_type": "execute_result"
    }
   ],
   "source": [
    "test7(l)"
   ]
  },
  {
   "cell_type": "markdown",
   "id": "8299716c-d6cf-4931-a7f0-5c75d3566251",
   "metadata": {},
   "source": [
    "## function part=2"
   ]
  },
  {
   "cell_type": "code",
   "execution_count": 64,
   "id": "72170dfe-f10c-4b39-a506-05eee2a8916a",
   "metadata": {},
   "outputs": [],
   "source": [
    "def test(a,b,c,d,e):\n",
    "    pass"
   ]
  },
  {
   "cell_type": "code",
   "execution_count": 65,
   "id": "e0c14342-208e-4947-81e0-517df339d7f4",
   "metadata": {},
   "outputs": [],
   "source": [
    "def test1(*args):\n",
    "    return args"
   ]
  },
  {
   "cell_type": "markdown",
   "id": "56c5b72c-635e-497b-9eef-ed6b892f15c5",
   "metadata": {},
   "source": [
    "#### passing any number of arguments using *args"
   ]
  },
  {
   "cell_type": "code",
   "execution_count": 66,
   "id": "563c4ca5-184f-4680-a12b-a437600136c9",
   "metadata": {},
   "outputs": [
    {
     "data": {
      "text/plain": [
       "(2,)"
      ]
     },
     "execution_count": 66,
     "metadata": {},
     "output_type": "execute_result"
    }
   ],
   "source": [
    "test1(2)"
   ]
  },
  {
   "cell_type": "code",
   "execution_count": 67,
   "id": "aa68a7ab-6bd3-4a15-8fb2-da099cb4274a",
   "metadata": {},
   "outputs": [
    {
     "data": {
      "text/plain": [
       "(1, 2, 3, 4, 5)"
      ]
     },
     "execution_count": 67,
     "metadata": {},
     "output_type": "execute_result"
    }
   ],
   "source": [
    "test1(1,2,3,4,5)"
   ]
  },
  {
   "cell_type": "code",
   "execution_count": 68,
   "id": "d7d910b5-e2c4-4e7e-9dfc-4f9e92f870ef",
   "metadata": {},
   "outputs": [
    {
     "data": {
      "text/plain": [
       "('harsgh', 1, 2, 3, 4.5, [1, 2, 3, 4])"
      ]
     },
     "execution_count": 68,
     "metadata": {},
     "output_type": "execute_result"
    }
   ],
   "source": [
    "test1('harsgh',1,2,3,4.5,[1,2,3,4])"
   ]
  },
  {
   "cell_type": "code",
   "execution_count": 70,
   "id": "9959b713-585a-4c25-bd44-fd885881989b",
   "metadata": {},
   "outputs": [],
   "source": [
    "def test2(*harsh):\n",
    "    return harsh"
   ]
  },
  {
   "cell_type": "code",
   "execution_count": 71,
   "id": "6783eb09-c3a1-48fc-b850-f4848380864c",
   "metadata": {},
   "outputs": [
    {
     "data": {
      "text/plain": [
       "(1, 2, 3, 4.5, 'harsh')"
      ]
     },
     "execution_count": 71,
     "metadata": {},
     "output_type": "execute_result"
    }
   ],
   "source": [
    "test2(1,2,3,4.5,'harsh')"
   ]
  },
  {
   "cell_type": "code",
   "execution_count": 72,
   "id": "208b2cc6-892f-4df0-8e78-4c47dc4161bd",
   "metadata": {},
   "outputs": [],
   "source": [
    "def test3(*args,a):\n",
    "    return args, a"
   ]
  },
  {
   "cell_type": "code",
   "execution_count": 73,
   "id": "3cd8829f-3c52-4770-81b2-e581dc28d12a",
   "metadata": {},
   "outputs": [
    {
     "ename": "TypeError",
     "evalue": "test3() missing 1 required keyword-only argument: 'a'",
     "output_type": "error",
     "traceback": [
      "\u001b[0;31m---------------------------------------------------------------------------\u001b[0m",
      "\u001b[0;31mTypeError\u001b[0m                                 Traceback (most recent call last)",
      "Cell \u001b[0;32mIn[73], line 1\u001b[0m\n\u001b[0;32m----> 1\u001b[0m \u001b[43mtest3\u001b[49m\u001b[43m(\u001b[49m\u001b[38;5;241;43m1\u001b[39;49m\u001b[43m,\u001b[49m\u001b[38;5;241;43m2\u001b[39;49m\u001b[43m,\u001b[49m\u001b[38;5;241;43m3\u001b[39;49m\u001b[43m,\u001b[49m\u001b[38;5;241;43m4\u001b[39;49m\u001b[43m)\u001b[49m\n",
      "\u001b[0;31mTypeError\u001b[0m: test3() missing 1 required keyword-only argument: 'a'"
     ]
    }
   ],
   "source": [
    "test3(1,2,3,4)"
   ]
  },
  {
   "cell_type": "code",
   "execution_count": 74,
   "id": "bd39cf2c-9415-4ce5-a3b3-c2af6d909ed1",
   "metadata": {},
   "outputs": [
    {
     "data": {
      "text/plain": [
       "((1, 2, 3, 4), 'harsh')"
      ]
     },
     "execution_count": 74,
     "metadata": {},
     "output_type": "execute_result"
    }
   ],
   "source": [
    "test3(1,2,3,4,a='harsh')"
   ]
  },
  {
   "cell_type": "code",
   "execution_count": 75,
   "id": "0eeeb704-0b47-4000-b887-cdc86776971d",
   "metadata": {},
   "outputs": [],
   "source": [
    "def test4(*args):\n",
    "    l = []\n",
    "    for i in args:\n",
    "        if type(i)==list:\n",
    "            l.append(i)\n",
    "    return l\n",
    "            "
   ]
  },
  {
   "cell_type": "code",
   "execution_count": 77,
   "id": "e70b47c0-6d13-4617-b2ff-cb79ae351f0b",
   "metadata": {},
   "outputs": [
    {
     "data": {
      "text/plain": [
       "[[3, 1, 2, 3], [5, 6, 7, 8]]"
      ]
     },
     "execution_count": 77,
     "metadata": {},
     "output_type": "execute_result"
    }
   ],
   "source": [
    "test4(1,2,3,[3,1,2,3],(1,2,3,4),'harsh',[5,6,7,8])"
   ]
  },
  {
   "cell_type": "code",
   "execution_count": 78,
   "id": "373c39f1-c0e9-4025-90a6-d764f325960f",
   "metadata": {},
   "outputs": [],
   "source": [
    "def test5(**kwargs):\n",
    "    return kwargs\n",
    "    "
   ]
  },
  {
   "cell_type": "code",
   "execution_count": 79,
   "id": "f6ef7d8b-e538-4d1c-86f3-c7731d210b57",
   "metadata": {},
   "outputs": [
    {
     "data": {
      "text/plain": [
       "{}"
      ]
     },
     "execution_count": 79,
     "metadata": {},
     "output_type": "execute_result"
    }
   ],
   "source": [
    "test5()"
   ]
  },
  {
   "cell_type": "code",
   "execution_count": 80,
   "id": "77d229a0-449f-468d-acd9-1545c16e5335",
   "metadata": {},
   "outputs": [
    {
     "data": {
      "text/plain": [
       "dict"
      ]
     },
     "execution_count": 80,
     "metadata": {},
     "output_type": "execute_result"
    }
   ],
   "source": [
    "type(test5())"
   ]
  },
  {
   "cell_type": "code",
   "execution_count": 82,
   "id": "e7aa9e4b-7c96-4499-b350-d6bb3b1fab74",
   "metadata": {},
   "outputs": [
    {
     "data": {
      "text/plain": [
       "{'a': 34, 'b': 67, 'c': [1, 2, 3, 4], 'd': 'harsh', 'e': (1, 2, 34)}"
      ]
     },
     "execution_count": 82,
     "metadata": {},
     "output_type": "execute_result"
    }
   ],
   "source": [
    "test5(a=34,b=67,c=[1,2,3,4],d='harsh',e=(1,2,34))"
   ]
  },
  {
   "cell_type": "code",
   "execution_count": 83,
   "id": "83d8a072-bf71-4968-a398-92fa4a8c71f7",
   "metadata": {},
   "outputs": [],
   "source": [
    "def test6(**kwargs):\n",
    "    for i in kwargs.keys():\n",
    "        if type(kwargs[i]) == list:\n",
    "            return i, kwargs[i]\n",
    "    "
   ]
  },
  {
   "cell_type": "code",
   "execution_count": 84,
   "id": "b8bf616c-3956-4172-a6e3-46f1a1ec7f5d",
   "metadata": {},
   "outputs": [
    {
     "data": {
      "text/plain": [
       "('c', [1, 2, 3, 4])"
      ]
     },
     "execution_count": 84,
     "metadata": {},
     "output_type": "execute_result"
    }
   ],
   "source": [
    "test6(a=34,b=67,c=[1,2,3,4],d='harsh',e=(1,2,34))"
   ]
  },
  {
   "cell_type": "code",
   "execution_count": 85,
   "id": "fa095d08-4fdb-4da3-862f-afe420f47566",
   "metadata": {},
   "outputs": [],
   "source": [
    "def test7(*args,**kwargs):\n",
    "    return args,kwargs"
   ]
  },
  {
   "cell_type": "code",
   "execution_count": 87,
   "id": "192a5273-6a70-45cc-b9b9-f575e4cd8243",
   "metadata": {},
   "outputs": [
    {
     "data": {
      "text/plain": [
       "((2, 3, 4, 5), {'a': 34})"
      ]
     },
     "execution_count": 87,
     "metadata": {},
     "output_type": "execute_result"
    }
   ],
   "source": [
    "test7(2,3,4,5,a=34)"
   ]
  },
  {
   "cell_type": "markdown",
   "id": "66047d86-4b8f-4a78-ab43-c78cca7e1e7b",
   "metadata": {},
   "source": [
    "## function part = 3"
   ]
  },
  {
   "cell_type": "markdown",
   "id": "8ef2fd01-b4bf-44d4-a561-9813ffba2ccb",
   "metadata": {},
   "source": [
    " generator funtion"
   ]
  },
  {
   "cell_type": "code",
   "execution_count": 88,
   "id": "38c31f37-1557-4b38-8c28-d91193e3b451",
   "metadata": {},
   "outputs": [
    {
     "data": {
      "text/plain": [
       "range(1, 10)"
      ]
     },
     "execution_count": 88,
     "metadata": {},
     "output_type": "execute_result"
    }
   ],
   "source": [
    "range(1,10)"
   ]
  },
  {
   "cell_type": "code",
   "execution_count": 89,
   "id": "1f4d5567-2aca-44b8-9930-b52b46d7e8b7",
   "metadata": {},
   "outputs": [
    {
     "name": "stdout",
     "output_type": "stream",
     "text": [
      "1\n",
      "2\n",
      "3\n",
      "4\n",
      "5\n",
      "6\n",
      "7\n",
      "8\n",
      "9\n"
     ]
    }
   ],
   "source": [
    "for i in range(1,10):\n",
    "    print(i)"
   ]
  },
  {
   "cell_type": "code",
   "execution_count": 90,
   "id": "fa23d311-4d38-4141-8cfa-02db53585cb8",
   "metadata": {},
   "outputs": [],
   "source": [
    "l = [1,2,3,4,4,5,6,'harsh', 'pw']"
   ]
  },
  {
   "cell_type": "code",
   "execution_count": 91,
   "id": "0bd2fee6-d787-434c-a3ea-5c53658b5339",
   "metadata": {},
   "outputs": [],
   "source": [
    "def test1(a):\n",
    "    n = []\n",
    "    for i in a:\n",
    "        if type(i)==int:\n",
    "            n.append(i)\n",
    "    return n"
   ]
  },
  {
   "cell_type": "code",
   "execution_count": 92,
   "id": "941c6e13-8a45-4f6d-a78d-7c9e4b81043b",
   "metadata": {},
   "outputs": [
    {
     "data": {
      "text/plain": [
       "[1, 2, 3, 4, 4, 5, 6]"
      ]
     },
     "execution_count": 92,
     "metadata": {},
     "output_type": "execute_result"
    }
   ],
   "source": [
    "test1(l)"
   ]
  },
  {
   "cell_type": "markdown",
   "id": "f92a42ea-f418-4e06-81c5-de3ebbd32d5e",
   "metadata": {},
   "source": [
    " fibonacci series\n",
    "\n",
    "0,1,1,2,3,5,8,....."
   ]
  },
  {
   "cell_type": "code",
   "execution_count": null,
   "id": "848217a4-e6d1-45df-8327-d7188a5beb22",
   "metadata": {},
   "outputs": [],
   "source": [
    "#trying  to generate range of data\n"
   ]
  },
  {
   "cell_type": "code",
   "execution_count": 93,
   "id": "f7edc75f-8b04-4dfb-bad3-0d1f7a1169f0",
   "metadata": {},
   "outputs": [],
   "source": [
    "def test_fib(n):\n",
    "    a,b=0,1\n",
    "    for i in range(n):\n",
    "        yield a\n",
    "        a,b = b,a+b\n",
    "        "
   ]
  },
  {
   "cell_type": "code",
   "execution_count": 94,
   "id": "41254a75-2cdd-4cab-8e92-1e3adb2bf3b6",
   "metadata": {},
   "outputs": [
    {
     "data": {
      "text/plain": [
       "<generator object test_fib at 0x7f10ac1831b0>"
      ]
     },
     "execution_count": 94,
     "metadata": {},
     "output_type": "execute_result"
    }
   ],
   "source": [
    "test_fib(10)"
   ]
  },
  {
   "cell_type": "code",
   "execution_count": 96,
   "id": "c4fa6f4a-740b-4a7c-8b5e-d5402bcb13bd",
   "metadata": {},
   "outputs": [
    {
     "name": "stdout",
     "output_type": "stream",
     "text": [
      "0\n",
      "1\n",
      "1\n",
      "2\n",
      "3\n",
      "5\n",
      "8\n",
      "13\n",
      "21\n",
      "34\n"
     ]
    }
   ],
   "source": [
    "for i in test_fib(10):\n",
    "    print(i)"
   ]
  },
  {
   "cell_type": "code",
   "execution_count": null,
   "id": "a3b49a69-f381-46f7-84ea-5ed4c610dea8",
   "metadata": {},
   "outputs": [],
   "source": []
  },
  {
   "cell_type": "code",
   "execution_count": null,
   "id": "74ac2c7d-93ed-4ac8-9fa6-259faace6aa9",
   "metadata": {},
   "outputs": [],
   "source": []
  },
  {
   "cell_type": "code",
   "execution_count": null,
   "id": "47df6f99-fa5d-4eb0-9cf2-b4ad92f8f3c3",
   "metadata": {},
   "outputs": [],
   "source": []
  },
  {
   "cell_type": "code",
   "execution_count": null,
   "id": "8ac6dff6-2320-4764-9a70-41db3d79bccd",
   "metadata": {},
   "outputs": [],
   "source": []
  },
  {
   "cell_type": "code",
   "execution_count": null,
   "id": "546d3d50-24ed-4fb1-88d6-d48ddadf9793",
   "metadata": {},
   "outputs": [],
   "source": []
  },
  {
   "cell_type": "code",
   "execution_count": null,
   "id": "60ac4fca-8ba8-4835-bd4c-5682d067d438",
   "metadata": {},
   "outputs": [],
   "source": []
  },
  {
   "cell_type": "code",
   "execution_count": null,
   "id": "372eac41-b0f7-4ca6-a3ba-972131207341",
   "metadata": {},
   "outputs": [],
   "source": []
  },
  {
   "cell_type": "code",
   "execution_count": null,
   "id": "65fdd1b6-a1d8-42cc-a2eb-7a714d00919a",
   "metadata": {},
   "outputs": [],
   "source": []
  },
  {
   "cell_type": "code",
   "execution_count": null,
   "id": "d43b83ee-8b2c-4511-ae09-f9e23045d584",
   "metadata": {},
   "outputs": [],
   "source": []
  }
 ],
 "metadata": {
  "kernelspec": {
   "display_name": "Python 3 (ipykernel)",
   "language": "python",
   "name": "python3"
  },
  "language_info": {
   "codemirror_mode": {
    "name": "ipython",
    "version": 3
   },
   "file_extension": ".py",
   "mimetype": "text/x-python",
   "name": "python",
   "nbconvert_exporter": "python",
   "pygments_lexer": "ipython3",
   "version": "3.10.8"
  }
 },
 "nbformat": 4,
 "nbformat_minor": 5
}
