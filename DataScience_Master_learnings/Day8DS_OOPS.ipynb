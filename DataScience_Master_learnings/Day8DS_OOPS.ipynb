{
 "cells": [
  {
   "cell_type": "code",
   "execution_count": null,
   "id": "d72face9-d10b-4719-8844-2f4fd2bf55c4",
   "metadata": {},
   "outputs": [],
   "source": [
    "a  = 1\n",
    "print(type(a))"
   ]
  },
  {
   "cell_type": "code",
   "execution_count": null,
   "id": "9616aa82-fd50-4314-9c7c-23acb989b148",
   "metadata": {},
   "outputs": [],
   "source": [
    "print(type('harsh'))"
   ]
  },
  {
   "cell_type": "code",
   "execution_count": null,
   "id": "78f90ed2-cf56-4293-9cf5-ee5072a44a51",
   "metadata": {},
   "outputs": [],
   "source": [
    "class test:\n",
    "    pass"
   ]
  },
  {
   "cell_type": "code",
   "execution_count": null,
   "id": "47e9d0e3-aecb-46f1-992e-9ab9d62d4beb",
   "metadata": {},
   "outputs": [],
   "source": []
  },
  {
   "cell_type": "code",
   "execution_count": null,
   "id": "6cce7dde-7a05-400c-9998-8c77e9fb2938",
   "metadata": {},
   "outputs": [],
   "source": []
  },
  {
   "cell_type": "code",
   "execution_count": null,
   "id": "bf66f41d-c021-4863-9179-a628ac22100f",
   "metadata": {},
   "outputs": [],
   "source": [
    "a =test() # variable a for class test # object or instance of class test"
   ]
  },
  {
   "cell_type": "code",
   "execution_count": null,
   "id": "7b98e942-c711-47a1-a810-4b65f7e54cd8",
   "metadata": {},
   "outputs": [],
   "source": [
    "type(a)"
   ]
  },
  {
   "cell_type": "code",
   "execution_count": null,
   "id": "21b3585e-765a-4f3c-ab86-584b1b5087b4",
   "metadata": {},
   "outputs": [],
   "source": [
    "print(type(a))"
   ]
  },
  {
   "cell_type": "code",
   "execution_count": 6,
   "id": "a1cf616b-4ab1-4e1d-a5dc-4e92891ed63d",
   "metadata": {},
   "outputs": [],
   "source": [
    "class pwskills:\n",
    "    def welcome_msg(self):\n",
    "        print(\"wc to pw\")"
   ]
  },
  {
   "cell_type": "code",
   "execution_count": 7,
   "id": "c1bee463-5cf0-40f7-990c-e37febb3e7b2",
   "metadata": {},
   "outputs": [],
   "source": [
    "rohan = pwskills()"
   ]
  },
  {
   "cell_type": "code",
   "execution_count": 8,
   "id": "66c94805-f6ab-40a3-908c-0c72c6e15f7f",
   "metadata": {},
   "outputs": [
    {
     "name": "stdout",
     "output_type": "stream",
     "text": [
      "wc to pw\n"
     ]
    }
   ],
   "source": [
    "rohan.welcome_msg()"
   ]
  },
  {
   "cell_type": "code",
   "execution_count": null,
   "id": "6c89fcdb-ff1e-4cf0-ac32-d971f7283e16",
   "metadata": {},
   "outputs": [],
   "source": [
    "sohan = pwskills()"
   ]
  },
  {
   "cell_type": "code",
   "execution_count": null,
   "id": "ec14f4da-00c4-49a0-8821-4ead1f75a2bb",
   "metadata": {},
   "outputs": [],
   "source": [
    "sohan.welcome_msg()"
   ]
  },
  {
   "cell_type": "code",
   "execution_count": null,
   "id": "c074825b-e2b7-4539-96e8-f7b026a511cc",
   "metadata": {},
   "outputs": [],
   "source": [
    "a =1\n",
    "b = 2"
   ]
  },
  {
   "cell_type": "code",
   "execution_count": null,
   "id": "7cc350d2-5622-443b-9d0f-2011ae14c071",
   "metadata": {},
   "outputs": [],
   "source": [
    "a"
   ]
  },
  {
   "cell_type": "code",
   "execution_count": null,
   "id": "eeabc942-5d15-4515-98e7-e64eaed88a1a",
   "metadata": {},
   "outputs": [],
   "source": [
    "b"
   ]
  },
  {
   "cell_type": "code",
   "execution_count": null,
   "id": "45f12e45-f262-43fa-aa78-9be6796585a1",
   "metadata": {},
   "outputs": [],
   "source": [
    "class pwskills1:\n",
    "    def __init__(self, phone_no,email,stu_id):\n",
    "        self.phone_no = phone_no\n",
    "        self.email = email\n",
    "        self.stu_id = stu_id\n",
    "    def return_stu_details(self):\n",
    "        return self.phone_no,self.email,self.stu_id\n",
    "        "
   ]
  },
  {
   "cell_type": "code",
   "execution_count": null,
   "id": "ff62a3b4-d9e0-4725-bca5-e15c308463a6",
   "metadata": {},
   "outputs": [],
   "source": [
    "rohan = pwskills1(9874,'rohan@gmail.com',1)"
   ]
  },
  {
   "cell_type": "code",
   "execution_count": null,
   "id": "aa5088a0-c308-4036-8cd9-925841deea5f",
   "metadata": {},
   "outputs": [],
   "source": [
    "rohan.return_stu_details()"
   ]
  },
  {
   "cell_type": "code",
   "execution_count": null,
   "id": "86892889-8ffe-489f-9870-d32bdb677eb0",
   "metadata": {},
   "outputs": [],
   "source": [
    "rohan.phone_no"
   ]
  },
  {
   "cell_type": "code",
   "execution_count": null,
   "id": "698c05f7-e641-48ba-9a99-6c491df76adb",
   "metadata": {},
   "outputs": [],
   "source": [
    "rohan.email"
   ]
  },
  {
   "cell_type": "code",
   "execution_count": null,
   "id": "bb388046-65c3-407f-b016-4e5dd404744e",
   "metadata": {},
   "outputs": [],
   "source": [
    "rohan.stu_id"
   ]
  },
  {
   "cell_type": "code",
   "execution_count": null,
   "id": "9d295e2f-e677-48c6-bffc-36c66f0e225f",
   "metadata": {},
   "outputs": [],
   "source": [
    "sohan = pwskills1(7492489723,'soh@gmail.com',2) # data passed to __init__"
   ]
  },
  {
   "cell_type": "code",
   "execution_count": null,
   "id": "75f24348-e347-4d9e-b6e4-59a92b5716c9",
   "metadata": {},
   "outputs": [],
   "source": [
    "sohan.phone_no"
   ]
  },
  {
   "cell_type": "code",
   "execution_count": null,
   "id": "6cf53b31-a2b2-4f29-bd57-9dee1524e7c1",
   "metadata": {},
   "outputs": [],
   "source": [
    "sohan.return_stu_details()"
   ]
  },
  {
   "cell_type": "code",
   "execution_count": null,
   "id": "b47d0174-8a9c-48b3-8515-48a3a2e71b7c",
   "metadata": {},
   "outputs": [],
   "source": [
    "class pwskills2:\n",
    "    def __init__(harsh, phone_no,email,stu_id):\n",
    "        harsh.phone_no = phone_no\n",
    "        harsh.email = email\n",
    "        harsh.stu_id = stu_id\n",
    "    def return_stu_details(harsh):\n",
    "        return harsh.phone_no,harsh.email,harsh.stu_id\n",
    "        "
   ]
  },
  {
   "cell_type": "code",
   "execution_count": null,
   "id": "a229fdc8-7d54-4dc9-b6d0-7df644f086f2",
   "metadata": {},
   "outputs": [],
   "source": [
    "mohan = pwskills2(732664842,'moh@gmail.com',3)"
   ]
  },
  {
   "cell_type": "code",
   "execution_count": null,
   "id": "391c557e-69c7-478b-8cb3-7ffcf17d1e41",
   "metadata": {},
   "outputs": [],
   "source": [
    "mohan.return_stu_details()"
   ]
  },
  {
   "cell_type": "code",
   "execution_count": null,
   "id": "2394e76b-fd5a-401b-9b0e-eb7b41dfd9fa",
   "metadata": {},
   "outputs": [],
   "source": [
    "class pwskills3:\n",
    "    def __init__(harsh, phone_no,email,stu_id):\n",
    "        harsh.phone_no1 = phone_no\n",
    "        harsh.email = email\n",
    "        harsh.stu_id = stu_id\n",
    "    def return_stu_details(harsh):\n",
    "        return harsh.phone_no1,harsh.email,harsh.stu_id"
   ]
  },
  {
   "cell_type": "code",
   "execution_count": null,
   "id": "17422370-9ee7-44dd-accc-84c712b76faa",
   "metadata": {},
   "outputs": [],
   "source": [
    "rohan = pwskills3(829747392,'.com',123)"
   ]
  },
  {
   "cell_type": "code",
   "execution_count": null,
   "id": "7e5283b7-0194-4b95-93ef-cd78dca0e7db",
   "metadata": {},
   "outputs": [],
   "source": [
    "rohan.phone_no1"
   ]
  },
  {
   "cell_type": "code",
   "execution_count": null,
   "id": "78b9898a-1f61-45f1-a531-82ad298c20f7",
   "metadata": {},
   "outputs": [],
   "source": [
    "rohan.return_stu_details()"
   ]
  },
  {
   "cell_type": "markdown",
   "id": "9861f3a2-7c5c-4619-882a-25b542a3718a",
   "metadata": {},
   "source": [
    "# Polymorphism"
   ]
  },
  {
   "cell_type": "code",
   "execution_count": null,
   "id": "3bc83990-320c-4590-9647-69b6a6f2f996",
   "metadata": {},
   "outputs": [],
   "source": [
    "def test(a,b):\n",
    "    return a+b\n"
   ]
  },
  {
   "cell_type": "code",
   "execution_count": null,
   "id": "3ace08c1-d985-4224-8046-1a750464aa43",
   "metadata": {},
   "outputs": [],
   "source": [
    "test(4,5) # addition"
   ]
  },
  {
   "cell_type": "code",
   "execution_count": null,
   "id": "f61f4732-a60f-436a-9d0c-f3d72246dcce",
   "metadata": {},
   "outputs": [],
   "source": [
    "test('harsh','santosh') # concatenation"
   ]
  },
  {
   "cell_type": "code",
   "execution_count": null,
   "id": "5d55f33c-e189-496c-a0ed-a36fd12cb07b",
   "metadata": {},
   "outputs": [],
   "source": [
    "test([1,2,3],[4,5,6])"
   ]
  },
  {
   "cell_type": "code",
   "execution_count": null,
   "id": "9fecea0e-5510-4a5e-a7e4-86d8e803f11f",
   "metadata": {},
   "outputs": [],
   "source": [
    "class ds:\n",
    "    def syllabus(self):\n",
    "        print('my method for ds')"
   ]
  },
  {
   "cell_type": "code",
   "execution_count": null,
   "id": "5cd6b8ee-3e0c-4b02-a52c-bb95f7fa9f02",
   "metadata": {},
   "outputs": [],
   "source": [
    "class webdev:\n",
    "    def syllabus(self):\n",
    "        print('my method for webdev')"
   ]
  },
  {
   "cell_type": "code",
   "execution_count": null,
   "id": "634e4940-a5e8-435e-8aa7-208a37d51623",
   "metadata": {},
   "outputs": [],
   "source": [
    "def class_parcer(class_obj):\n",
    "    for i in class_obj:\n",
    "        i.syllabus()"
   ]
  },
  {
   "cell_type": "code",
   "execution_count": null,
   "id": "4f1dd294-9d6a-45ac-94d1-f93ea22bd386",
   "metadata": {},
   "outputs": [],
   "source": [
    "obj_ds = ds()"
   ]
  },
  {
   "cell_type": "code",
   "execution_count": null,
   "id": "9d6c4530-09f7-4331-b989-196b7b618abe",
   "metadata": {},
   "outputs": [],
   "source": [
    "obj_ds.syllabus()"
   ]
  },
  {
   "cell_type": "code",
   "execution_count": null,
   "id": "43fd249b-1fc1-4874-8c32-9bfaab7e0ce2",
   "metadata": {},
   "outputs": [],
   "source": [
    "obj_webdev = webdev()"
   ]
  },
  {
   "cell_type": "code",
   "execution_count": null,
   "id": "1b4cdc0b-d271-4518-be3b-02414d0ebbf0",
   "metadata": {},
   "outputs": [],
   "source": [
    "class_obj = [obj_ds,obj_webdev]\n"
   ]
  },
  {
   "cell_type": "code",
   "execution_count": null,
   "id": "9a3147b8-a7b8-436a-ad94-c18d71b126eb",
   "metadata": {},
   "outputs": [],
   "source": [
    "class_parcer(class_obj)"
   ]
  },
  {
   "cell_type": "markdown",
   "id": "c261573c-361d-471c-82e0-6264711100a6",
   "metadata": {},
   "source": [
    "In the above code we can see that, we created two classes ds and webdev. then we created class parcer function which will iterate over input given in list format and inside parcer function, we tried accessing syllabus method of both classes for input passed.\n",
    "Secondly we created two objects of class ds and webdev and assigned that into class_obj list which will be input for parcer function.\n",
    "then  parcer function iterates over a list. First it gets ds object for i = 0, then it takes obj_ds.syllabus() operation. since obj_ds is object of ds class, obj_ds.syllabus() return 'my method for ds' and similarly for i =1\n",
    "obj_webdev is object of webdev class and hence it return output of method in webdev class as 'my method for webdev'"
   ]
  },
  {
   "cell_type": "code",
   "execution_count": null,
   "id": "00915230-f691-4bbc-bb8d-c88b6415fde4",
   "metadata": {},
   "outputs": [],
   "source": []
  },
  {
   "cell_type": "markdown",
   "id": "8c399fc5-5211-45ea-9196-7a87a115c53f",
   "metadata": {},
   "source": [
    "# Encapsulation"
   ]
  },
  {
   "cell_type": "code",
   "execution_count": null,
   "id": "b01a3cee-1129-4dd1-b65a-9a7ee675eca1",
   "metadata": {},
   "outputs": [],
   "source": [
    "class test:\n",
    "    def __init__(self,a,b):\n",
    "        self.a = a\n",
    "        self.b = b"
   ]
  },
  {
   "cell_type": "code",
   "execution_count": null,
   "id": "982f05ed-af96-4db1-9219-423291644e8d",
   "metadata": {},
   "outputs": [],
   "source": [
    "t = test(45,46)"
   ]
  },
  {
   "cell_type": "code",
   "execution_count": null,
   "id": "42b82f24-dfde-4406-90c7-5e12b969b5fc",
   "metadata": {},
   "outputs": [],
   "source": [
    "t.a"
   ]
  },
  {
   "cell_type": "code",
   "execution_count": null,
   "id": "2a75eea0-a237-49de-9ee4-bfff2496315f",
   "metadata": {},
   "outputs": [],
   "source": [
    "t.b"
   ]
  },
  {
   "cell_type": "code",
   "execution_count": null,
   "id": "dc22a645-3192-4e85-ae56-d57a3f6a8d50",
   "metadata": {},
   "outputs": [],
   "source": [
    "t.a = 232"
   ]
  },
  {
   "cell_type": "code",
   "execution_count": null,
   "id": "2fc66cff-f3e8-4d94-a617-3c7bd37add81",
   "metadata": {},
   "outputs": [],
   "source": [
    "t.a"
   ]
  },
  {
   "cell_type": "code",
   "execution_count": 9,
   "id": "4e86c413-cdc8-4e47-b196-0bf67e4396c4",
   "metadata": {},
   "outputs": [],
   "source": [
    "class car:\n",
    "    def __init__(self,year,make,model,speed):\n",
    "        self.__year = year\n",
    "        self.__make = make\n",
    "        self.__model = model\n",
    "        self.__speed = 0\n",
    "    def set_speed(self,speed):\n",
    "        self.__speed = 0 if speed<0 else speed\n",
    "    def get_speed(self):\n",
    "        return self.__speed\n",
    "        "
   ]
  },
  {
   "cell_type": "code",
   "execution_count": 10,
   "id": "c769cdc5-c9cf-4c3d-97ac-b7f06fa990eb",
   "metadata": {},
   "outputs": [],
   "source": [
    "obj_car = car(2021,'toyota','innova',200)"
   ]
  },
  {
   "cell_type": "code",
   "execution_count": 11,
   "id": "1c90b409-bf34-425d-8e99-1a901b9d2dd2",
   "metadata": {},
   "outputs": [
    {
     "data": {
      "text/plain": [
       "0"
      ]
     },
     "execution_count": 11,
     "metadata": {},
     "output_type": "execute_result"
    }
   ],
   "source": [
    "obj_car.get_speed()"
   ]
  },
  {
   "cell_type": "code",
   "execution_count": 23,
   "id": "5b45eaa1-cef9-43dc-8ab4-147df94882dd",
   "metadata": {},
   "outputs": [],
   "source": [
    "class bank_account:\n",
    "    def __init__(self,balance):\n",
    "        self.__balance = balance # private variable\n",
    "    def deposit(self,amount):\n",
    "        self.__balance +=amount\n",
    "    def withdraw(self,amount ):\n",
    "        if self.__balance >=amount:\n",
    "            self.__balance -=amount\n",
    "            \n",
    "            return True\n",
    "        else:\n",
    "            return False\n",
    "    def get_balance(self):\n",
    "        return self.__balance\n",
    "    "
   ]
  },
  {
   "cell_type": "code",
   "execution_count": 24,
   "id": "d5cae292-f230-433d-9a8a-0f0649a0fc73",
   "metadata": {},
   "outputs": [],
   "source": [
    "obj_bank = bank_account(1000)"
   ]
  },
  {
   "cell_type": "code",
   "execution_count": 25,
   "id": "9fc9a909-72cc-428f-ac0b-5179d14bc344",
   "metadata": {},
   "outputs": [
    {
     "data": {
      "text/plain": [
       "1000"
      ]
     },
     "execution_count": 25,
     "metadata": {},
     "output_type": "execute_result"
    }
   ],
   "source": [
    "obj_bank.get_balance()"
   ]
  },
  {
   "cell_type": "code",
   "execution_count": 26,
   "id": "5d0fb850-8af1-4da6-b2b6-21dc8cb7f402",
   "metadata": {},
   "outputs": [],
   "source": [
    "obj_bank.deposit(6000)"
   ]
  },
  {
   "cell_type": "code",
   "execution_count": 27,
   "id": "54170b07-6a56-454c-86f0-cf7c0d720354",
   "metadata": {},
   "outputs": [
    {
     "data": {
      "text/plain": [
       "7000"
      ]
     },
     "execution_count": 27,
     "metadata": {},
     "output_type": "execute_result"
    }
   ],
   "source": [
    "obj_bank.get_balance()"
   ]
  },
  {
   "cell_type": "code",
   "execution_count": 28,
   "id": "15787ecf-dd11-4084-a150-ae9c04fcb695",
   "metadata": {},
   "outputs": [
    {
     "data": {
      "text/plain": [
       "True"
      ]
     },
     "execution_count": 28,
     "metadata": {},
     "output_type": "execute_result"
    }
   ],
   "source": [
    "obj_bank.withdraw(2000)"
   ]
  },
  {
   "cell_type": "code",
   "execution_count": 29,
   "id": "f6a64d78-2b90-4113-90dc-03d445090570",
   "metadata": {},
   "outputs": [
    {
     "data": {
      "text/plain": [
       "5000"
      ]
     },
     "execution_count": 29,
     "metadata": {},
     "output_type": "execute_result"
    }
   ],
   "source": [
    "obj_bank.get_balance()"
   ]
  },
  {
   "cell_type": "markdown",
   "id": "58901b78-63ce-4cf9-9b08-d6edf4924e92",
   "metadata": {},
   "source": [
    "# Inheritance\n"
   ]
  },
  {
   "cell_type": "code",
   "execution_count": 1,
   "id": "95b5fa50-5b81-43fc-be7b-af5402da6dfa",
   "metadata": {},
   "outputs": [],
   "source": [
    "class Parent:\n",
    "    def test_parent(self):\n",
    "        print('This is my parent class')"
   ]
  },
  {
   "cell_type": "code",
   "execution_count": 2,
   "id": "5bf77003-db6a-4ea9-8d56-900d989bdfc5",
   "metadata": {},
   "outputs": [],
   "source": [
    "class Child(Parent):\n",
    "    pass\n",
    "    "
   ]
  },
  {
   "cell_type": "code",
   "execution_count": 3,
   "id": "8559faed-a877-4dd7-870a-13bd781ac747",
   "metadata": {},
   "outputs": [],
   "source": [
    "child_obj = Child()\n"
   ]
  },
  {
   "cell_type": "code",
   "execution_count": 4,
   "id": "466ef747-c2e2-4e05-9d46-87ae0dc03e07",
   "metadata": {},
   "outputs": [
    {
     "name": "stdout",
     "output_type": "stream",
     "text": [
      "This is my parent class\n"
     ]
    }
   ],
   "source": [
    "child_obj.test_parent()"
   ]
  },
  {
   "cell_type": "markdown",
   "id": "1545dab6-8114-405f-8370-09a13368cb91",
   "metadata": {},
   "source": [
    "### Multi label inheritance"
   ]
  },
  {
   "cell_type": "code",
   "execution_count": 5,
   "id": "9fb1c8de-db7e-4461-b394-43d20d676c4a",
   "metadata": {},
   "outputs": [],
   "source": [
    "class class1:\n",
    "    def test_class1(self):\n",
    "        print('class1')"
   ]
  },
  {
   "cell_type": "code",
   "execution_count": 6,
   "id": "8660bad9-a587-4c67-b7d8-79af1f59845e",
   "metadata": {},
   "outputs": [],
   "source": [
    "class class2(class1):\n",
    "    def test_class2(self):\n",
    "        print('class2')\n",
    "    "
   ]
  },
  {
   "cell_type": "code",
   "execution_count": 7,
   "id": "d6a593ac-e0b7-4dab-a296-4784456a6a08",
   "metadata": {},
   "outputs": [],
   "source": [
    "class class3(class2):\n",
    "    def test_class3(self):\n",
    "        print('class 3')"
   ]
  },
  {
   "cell_type": "code",
   "execution_count": 8,
   "id": "76a12917-ff19-4613-a8e9-26691868391b",
   "metadata": {},
   "outputs": [],
   "source": [
    "obj_class3 = class3()"
   ]
  },
  {
   "cell_type": "code",
   "execution_count": 9,
   "id": "31660df0-d275-46e4-b7bd-73822cc92e25",
   "metadata": {},
   "outputs": [
    {
     "name": "stdout",
     "output_type": "stream",
     "text": [
      "class1\n"
     ]
    }
   ],
   "source": [
    "obj_class3.test_class1()"
   ]
  },
  {
   "cell_type": "code",
   "execution_count": 10,
   "id": "514da007-4e94-4c32-a5ed-fd1f128cefad",
   "metadata": {},
   "outputs": [
    {
     "name": "stdout",
     "output_type": "stream",
     "text": [
      "class2\n"
     ]
    }
   ],
   "source": [
    "obj_class3.test_class2()"
   ]
  },
  {
   "cell_type": "code",
   "execution_count": 11,
   "id": "ab04ecad-32a7-4a30-a908-2a7f3c1c061d",
   "metadata": {},
   "outputs": [
    {
     "name": "stdout",
     "output_type": "stream",
     "text": [
      "class 3\n"
     ]
    }
   ],
   "source": [
    "obj_class3.test_class3()"
   ]
  },
  {
   "cell_type": "markdown",
   "id": "78e10580-bccc-4bb0-bbf2-756469307933",
   "metadata": {},
   "source": [
    "### Multiple Inheritance"
   ]
  },
  {
   "cell_type": "code",
   "execution_count": 12,
   "id": "50865852-a39d-4d47-900f-fc4f8ae51bac",
   "metadata": {},
   "outputs": [],
   "source": [
    "class class1:\n",
    "    def test_class1(self):\n",
    "        print('my class 1')"
   ]
  },
  {
   "cell_type": "code",
   "execution_count": 13,
   "id": "e0f45a8d-c92b-4686-87b6-c48019ca2b62",
   "metadata": {},
   "outputs": [],
   "source": [
    "class class2:\n",
    "    def test_class2(self):\n",
    "        print('my class 2')"
   ]
  },
  {
   "cell_type": "code",
   "execution_count": 14,
   "id": "68439206-ad04-47f3-bd24-624df3279afb",
   "metadata": {},
   "outputs": [],
   "source": [
    "class class3(class1, class2):\n",
    "    pass"
   ]
  },
  {
   "cell_type": "code",
   "execution_count": 15,
   "id": "b7f2602c-2ba8-472e-ad12-9f089f9808be",
   "metadata": {},
   "outputs": [],
   "source": [
    "obj_class3 = class3()"
   ]
  },
  {
   "cell_type": "code",
   "execution_count": 16,
   "id": "88903f1a-aaab-4628-9777-b3c00abe0791",
   "metadata": {},
   "outputs": [
    {
     "name": "stdout",
     "output_type": "stream",
     "text": [
      "my class 1\n"
     ]
    }
   ],
   "source": [
    "obj_class3.test_class1()"
   ]
  },
  {
   "cell_type": "code",
   "execution_count": 17,
   "id": "79e9e509-14ed-48db-8aaa-306d390318f1",
   "metadata": {},
   "outputs": [
    {
     "name": "stdout",
     "output_type": "stream",
     "text": [
      "my class 2\n"
     ]
    }
   ],
   "source": [
    "obj_class3.test_class2()"
   ]
  },
  {
   "cell_type": "code",
   "execution_count": null,
   "id": "15c0ce40-665b-41f6-969c-4799407c389b",
   "metadata": {},
   "outputs": [],
   "source": []
  }
 ],
 "metadata": {
  "kernelspec": {
   "display_name": "Python 3 (ipykernel)",
   "language": "python",
   "name": "python3"
  },
  "language_info": {
   "codemirror_mode": {
    "name": "ipython",
    "version": 3
   },
   "file_extension": ".py",
   "mimetype": "text/x-python",
   "name": "python",
   "nbconvert_exporter": "python",
   "pygments_lexer": "ipython3",
   "version": "3.10.8"
  }
 },
 "nbformat": 4,
 "nbformat_minor": 5
}
