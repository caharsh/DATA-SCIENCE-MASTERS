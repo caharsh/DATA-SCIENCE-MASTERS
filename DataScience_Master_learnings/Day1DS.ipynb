{
 "cells": [
  {
   "cell_type": "code",
   "execution_count": 1,
   "id": "c5a58017-d67b-425d-9534-77bd8b2d061d",
   "metadata": {},
   "outputs": [
    {
     "data": {
      "text/plain": [
       "10"
      ]
     },
     "execution_count": 1,
     "metadata": {},
     "output_type": "execute_result"
    }
   ],
   "source": [
    "\n",
    "\n",
    "a=10\n",
    "a"
   ]
  },
  {
   "cell_type": "code",
   "execution_count": 2,
   "id": "8806e834-6426-4f91-b843-f2bf6da3cebb",
   "metadata": {},
   "outputs": [
    {
     "name": "stdout",
     "output_type": "stream",
     "text": [
      "harsh\n",
      "student\n"
     ]
    }
   ],
   "source": [
    "print('harsh\\nstudent')"
   ]
  },
  {
   "cell_type": "code",
   "execution_count": 3,
   "id": "0eaf248b-c823-40db-8368-4a38d3198e77",
   "metadata": {},
   "outputs": [
    {
     "data": {
      "text/plain": [
       "str"
      ]
     },
     "execution_count": 3,
     "metadata": {},
     "output_type": "execute_result"
    }
   ],
   "source": [
    "a = 'harsh'\n",
    "type(a)"
   ]
  },
  {
   "cell_type": "code",
   "execution_count": 4,
   "id": "a0c50ff3-b64f-4c99-b812-973232546e01",
   "metadata": {},
   "outputs": [
    {
     "data": {
      "text/plain": [
       "float"
      ]
     },
     "execution_count": 4,
     "metadata": {},
     "output_type": "execute_result"
    }
   ],
   "source": [
    "dec_Num = 2.5\n",
    "type(dec_Num)"
   ]
  },
  {
   "cell_type": "code",
   "execution_count": 5,
   "id": "76a17a36-cc4a-49e9-8952-803b3d70ea9a",
   "metadata": {},
   "outputs": [
    {
     "data": {
      "text/plain": [
       "False"
      ]
     },
     "execution_count": 5,
     "metadata": {},
     "output_type": "execute_result"
    }
   ],
   "source": [
    "not True"
   ]
  },
  {
   "cell_type": "code",
   "execution_count": 6,
   "id": "23d9912d-4c16-43a8-b6a4-417f92a872e0",
   "metadata": {},
   "outputs": [
    {
     "data": {
      "text/plain": [
       "bool"
      ]
     },
     "execution_count": 6,
     "metadata": {},
     "output_type": "execute_result"
    }
   ],
   "source": [
    "type(True)"
   ]
  },
  {
   "cell_type": "code",
   "execution_count": 7,
   "id": "d96d019a-aa5c-4cc4-b6a0-63e22509f443",
   "metadata": {},
   "outputs": [
    {
     "data": {
      "text/plain": [
       "True"
      ]
     },
     "execution_count": 7,
     "metadata": {},
     "output_type": "execute_result"
    }
   ],
   "source": [
    "bool(1)"
   ]
  },
  {
   "cell_type": "code",
   "execution_count": 8,
   "id": "bec87799-cad8-4879-a644-615bd7af54e2",
   "metadata": {},
   "outputs": [
    {
     "name": "stdout",
     "output_type": "stream",
     "text": [
      "True\n"
     ]
    }
   ],
   "source": [
    "a=1\n",
    "if type(bool(a)==1):\n",
    "    print('True')"
   ]
  },
  {
   "cell_type": "code",
   "execution_count": 9,
   "id": "293147c5-e979-4a39-af94-b97439ea4a7c",
   "metadata": {},
   "outputs": [
    {
     "data": {
      "text/plain": [
       "2"
      ]
     },
     "execution_count": 9,
     "metadata": {},
     "output_type": "execute_result"
    }
   ],
   "source": [
    "int('1') + int('1')"
   ]
  },
  {
   "cell_type": "code",
   "execution_count": null,
   "id": "deb27fe9-9eff-4d3a-b39f-8d7971082fa3",
   "metadata": {},
   "outputs": [],
   "source": [
    "True and False"
   ]
  },
  {
   "cell_type": "code",
   "execution_count": null,
   "id": "7dbc014b-076c-4377-a1c7-253fa3b7ee2b",
   "metadata": {},
   "outputs": [],
   "source": [
    "False/1"
   ]
  },
  {
   "cell_type": "code",
   "execution_count": null,
   "id": "e1a7a20c-ebce-4ceb-96ae-02ab85c8e5fa",
   "metadata": {},
   "outputs": [],
   "source": [
    "num1= 23\n",
    "\n",
    "num2= 44\n",
    "\n",
    "num2= 2+3j\n",
    "\n",
    "num1= num2.imag\n",
    "num1\n",
    "\n",
    "a=num2-num1\n",
    "a"
   ]
  },
  {
   "cell_type": "code",
   "execution_count": null,
   "id": "89d6a6b1-9af5-481c-a996-fa30864fb487",
   "metadata": {},
   "outputs": [],
   "source": [
    "(2+3j).imag"
   ]
  },
  {
   "cell_type": "code",
   "execution_count": null,
   "id": "668f75f8-e673-4998-9d3d-c8ce8b6252e8",
   "metadata": {},
   "outputs": [],
   "source": [
    "'pwskils' + str(1)"
   ]
  },
  {
   "cell_type": "code",
   "execution_count": null,
   "id": "ca40f4db-eeea-4d24-916a-17bb48fa5f40",
   "metadata": {},
   "outputs": [],
   "source": [
    "NUm_100 = 1\n",
    "NUm_100"
   ]
  },
  {
   "cell_type": "code",
   "execution_count": 14,
   "id": "2148813e-93f0-4044-b2fd-28ae59a14f59",
   "metadata": {},
   "outputs": [
    {
     "name": "stdout",
     "output_type": "stream",
     "text": [
      "pwskills\n"
     ]
    }
   ],
   "source": [
    "Name = 'pwskills'\n",
    "\n",
    "Name.replace('p','P')\n",
    "print(Name)"
   ]
  },
  {
   "cell_type": "code",
   "execution_count": null,
   "id": "3484c4d8-bb4a-4cf9-a4ff-d01539e0769b",
   "metadata": {},
   "outputs": [],
   "source": [
    "'pwskills'.upper().lower()"
   ]
  }
 ],
 "metadata": {
  "kernelspec": {
   "display_name": "Python 3 (ipykernel)",
   "language": "python",
   "name": "python3"
  },
  "language_info": {
   "codemirror_mode": {
    "name": "ipython",
    "version": 3
   },
   "file_extension": ".py",
   "mimetype": "text/x-python",
   "name": "python",
   "nbconvert_exporter": "python",
   "pygments_lexer": "ipython3",
   "version": "3.10.8"
  }
 },
 "nbformat": 4,
 "nbformat_minor": 5
}
