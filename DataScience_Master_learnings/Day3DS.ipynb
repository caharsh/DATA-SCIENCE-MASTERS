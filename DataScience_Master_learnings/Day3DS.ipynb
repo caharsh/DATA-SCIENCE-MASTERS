{
 "cells": [
  {
   "cell_type": "code",
   "execution_count": 1,
   "id": "11cf3030-f7bf-44e3-b8eb-4cdf9dac2ad6",
   "metadata": {},
   "outputs": [
    {
     "data": {
      "text/plain": [
       "False"
      ]
     },
     "execution_count": 1,
     "metadata": {},
     "output_type": "execute_result"
    }
   ],
   "source": [
    "# 31st Jan lacture\n",
    "True and False\n"
   ]
  },
  {
   "cell_type": "code",
   "execution_count": 2,
   "id": "695da6fc-861c-415c-8626-eb08f6969c51",
   "metadata": {},
   "outputs": [
    {
     "name": "stdout",
     "output_type": "stream",
     "text": [
      "Defined value of START : True\n"
     ]
    }
   ],
   "source": [
    "START = True\n",
    "STOP =  False\n",
    "\n",
    "print(f'Defined value of START : {START}')"
   ]
  },
  {
   "cell_type": "code",
   "execution_count": 3,
   "id": "de29dd16-402c-492b-8077-bf52db170a63",
   "metadata": {},
   "outputs": [
    {
     "data": {
      "text/plain": [
       "False"
      ]
     },
     "execution_count": 3,
     "metadata": {},
     "output_type": "execute_result"
    }
   ],
   "source": [
    "not True"
   ]
  },
  {
   "cell_type": "code",
   "execution_count": 4,
   "id": "f0ec64e4-54df-4f03-af63-3a7c23857fcd",
   "metadata": {},
   "outputs": [
    {
     "data": {
      "text/plain": [
       "True"
      ]
     },
     "execution_count": 4,
     "metadata": {},
     "output_type": "execute_result"
    }
   ],
   "source": [
    "not bool(0)"
   ]
  },
  {
   "cell_type": "code",
   "execution_count": 6,
   "id": "c171e4e8-d309-4c50-b8c8-eec88084f874",
   "metadata": {},
   "outputs": [
    {
     "data": {
      "text/plain": [
       "True"
      ]
     },
     "execution_count": 6,
     "metadata": {},
     "output_type": "execute_result"
    }
   ],
   "source": [
    "bool(1)"
   ]
  },
  {
   "cell_type": "code",
   "execution_count": 7,
   "id": "1cffddf1-89ff-4e78-b776-2a5ebe0ad8f3",
   "metadata": {},
   "outputs": [
    {
     "data": {
      "text/plain": [
       "True"
      ]
     },
     "execution_count": 7,
     "metadata": {},
     "output_type": "execute_result"
    }
   ],
   "source": [
    "not bool(0)"
   ]
  },
  {
   "cell_type": "code",
   "execution_count": 8,
   "id": "9f2bc255-7d95-4b4e-9df4-ddabdadb32f1",
   "metadata": {},
   "outputs": [
    {
     "data": {
      "text/plain": [
       "True"
      ]
     },
     "execution_count": 8,
     "metadata": {},
     "output_type": "execute_result"
    }
   ],
   "source": [
    "not int(bool(0))"
   ]
  },
  {
   "cell_type": "code",
   "execution_count": 10,
   "id": "62c0ec7d-1f9a-4fd5-94ab-ce1e373367ef",
   "metadata": {},
   "outputs": [
    {
     "data": {
      "text/plain": [
       "0"
      ]
     },
     "execution_count": 10,
     "metadata": {},
     "output_type": "execute_result"
    }
   ],
   "source": [
    "int(not 1)"
   ]
  },
  {
   "cell_type": "code",
   "execution_count": 11,
   "id": "5aef5981-b12c-4221-ae15-5024e05e1944",
   "metadata": {},
   "outputs": [
    {
     "data": {
      "text/plain": [
       "0"
      ]
     },
     "execution_count": 11,
     "metadata": {},
     "output_type": "execute_result"
    }
   ],
   "source": [
    "0"
   ]
  },
  {
   "cell_type": "code",
   "execution_count": 14,
   "id": "7931fe6f-2e3f-4b8f-b368-eeca5bf0a6f6",
   "metadata": {},
   "outputs": [
    {
     "data": {
      "text/plain": [
       "False"
      ]
     },
     "execution_count": 14,
     "metadata": {},
     "output_type": "execute_result"
    }
   ],
   "source": [
    "not 2\n"
   ]
  },
  {
   "cell_type": "code",
   "execution_count": 15,
   "id": "faa23030-be57-469a-9aba-8cda36dc1e46",
   "metadata": {},
   "outputs": [
    {
     "ename": "SyntaxError",
     "evalue": "invalid syntax (2321363378.py, line 1)",
     "output_type": "error",
     "traceback": [
      "\u001b[0;36m  Cell \u001b[0;32mIn[15], line 1\u001b[0;36m\u001b[0m\n\u001b[0;31m    is 1000\u001b[0m\n\u001b[0m    ^\u001b[0m\n\u001b[0;31mSyntaxError\u001b[0m\u001b[0;31m:\u001b[0m invalid syntax\n"
     ]
    }
   ],
   "source": [
    "is 1000"
   ]
  },
  {
   "cell_type": "code",
   "execution_count": 16,
   "id": "7dd4ce84-921e-4d70-9431-5e2c61889a3d",
   "metadata": {},
   "outputs": [
    {
     "data": {
      "text/plain": [
       "False"
      ]
     },
     "execution_count": 16,
     "metadata": {},
     "output_type": "execute_result"
    }
   ],
   "source": [
    "not -1"
   ]
  },
  {
   "cell_type": "code",
   "execution_count": 17,
   "id": "6ee39d2d-080a-426e-81e1-dfb4b6a26996",
   "metadata": {},
   "outputs": [
    {
     "data": {
      "text/plain": [
       "False"
      ]
     },
     "execution_count": 17,
     "metadata": {},
     "output_type": "execute_result"
    }
   ],
   "source": [
    "bool(0)"
   ]
  },
  {
   "cell_type": "code",
   "execution_count": 19,
   "id": "11229692-4079-4474-b572-1f306d843c57",
   "metadata": {},
   "outputs": [
    {
     "data": {
      "text/plain": [
       "True"
      ]
     },
     "execution_count": 19,
     "metadata": {},
     "output_type": "execute_result"
    }
   ],
   "source": [
    "bool(True)"
   ]
  },
  {
   "cell_type": "code",
   "execution_count": 21,
   "id": "4644dec5-c29c-46f6-b8af-c1ba21ac8652",
   "metadata": {},
   "outputs": [
    {
     "data": {
      "text/plain": [
       "1"
      ]
     },
     "execution_count": 21,
     "metadata": {},
     "output_type": "execute_result"
    }
   ],
   "source": [
    "## logical and or not\n",
    "\n",
    "True + False"
   ]
  },
  {
   "cell_type": "code",
   "execution_count": 23,
   "id": "91433902-e0ca-4d9d-ac9f-21fa9fb98a1a",
   "metadata": {},
   "outputs": [
    {
     "data": {
      "text/plain": [
       "True"
      ]
     },
     "execution_count": 23,
     "metadata": {},
     "output_type": "execute_result"
    }
   ],
   "source": [
    "bool(1)"
   ]
  },
  {
   "cell_type": "code",
   "execution_count": 26,
   "id": "5689fdba-39cc-4c1e-ad1b-c59d93416f47",
   "metadata": {},
   "outputs": [
    {
     "data": {
      "text/plain": [
       "0"
      ]
     },
     "execution_count": 26,
     "metadata": {},
     "output_type": "execute_result"
    }
   ],
   "source": [
    "int((not(True))* False)"
   ]
  },
  {
   "cell_type": "code",
   "execution_count": 28,
   "id": "33eb768e-baf0-49ef-b874-884ede22c5c8",
   "metadata": {},
   "outputs": [
    {
     "data": {
      "text/plain": [
       "True"
      ]
     },
     "execution_count": 28,
     "metadata": {},
     "output_type": "execute_result"
    }
   ],
   "source": [
    "(not False)*False == False"
   ]
  },
  {
   "cell_type": "code",
   "execution_count": 30,
   "id": "f4aa9acc-f950-4361-a508-f0ee08df3c7c",
   "metadata": {},
   "outputs": [
    {
     "data": {
      "text/plain": [
       "0"
      ]
     },
     "execution_count": 30,
     "metadata": {},
     "output_type": "execute_result"
    }
   ],
   "source": [
    "False * True"
   ]
  },
  {
   "cell_type": "code",
   "execution_count": 31,
   "id": "1dd32390-bde3-403e-aebe-cc457e253507",
   "metadata": {},
   "outputs": [
    {
     "data": {
      "text/plain": [
       "True"
      ]
     },
     "execution_count": 31,
     "metadata": {},
     "output_type": "execute_result"
    }
   ],
   "source": [
    "not 0"
   ]
  },
  {
   "cell_type": "code",
   "execution_count": 37,
   "id": "7ddecc82-71d5-471b-b994-32737faca7f1",
   "metadata": {},
   "outputs": [
    {
     "name": "stdout",
     "output_type": "stream",
     "text": [
      "139674353517120\n",
      "139674353417984\n"
     ]
    }
   ],
   "source": [
    "lst = [1,2,3,4]\n",
    "lsst = [1,2,3,4]\n",
    "print(id(lst))\n",
    "print(id(lsst))\n",
    "\n"
   ]
  },
  {
   "cell_type": "code",
   "execution_count": 39,
   "id": "3a855fd3-b92c-4c00-a231-38e91bfa9e8e",
   "metadata": {},
   "outputs": [
    {
     "data": {
      "text/plain": [
       "True"
      ]
     },
     "execution_count": 39,
     "metadata": {},
     "output_type": "execute_result"
    }
   ],
   "source": [
    "lst is not lsst"
   ]
  },
  {
   "cell_type": "code",
   "execution_count": null,
   "id": "2a31f55e-85c6-4934-a496-273bd9d10004",
   "metadata": {},
   "outputs": [],
   "source": [
    "# since both created lists has different address, which means they both are pointing to different directions and hence it returns false\n",
    "# is return TRUE if both points to same object\n"
   ]
  },
  {
   "cell_type": "code",
   "execution_count": 40,
   "id": "364f28fd-bf0b-4522-ae89-371745d5a0df",
   "metadata": {},
   "outputs": [
    {
     "name": "stdout",
     "output_type": "stream",
     "text": [
      "139674353417216\n",
      "139674353417216\n"
     ]
    }
   ],
   "source": [
    "lst = [1,2,3,4]\n",
    "lsst = lst\n",
    "print(id(lst))\n",
    "print(id(lsst))"
   ]
  },
  {
   "cell_type": "code",
   "execution_count": 41,
   "id": "2829b777-2c00-432a-ae08-023aae757c3a",
   "metadata": {},
   "outputs": [
    {
     "data": {
      "text/plain": [
       "True"
      ]
     },
     "execution_count": 41,
     "metadata": {},
     "output_type": "execute_result"
    }
   ],
   "source": [
    "lst is lsst"
   ]
  },
  {
   "cell_type": "code",
   "execution_count": 42,
   "id": "4bb5448a-c493-4b73-b042-8dff13bce607",
   "metadata": {},
   "outputs": [],
   "source": [
    "# here lst is new list created and in lsst we just assigned lst to it.\n",
    "# hence both points to same obejct and is return true\n"
   ]
  },
  {
   "cell_type": "code",
   "execution_count": 43,
   "id": "f666b59e-e6f6-4ba3-8d28-4bc77ab7dd7e",
   "metadata": {},
   "outputs": [
    {
     "data": {
      "text/plain": [
       "True"
      ]
     },
     "execution_count": 43,
     "metadata": {},
     "output_type": "execute_result"
    }
   ],
   "source": [
    "lst = [1,2,3,4]\n",
    "lsst = [1,2,3,4]\n",
    "lst == lsst"
   ]
  },
  {
   "cell_type": "code",
   "execution_count": null,
   "id": "59a6de25-e63a-4a7f-9f69-be984c6e70c9",
   "metadata": {},
   "outputs": [],
   "source": [
    "# == and != checks values inside the obejct and compares each other\n"
   ]
  },
  {
   "cell_type": "code",
   "execution_count": 44,
   "id": "0dd906dc-b58f-4fb8-9668-b0f556eb741c",
   "metadata": {},
   "outputs": [
    {
     "name": "stdout",
     "output_type": "stream",
     "text": [
      "139674559693072\n",
      "139674559693072\n"
     ]
    }
   ],
   "source": [
    "a=2\n",
    "b=2\n",
    "print(id(a))\n",
    "print(id(b))"
   ]
  },
  {
   "cell_type": "code",
   "execution_count": null,
   "id": "aafcc534-f7cd-4ed6-be69-ca9f3a978599",
   "metadata": {},
   "outputs": [],
   "source": [
    "# strings are immutable\n",
    "# list is mutable hence we can change or replace any elements present in the list\n"
   ]
  },
  {
   "cell_type": "code",
   "execution_count": 46,
   "id": "21cce1f9-e587-4343-af39-7cdb0576db36",
   "metadata": {},
   "outputs": [
    {
     "ename": "TypeError",
     "evalue": "'str' object does not support item assignment",
     "output_type": "error",
     "traceback": [
      "\u001b[0;31m---------------------------------------------------------------------------\u001b[0m",
      "\u001b[0;31mTypeError\u001b[0m                                 Traceback (most recent call last)",
      "Cell \u001b[0;32mIn[46], line 3\u001b[0m\n\u001b[1;32m      1\u001b[0m a \u001b[38;5;241m=\u001b[39m \u001b[38;5;124m'\u001b[39m\u001b[38;5;124mharsh\u001b[39m\u001b[38;5;124m'\u001b[39m\n\u001b[1;32m      2\u001b[0m \u001b[38;5;28;01mfor\u001b[39;00m i \u001b[38;5;129;01min\u001b[39;00m a:\n\u001b[0;32m----> 3\u001b[0m     \u001b[43ma\u001b[49m\u001b[43m[\u001b[49m\u001b[43mi\u001b[49m\u001b[43m]\u001b[49m\u001b[38;5;241m=\u001b[39m\u001b[38;5;124m'\u001b[39m\u001b[38;5;124ma\u001b[39m\u001b[38;5;124m'\u001b[39m\n\u001b[1;32m      4\u001b[0m \u001b[38;5;28mprint\u001b[39m(a)\n",
      "\u001b[0;31mTypeError\u001b[0m: 'str' object does not support item assignment"
     ]
    }
   ],
   "source": [
    "a = 'harsh'\n",
    "for i in a:\n",
    "    a[i]='a'\n",
    "print(a)"
   ]
  },
  {
   "cell_type": "code",
   "execution_count": 55,
   "id": "93d24722-d141-4841-bc81-d5f4536f47ac",
   "metadata": {},
   "outputs": [
    {
     "name": "stdout",
     "output_type": "stream",
     "text": [
      "a is greater than b:True\n"
     ]
    }
   ],
   "source": [
    "# operators\n",
    "\n",
    "a = 10\n",
    "b = 20\n",
    "print('a is greater than b:{}'.format((a<b)))"
   ]
  },
  {
   "cell_type": "code",
   "execution_count": 57,
   "id": "e3bf16bc-4b27-4e92-ba9c-dd91d872e88d",
   "metadata": {},
   "outputs": [],
   "source": [
    "## arithmetic operations\n",
    "a = 25\n",
    "b = 101\n"
   ]
  },
  {
   "cell_type": "code",
   "execution_count": 58,
   "id": "18f91854-1858-431e-8519-e5444fd31b5c",
   "metadata": {},
   "outputs": [
    {
     "data": {
      "text/plain": [
       "126"
      ]
     },
     "execution_count": 58,
     "metadata": {},
     "output_type": "execute_result"
    }
   ],
   "source": [
    "a+b"
   ]
  },
  {
   "cell_type": "code",
   "execution_count": 59,
   "id": "d659b3f0-34a2-4923-bc37-bc304c45ef03",
   "metadata": {},
   "outputs": [
    {
     "data": {
      "text/plain": [
       "2525"
      ]
     },
     "execution_count": 59,
     "metadata": {},
     "output_type": "execute_result"
    }
   ],
   "source": [
    "a*b"
   ]
  },
  {
   "cell_type": "code",
   "execution_count": 60,
   "id": "651b272c-2836-472f-8b4c-861e9649b6d6",
   "metadata": {},
   "outputs": [
    {
     "data": {
      "text/plain": [
       "4.04"
      ]
     },
     "execution_count": 60,
     "metadata": {},
     "output_type": "execute_result"
    }
   ],
   "source": [
    "b/a"
   ]
  },
  {
   "cell_type": "code",
   "execution_count": 61,
   "id": "3542ca7a-5c22-41e2-bf1a-8af34af09ed0",
   "metadata": {},
   "outputs": [
    {
     "data": {
      "text/plain": [
       "0.24752475247524752"
      ]
     },
     "execution_count": 61,
     "metadata": {},
     "output_type": "execute_result"
    }
   ],
   "source": [
    "a/b"
   ]
  },
  {
   "cell_type": "code",
   "execution_count": 62,
   "id": "49f7f0cf-15ba-484d-9949-846fcd947c3d",
   "metadata": {},
   "outputs": [
    {
     "data": {
      "text/plain": [
       "0"
      ]
     },
     "execution_count": 62,
     "metadata": {},
     "output_type": "execute_result"
    }
   ],
   "source": [
    "a//b"
   ]
  },
  {
   "cell_type": "code",
   "execution_count": 63,
   "id": "139753c7-0328-46ab-ba66-4f759639cee7",
   "metadata": {},
   "outputs": [
    {
     "data": {
      "text/plain": [
       "4.04"
      ]
     },
     "execution_count": 63,
     "metadata": {},
     "output_type": "execute_result"
    }
   ],
   "source": [
    "b/a"
   ]
  },
  {
   "cell_type": "code",
   "execution_count": 64,
   "id": "ed0f9041-6c07-496d-95e1-dec3aed2cdda",
   "metadata": {},
   "outputs": [
    {
     "data": {
      "text/plain": [
       "4"
      ]
     },
     "execution_count": 64,
     "metadata": {},
     "output_type": "execute_result"
    }
   ],
   "source": [
    "b//a"
   ]
  },
  {
   "cell_type": "code",
   "execution_count": 65,
   "id": "99ccdc77-98e1-4eb3-85c1-90e7cbf492e3",
   "metadata": {},
   "outputs": [
    {
     "data": {
      "text/plain": [
       "1"
      ]
     },
     "execution_count": 65,
     "metadata": {},
     "output_type": "execute_result"
    }
   ],
   "source": [
    "b%a"
   ]
  },
  {
   "cell_type": "code",
   "execution_count": 66,
   "id": "4220de03-8065-41e8-9635-87d303ccfd7e",
   "metadata": {},
   "outputs": [
    {
     "data": {
      "text/plain": [
       "0.24752475247524752"
      ]
     },
     "execution_count": 66,
     "metadata": {},
     "output_type": "execute_result"
    }
   ],
   "source": [
    "a/b"
   ]
  },
  {
   "cell_type": "code",
   "execution_count": 68,
   "id": "adaab20a-cba9-4ec6-a24f-8809733bd45b",
   "metadata": {},
   "outputs": [
    {
     "data": {
      "text/plain": [
       "25"
      ]
     },
     "execution_count": 68,
     "metadata": {},
     "output_type": "execute_result"
    }
   ],
   "source": [
    "a%b #display remainder"
   ]
  },
  {
   "cell_type": "markdown",
   "id": "4d572330-2563-4624-bda5-e504b40386b4",
   "metadata": {},
   "source": [
    "# Binary Operations  : Binary standard code = 8421"
   ]
  },
  {
   "cell_type": "code",
   "execution_count": 69,
   "id": "bc2bce3a-8f7e-4cde-8ba5-d5188b207d03",
   "metadata": {},
   "outputs": [
    {
     "data": {
      "text/plain": [
       "'0b1010'"
      ]
     },
     "execution_count": 69,
     "metadata": {},
     "output_type": "execute_result"
    }
   ],
   "source": [
    "#bitwise complement ~\n",
    "var = 10\n",
    "bin(var)"
   ]
  },
  {
   "cell_type": "markdown",
   "id": "a0094c72-69ac-4310-82bf-821a548a9020",
   "metadata": {},
   "source": [
    "### for binary, bin() command is used"
   ]
  },
  {
   "cell_type": "code",
   "execution_count": 70,
   "id": "ba91dca3-fe49-4fda-bf59-6fd843da9e80",
   "metadata": {},
   "outputs": [
    {
     "data": {
      "text/plain": [
       "-11"
      ]
     },
     "execution_count": 70,
     "metadata": {},
     "output_type": "execute_result"
    }
   ],
   "source": [
    "~var"
   ]
  },
  {
   "cell_type": "markdown",
   "id": "11c30719-405b-4d61-a370-2b09eb88ee75",
   "metadata": {},
   "source": [
    "## Data Structures in python"
   ]
  },
  {
   "cell_type": "markdown",
   "id": "39793780-e5a6-4196-a8a8-b852a81d0df9",
   "metadata": {},
   "source": [
    "### string - immutable"
   ]
  },
  {
   "cell_type": "code",
   "execution_count": 77,
   "id": "de68c860-6119-4546-8815-fff8941c49be",
   "metadata": {},
   "outputs": [
    {
     "data": {
      "text/plain": [
       "str"
      ]
     },
     "execution_count": 77,
     "metadata": {},
     "output_type": "execute_result"
    }
   ],
   "source": [
    "str1 = 'Welcome' \n",
    "type(str1)"
   ]
  },
  {
   "cell_type": "code",
   "execution_count": 78,
   "id": "a9c3661b-b007-43a9-b91a-4947f47f6314",
   "metadata": {},
   "outputs": [
    {
     "data": {
      "text/plain": [
       "'harsh'"
      ]
     },
     "execution_count": 78,
     "metadata": {},
     "output_type": "execute_result"
    }
   ],
   "source": [
    "str1 = 'harsh'\n",
    "str1"
   ]
  },
  {
   "cell_type": "code",
   "execution_count": 79,
   "id": "2488c1b8-b4bc-4717-8090-b367c91ec0d7",
   "metadata": {},
   "outputs": [
    {
     "data": {
      "text/plain": [
       "['__add__',\n",
       " '__class__',\n",
       " '__contains__',\n",
       " '__delattr__',\n",
       " '__dir__',\n",
       " '__doc__',\n",
       " '__eq__',\n",
       " '__format__',\n",
       " '__ge__',\n",
       " '__getattribute__',\n",
       " '__getitem__',\n",
       " '__getnewargs__',\n",
       " '__gt__',\n",
       " '__hash__',\n",
       " '__init__',\n",
       " '__init_subclass__',\n",
       " '__iter__',\n",
       " '__le__',\n",
       " '__len__',\n",
       " '__lt__',\n",
       " '__mod__',\n",
       " '__mul__',\n",
       " '__ne__',\n",
       " '__new__',\n",
       " '__reduce__',\n",
       " '__reduce_ex__',\n",
       " '__repr__',\n",
       " '__rmod__',\n",
       " '__rmul__',\n",
       " '__setattr__',\n",
       " '__sizeof__',\n",
       " '__str__',\n",
       " '__subclasshook__',\n",
       " 'capitalize',\n",
       " 'casefold',\n",
       " 'center',\n",
       " 'count',\n",
       " 'encode',\n",
       " 'endswith',\n",
       " 'expandtabs',\n",
       " 'find',\n",
       " 'format',\n",
       " 'format_map',\n",
       " 'index',\n",
       " 'isalnum',\n",
       " 'isalpha',\n",
       " 'isascii',\n",
       " 'isdecimal',\n",
       " 'isdigit',\n",
       " 'isidentifier',\n",
       " 'islower',\n",
       " 'isnumeric',\n",
       " 'isprintable',\n",
       " 'isspace',\n",
       " 'istitle',\n",
       " 'isupper',\n",
       " 'join',\n",
       " 'ljust',\n",
       " 'lower',\n",
       " 'lstrip',\n",
       " 'maketrans',\n",
       " 'partition',\n",
       " 'removeprefix',\n",
       " 'removesuffix',\n",
       " 'replace',\n",
       " 'rfind',\n",
       " 'rindex',\n",
       " 'rjust',\n",
       " 'rpartition',\n",
       " 'rsplit',\n",
       " 'rstrip',\n",
       " 'split',\n",
       " 'splitlines',\n",
       " 'startswith',\n",
       " 'strip',\n",
       " 'swapcase',\n",
       " 'title',\n",
       " 'translate',\n",
       " 'upper',\n",
       " 'zfill']"
      ]
     },
     "execution_count": 79,
     "metadata": {},
     "output_type": "execute_result"
    }
   ],
   "source": [
    "dir(str1)"
   ]
  },
  {
   "cell_type": "code",
   "execution_count": 2,
   "id": "6a723bf4-ad74-4336-a26a-9b1d4b795c7b",
   "metadata": {},
   "outputs": [],
   "source": [
    "str2 = 'Pw Skills Data Science'\n"
   ]
  },
  {
   "cell_type": "code",
   "execution_count": 3,
   "id": "73d9501b-57e0-4407-a788-afb8d359e790",
   "metadata": {},
   "outputs": [
    {
     "data": {
      "text/plain": [
       "'ills D'"
      ]
     },
     "execution_count": 3,
     "metadata": {},
     "output_type": "execute_result"
    }
   ],
   "source": [
    "#slice operation\n",
    "str2[5:11] # will traverse from 5 to 10"
   ]
  },
  {
   "cell_type": "code",
   "execution_count": 4,
   "id": "ef474c04-4b94-42f2-8c03-4286d59baf5f",
   "metadata": {},
   "outputs": [
    {
     "data": {
      "text/plain": [
       "'e'"
      ]
     },
     "execution_count": 4,
     "metadata": {},
     "output_type": "execute_result"
    }
   ],
   "source": [
    "str2[-1]"
   ]
  },
  {
   "cell_type": "code",
   "execution_count": 5,
   "id": "d6172b01-f074-4595-b169-793a94279a2a",
   "metadata": {},
   "outputs": [
    {
     "data": {
      "text/plain": [
       "'e'"
      ]
     },
     "execution_count": 5,
     "metadata": {},
     "output_type": "execute_result"
    }
   ],
   "source": [
    "str2[-1:] #str2 = 'Pw Skills Data Science'\n"
   ]
  },
  {
   "cell_type": "code",
   "execution_count": 9,
   "id": "d1de4d7b-08ff-42e4-a2fa-f9f7956ed387",
   "metadata": {},
   "outputs": [
    {
     "data": {
      "text/plain": [
       "'Scie'"
      ]
     },
     "execution_count": 9,
     "metadata": {},
     "output_type": "execute_result"
    }
   ],
   "source": [
    "str2[-7:-3]"
   ]
  },
  {
   "cell_type": "code",
   "execution_count": 12,
   "id": "0e40172b-5e50-40a6-8d2a-c02a5779fafe",
   "metadata": {},
   "outputs": [
    {
     "data": {
      "text/plain": [
       "'Pw Skills Data Scienc'"
      ]
     },
     "execution_count": 12,
     "metadata": {},
     "output_type": "execute_result"
    }
   ],
   "source": [
    "str2[:-1] # except last read all"
   ]
  },
  {
   "cell_type": "code",
   "execution_count": 17,
   "id": "ef025894-5fbd-434b-9d2b-4fbac72d503a",
   "metadata": {},
   "outputs": [
    {
     "data": {
      "text/plain": [
       "'S'"
      ]
     },
     "execution_count": 17,
     "metadata": {},
     "output_type": "execute_result"
    }
   ],
   "source": [
    "str2[-19:4]"
   ]
  },
  {
   "cell_type": "code",
   "execution_count": 21,
   "id": "e5983bcc-8fc5-4c37-b80c-3f8b4501c85a",
   "metadata": {},
   "outputs": [
    {
     "data": {
      "text/plain": [
       "'ecneicS ataD sllikS wP'"
      ]
     },
     "execution_count": 21,
     "metadata": {},
     "output_type": "execute_result"
    }
   ],
   "source": [
    "str2[::-1]"
   ]
  },
  {
   "cell_type": "code",
   "execution_count": 20,
   "id": "923af61f-4671-4dea-a1ed-eb3e0ce8d6d7",
   "metadata": {},
   "outputs": [
    {
     "data": {
      "text/plain": [
       "'eniSaa liSw'"
      ]
     },
     "execution_count": 20,
     "metadata": {},
     "output_type": "execute_result"
    }
   ],
   "source": [
    "str2[::-2] # avoiding every second element including spaces"
   ]
  },
  {
   "cell_type": "code",
   "execution_count": 24,
   "id": "efd2494a-25f1-4eb8-b313-791aab781dd2",
   "metadata": {},
   "outputs": [
    {
     "data": {
      "text/plain": [
       "'likS wP'"
      ]
     },
     "execution_count": 24,
     "metadata": {},
     "output_type": "execute_result"
    }
   ],
   "source": [
    "str2[6::-1]"
   ]
  },
  {
   "cell_type": "code",
   "execution_count": 26,
   "id": "dc9cb9f0-21aa-43f1-a070-17c169fe9080",
   "metadata": {},
   "outputs": [
    {
     "data": {
      "text/plain": [
       "'Pw'"
      ]
     },
     "execution_count": 26,
     "metadata": {},
     "output_type": "execute_result"
    }
   ],
   "source": [
    "str2[:2]"
   ]
  },
  {
   "cell_type": "code",
   "execution_count": 27,
   "id": "a8fe99d6-bb4a-43ac-bd01-1b70e160fe9a",
   "metadata": {},
   "outputs": [
    {
     "data": {
      "text/plain": [
       "'si'"
      ]
     },
     "execution_count": 27,
     "metadata": {},
     "output_type": "execute_result"
    }
   ],
   "source": [
    "name = 'krish'\n",
    "name[3:1:-1]"
   ]
  },
  {
   "cell_type": "code",
   "execution_count": 23,
   "id": "ec1c5f9a-be41-4749-b68d-c9ee4f3e3eba",
   "metadata": {},
   "outputs": [],
   "source": [
    "course = 'Data Science Masters'\n",
    "\n"
   ]
  },
  {
   "cell_type": "code",
   "execution_count": 24,
   "id": "cdcb1dff-99cd-4764-b3e7-3751a9f532d9",
   "metadata": {},
   "outputs": [
    {
     "data": {
      "text/plain": [
       "'sretsaM ecneicS ataD'"
      ]
     },
     "execution_count": 24,
     "metadata": {},
     "output_type": "execute_result"
    }
   ],
   "source": [
    "course[::-1]"
   ]
  },
  {
   "cell_type": "code",
   "execution_count": 28,
   "id": "dc8745d2-bb06-48cf-9a04-5b375864ab00",
   "metadata": {},
   "outputs": [
    {
     "data": {
      "text/plain": [
       "'taD'"
      ]
     },
     "execution_count": 28,
     "metadata": {},
     "output_type": "execute_result"
    }
   ],
   "source": [
    "course[2::-1]"
   ]
  },
  {
   "cell_type": "code",
   "execution_count": 31,
   "id": "1bdf6694-05c9-4781-a895-e6361170d281",
   "metadata": {},
   "outputs": [
    {
     "data": {
      "text/plain": [
       "'ecneicS'"
      ]
     },
     "execution_count": 31,
     "metadata": {},
     "output_type": "execute_result"
    }
   ],
   "source": [
    "course[11:4:-1]"
   ]
  },
  {
   "cell_type": "code",
   "execution_count": 47,
   "id": "296c498e-81e4-4ac6-817e-0323d335c2f9",
   "metadata": {},
   "outputs": [
    {
     "data": {
      "text/plain": [
       "'nce Ma'"
      ]
     },
     "execution_count": 47,
     "metadata": {},
     "output_type": "execute_result"
    }
   ],
   "source": [
    "\n",
    "course[-11:-5]"
   ]
  },
  {
   "cell_type": "markdown",
   "id": "25798265-a9cf-4569-a18c-e6e200f82723",
   "metadata": {},
   "source": [
    "## string concatenation"
   ]
  },
  {
   "cell_type": "code",
   "execution_count": 3,
   "id": "03b7035f-045c-4d9f-83ea-b9940b3c9baa",
   "metadata": {},
   "outputs": [
    {
     "data": {
      "text/plain": [
       "'Data Science Masters course'"
      ]
     },
     "execution_count": 3,
     "metadata": {},
     "output_type": "execute_result"
    }
   ],
   "source": [
    "course + ' course'"
   ]
  },
  {
   "cell_type": "code",
   "execution_count": 4,
   "id": "91ac5357-4a2e-49ff-9864-4ae05fcdbf84",
   "metadata": {},
   "outputs": [
    {
     "data": {
      "text/plain": [
       "'Data Science MastersData Science MastersData Science MastersData Science MastersData Science Masters'"
      ]
     },
     "execution_count": 4,
     "metadata": {},
     "output_type": "execute_result"
    }
   ],
   "source": [
    "course *5"
   ]
  },
  {
   "cell_type": "code",
   "execution_count": 5,
   "id": "aba93898-e1eb-4ffd-b882-9be2f3503686",
   "metadata": {},
   "outputs": [
    {
     "data": {
      "text/plain": [
       "20"
      ]
     },
     "execution_count": 5,
     "metadata": {},
     "output_type": "execute_result"
    }
   ],
   "source": [
    "len(course)"
   ]
  },
  {
   "cell_type": "code",
   "execution_count": 6,
   "id": "745b60ec-d6b0-4207-aa32-defa811ed47e",
   "metadata": {},
   "outputs": [
    {
     "data": {
      "text/plain": [
       "1"
      ]
     },
     "execution_count": 6,
     "metadata": {},
     "output_type": "execute_result"
    }
   ],
   "source": [
    "course.find('a')"
   ]
  },
  {
   "cell_type": "code",
   "execution_count": 7,
   "id": "6810c262-3dba-455d-83b1-12b3b7bc2b64",
   "metadata": {},
   "outputs": [
    {
     "data": {
      "text/plain": [
       "3"
      ]
     },
     "execution_count": 7,
     "metadata": {},
     "output_type": "execute_result"
    }
   ],
   "source": [
    "course.find('a',3,10)"
   ]
  },
  {
   "cell_type": "code",
   "execution_count": 8,
   "id": "7a22258c-9d0f-4723-811a-d70db69ec9c3",
   "metadata": {},
   "outputs": [
    {
     "data": {
      "text/plain": [
       "-1"
      ]
     },
     "execution_count": 8,
     "metadata": {},
     "output_type": "execute_result"
    }
   ],
   "source": [
    "course.find('z')"
   ]
  },
  {
   "cell_type": "markdown",
   "id": "feec9af8-2b36-409d-a935-075732488774",
   "metadata": {},
   "source": [
    "if particular letter or substring is not found using find function, it returns -1 as output\n",
    "find is in built function"
   ]
  },
  {
   "cell_type": "code",
   "execution_count": 9,
   "id": "f5644c6e-1410-41d0-b2d1-3f6ded5cbe5b",
   "metadata": {},
   "outputs": [
    {
     "data": {
      "text/plain": [
       "3"
      ]
     },
     "execution_count": 9,
     "metadata": {},
     "output_type": "execute_result"
    }
   ],
   "source": [
    "course.count('a')"
   ]
  },
  {
   "cell_type": "code",
   "execution_count": 10,
   "id": "675dd84f-4a3a-4768-b4d6-3d8373721e5f",
   "metadata": {},
   "outputs": [
    {
     "data": {
      "text/plain": [
       "2"
      ]
     },
     "execution_count": 10,
     "metadata": {},
     "output_type": "execute_result"
    }
   ],
   "source": [
    "course.count(' ')  #empty space as empty string"
   ]
  },
  {
   "cell_type": "code",
   "execution_count": 11,
   "id": "7a074117-4ae8-445f-8b7b-c67ef4805d3b",
   "metadata": {},
   "outputs": [
    {
     "data": {
      "text/plain": [
       "21"
      ]
     },
     "execution_count": 11,
     "metadata": {},
     "output_type": "execute_result"
    }
   ],
   "source": [
    "course.count('')"
   ]
  },
  {
   "cell_type": "code",
   "execution_count": 12,
   "id": "94eef34b-1ea5-4099-ac2b-99608be66dda",
   "metadata": {},
   "outputs": [
    {
     "data": {
      "text/plain": [
       "5"
      ]
     },
     "execution_count": 12,
     "metadata": {},
     "output_type": "execute_result"
    }
   ],
   "source": [
    "course.find('Science')"
   ]
  },
  {
   "cell_type": "markdown",
   "id": "d65377f4-5d27-4b32-a03d-fddc9d7f2090",
   "metadata": {},
   "source": [
    "string split function"
   ]
  },
  {
   "cell_type": "code",
   "execution_count": 13,
   "id": "48919b56-39c8-44fd-8936-ce48e85ebe94",
   "metadata": {},
   "outputs": [
    {
     "data": {
      "text/plain": [
       "['Data', 'Science', 'Masters']"
      ]
     },
     "execution_count": 13,
     "metadata": {},
     "output_type": "execute_result"
    }
   ],
   "source": [
    "# separating by some means\n",
    "course.split(' ')\n",
    "\n",
    "# separation using empty space"
   ]
  },
  {
   "cell_type": "code",
   "execution_count": 14,
   "id": "87bba26b-0616-4c2c-891d-6b15d8b53d26",
   "metadata": {},
   "outputs": [
    {
     "data": {
      "text/plain": [
       "['Data ', 'cience Masters']"
      ]
     },
     "execution_count": 14,
     "metadata": {},
     "output_type": "execute_result"
    }
   ],
   "source": [
    "course.split('S')"
   ]
  },
  {
   "cell_type": "code",
   "execution_count": 15,
   "id": "1ff41437-c3f7-4ad5-bc76-8856fa1f4639",
   "metadata": {},
   "outputs": [
    {
     "data": {
      "text/plain": [
       "('Data ', 'S', 'cience Masters')"
      ]
     },
     "execution_count": 15,
     "metadata": {},
     "output_type": "execute_result"
    }
   ],
   "source": [
    "course.partition('S')"
   ]
  },
  {
   "cell_type": "code",
   "execution_count": 16,
   "id": "64463e86-5fc5-47c0-b99f-67fa18ae21eb",
   "metadata": {},
   "outputs": [
    {
     "data": {
      "text/plain": [
       "('Data Science Ma', 's', 'ters')"
      ]
     },
     "execution_count": 16,
     "metadata": {},
     "output_type": "execute_result"
    }
   ],
   "source": [
    "course.partition('s')"
   ]
  },
  {
   "cell_type": "code",
   "execution_count": 17,
   "id": "862b6c03-26ff-484d-b937-8b7f2f530952",
   "metadata": {},
   "outputs": [
    {
     "data": {
      "text/plain": [
       "['Data Science Ma', 'ter', '']"
      ]
     },
     "execution_count": 17,
     "metadata": {},
     "output_type": "execute_result"
    }
   ],
   "source": [
    "course.split('s')"
   ]
  },
  {
   "cell_type": "markdown",
   "id": "59f96470-80ca-4372-903c-8ce78ae79f4a",
   "metadata": {},
   "source": [
    "string upper and lower case"
   ]
  },
  {
   "cell_type": "code",
   "execution_count": 18,
   "id": "997a18d1-ef2d-42da-9e60-462a8b1cff30",
   "metadata": {},
   "outputs": [
    {
     "data": {
      "text/plain": [
       "'DATA SCIENCE MASTERS'"
      ]
     },
     "execution_count": 18,
     "metadata": {},
     "output_type": "execute_result"
    }
   ],
   "source": [
    "course.upper()"
   ]
  },
  {
   "cell_type": "code",
   "execution_count": 19,
   "id": "c246c27a-ac8e-48ed-b6a9-50f2006b5e93",
   "metadata": {},
   "outputs": [
    {
     "data": {
      "text/plain": [
       "'data science masters'"
      ]
     },
     "execution_count": 19,
     "metadata": {},
     "output_type": "execute_result"
    }
   ],
   "source": [
    "course.lower()"
   ]
  },
  {
   "cell_type": "code",
   "execution_count": 20,
   "id": "02fa5cb2-204b-4cd2-84e1-fb5fc5c7b888",
   "metadata": {},
   "outputs": [
    {
     "data": {
      "text/plain": [
       "'dATA sCIENCE mASTERS'"
      ]
     },
     "execution_count": 20,
     "metadata": {},
     "output_type": "execute_result"
    }
   ],
   "source": [
    "course.swapcase()"
   ]
  },
  {
   "cell_type": "code",
   "execution_count": 21,
   "id": "d196f9fc-024a-45b1-8378-12f1cdddf33e",
   "metadata": {},
   "outputs": [
    {
     "data": {
      "text/plain": [
       "'Data Science Masters'"
      ]
     },
     "execution_count": 21,
     "metadata": {},
     "output_type": "execute_result"
    }
   ],
   "source": [
    "course.title()"
   ]
  },
  {
   "cell_type": "code",
   "execution_count": 22,
   "id": "34b982f5-bfd3-4b2e-b380-e2722552cb17",
   "metadata": {},
   "outputs": [
    {
     "data": {
      "text/plain": [
       "'Harsh Tanpure'"
      ]
     },
     "execution_count": 22,
     "metadata": {},
     "output_type": "execute_result"
    }
   ],
   "source": [
    "name1 = 'harsh tanpure'\n",
    "name1.title()"
   ]
  },
  {
   "cell_type": "code",
   "execution_count": null,
   "id": "d3e22749-0871-499a-b64f-fc8d5ab5af53",
   "metadata": {},
   "outputs": [],
   "source": []
  },
  {
   "cell_type": "code",
   "execution_count": null,
   "id": "6a114498-6168-4abf-b2b9-d5c7a9b474d9",
   "metadata": {},
   "outputs": [],
   "source": []
  },
  {
   "cell_type": "code",
   "execution_count": null,
   "id": "a08d516b-316d-496f-ad4d-25f00b088db3",
   "metadata": {},
   "outputs": [],
   "source": []
  }
 ],
 "metadata": {
  "kernelspec": {
   "display_name": "Python 3 (ipykernel)",
   "language": "python",
   "name": "python3"
  },
  "language_info": {
   "codemirror_mode": {
    "name": "ipython",
    "version": 3
   },
   "file_extension": ".py",
   "mimetype": "text/x-python",
   "name": "python",
   "nbconvert_exporter": "python",
   "pygments_lexer": "ipython3",
   "version": "3.10.8"
  }
 },
 "nbformat": 4,
 "nbformat_minor": 5
}
