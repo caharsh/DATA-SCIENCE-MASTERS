{
 "cells": [
  {
   "cell_type": "code",
   "execution_count": 1,
   "id": "ef18fc14-fa1c-4606-94d5-e86173b3812f",
   "metadata": {},
   "outputs": [],
   "source": [
    "name = ' Data science masters'"
   ]
  },
  {
   "cell_type": "code",
   "execution_count": 2,
   "id": "e22ea856-0cf0-43b8-9b9b-af637feb22b8",
   "metadata": {},
   "outputs": [
    {
     "data": {
      "text/plain": [
       "' dATA SCIENCE MASTERS'"
      ]
     },
     "execution_count": 2,
     "metadata": {},
     "output_type": "execute_result"
    }
   ],
   "source": [
    "name.swapcase()"
   ]
  },
  {
   "cell_type": "code",
   "execution_count": 3,
   "id": "416fe05e-ac90-4f60-bb23-a2f1b2dd5543",
   "metadata": {},
   "outputs": [
    {
     "data": {
      "text/plain": [
       "' Data Science Masters'"
      ]
     },
     "execution_count": 3,
     "metadata": {},
     "output_type": "execute_result"
    }
   ],
   "source": [
    "name.title()"
   ]
  },
  {
   "cell_type": "code",
   "execution_count": 4,
   "id": "38e4a741-aca4-4039-983a-72681ae533a4",
   "metadata": {},
   "outputs": [
    {
     "data": {
      "text/plain": [
       "'sretsam ecneics ataD '"
      ]
     },
     "execution_count": 4,
     "metadata": {},
     "output_type": "execute_result"
    }
   ],
   "source": [
    "name[::-1]"
   ]
  },
  {
   "cell_type": "code",
   "execution_count": 6,
   "id": "f140fdc1-b0aa-465e-82db-fd2c600d71e4",
   "metadata": {},
   "outputs": [
    {
     "data": {
      "text/plain": [
       "<reversed at 0x7f4a004b7c40>"
      ]
     },
     "execution_count": 6,
     "metadata": {},
     "output_type": "execute_result"
    }
   ],
   "source": [
    "reversed(name) # object creation of reversed string"
   ]
  },
  {
   "cell_type": "code",
   "execution_count": 8,
   "id": "c33c72a6-5f6f-43e0-a5a7-f7758c6e197e",
   "metadata": {},
   "outputs": [
    {
     "data": {
      "text/plain": [
       "'s r e t s a m   e c n e i c s   a t a D  '"
      ]
     },
     "execution_count": 8,
     "metadata": {},
     "output_type": "execute_result"
    }
   ],
   "source": [
    "' '.join(reversed(name))"
   ]
  },
  {
   "cell_type": "code",
   "execution_count": 9,
   "id": "33eef7a5-9811-4684-b36e-20259cd918ac",
   "metadata": {},
   "outputs": [
    {
     "data": {
      "text/plain": [
       "'haaarasah'"
      ]
     },
     "execution_count": 9,
     "metadata": {},
     "output_type": "execute_result"
    }
   ],
   "source": [
    "name_1= 'harsh'\n",
    "'a'.join(name_1)"
   ]
  },
  {
   "cell_type": "code",
   "execution_count": 10,
   "id": "789137eb-94b9-431e-a197-9e206e7151d7",
   "metadata": {},
   "outputs": [
    {
     "data": {
      "text/plain": [
       "'htanpatanprtanpstanph'"
      ]
     },
     "execution_count": 10,
     "metadata": {},
     "output_type": "execute_result"
    }
   ],
   "source": [
    "'tanp'.join(name_1)"
   ]
  },
  {
   "cell_type": "code",
   "execution_count": 11,
   "id": "1d864a79-8d0f-4546-a3fa-e065b47dabab",
   "metadata": {},
   "outputs": [
    {
     "data": {
      "text/plain": [
       "'h a s a r a a a h'"
      ]
     },
     "execution_count": 11,
     "metadata": {},
     "output_type": "execute_result"
    }
   ],
   "source": [
    "' a '.join(reversed(name_1))"
   ]
  },
  {
   "cell_type": "code",
   "execution_count": 13,
   "id": "e7aae7b0-43b7-49bf-9389-27e9abae74b1",
   "metadata": {},
   "outputs": [
    {
     "data": {
      "text/plain": [
       "['h', 's', 'r', 'a', 'h']"
      ]
     },
     "execution_count": 13,
     "metadata": {},
     "output_type": "execute_result"
    }
   ],
   "source": [
    "list(reversed(name_1))"
   ]
  },
  {
   "cell_type": "code",
   "execution_count": 15,
   "id": "8b42b69a-c7e2-42c1-8fa7-e786602aaf73",
   "metadata": {},
   "outputs": [
    {
     "data": {
      "text/plain": [
       "'PskilssWskilss skilssiskilsssskilss skilssaskilss skilssgskilssoskilssoskilssdskilss skilsscskilssoskilssmskilsspskilssaskilssnskilssy'"
      ]
     },
     "execution_count": 15,
     "metadata": {},
     "output_type": "execute_result"
    }
   ],
   "source": [
    "str1  = 'PW is a good company'\n",
    "'skilss'.join(str1)"
   ]
  },
  {
   "cell_type": "code",
   "execution_count": 16,
   "id": "2f0f2e92-1053-4c0d-a6b4-137fca7618ad",
   "metadata": {},
   "outputs": [],
   "source": [
    "# removing character in string"
   ]
  },
  {
   "cell_type": "code",
   "execution_count": 17,
   "id": "721ee4ba-0cee-4ff3-800a-91aaa2826d65",
   "metadata": {},
   "outputs": [
    {
     "data": {
      "text/plain": [
       "'harsh'"
      ]
     },
     "execution_count": 17,
     "metadata": {},
     "output_type": "execute_result"
    }
   ],
   "source": [
    "# we will use strip function\n",
    "\n",
    "srr = ' harsh '\n",
    "srr.strip(' ')"
   ]
  },
  {
   "cell_type": "code",
   "execution_count": 18,
   "id": "cd04265d-67e0-4df5-ae1a-47b2c3930666",
   "metadata": {},
   "outputs": [
    {
     "data": {
      "text/plain": [
       "'harsh '"
      ]
     },
     "execution_count": 18,
     "metadata": {},
     "output_type": "execute_result"
    }
   ],
   "source": [
    "srr.lstrip(' ')"
   ]
  },
  {
   "cell_type": "code",
   "execution_count": 19,
   "id": "2f45af66-3bb3-479a-98f5-97eab0df82b8",
   "metadata": {},
   "outputs": [
    {
     "data": {
      "text/plain": [
       "' harsh'"
      ]
     },
     "execution_count": 19,
     "metadata": {},
     "output_type": "execute_result"
    }
   ],
   "source": [
    "srr.rstrip(' ')"
   ]
  },
  {
   "cell_type": "code",
   "execution_count": 20,
   "id": "c408c1f9-6a68-406e-b1ed-de955123fee0",
   "metadata": {},
   "outputs": [
    {
     "data": {
      "text/plain": [
       "'harsh santosh'"
      ]
     },
     "execution_count": 20,
     "metadata": {},
     "output_type": "execute_result"
    }
   ],
   "source": [
    "name_2 = 'harsh tanpure'\n",
    "name_2.replace('tanpure','santosh')"
   ]
  },
  {
   "cell_type": "code",
   "execution_count": 22,
   "id": "cccbcb4f-2271-429d-aac0-6cb942649f21",
   "metadata": {},
   "outputs": [],
   "source": [
    "name_3 = 'harsh ds student'\n",
    "var_1= name_3.replace('ds','cs')"
   ]
  },
  {
   "cell_type": "code",
   "execution_count": 23,
   "id": "98bcbaf5-adba-436c-9fc6-678c7f476a8d",
   "metadata": {},
   "outputs": [
    {
     "name": "stdout",
     "output_type": "stream",
     "text": [
      "139955834332032\n",
      "139955676087520\n"
     ]
    }
   ],
   "source": [
    "print(id(name_3))\n",
    "print(id(var_1))"
   ]
  },
  {
   "cell_type": "markdown",
   "id": "523ae80d-7f50-4d30-a518-b06fc8b18833",
   "metadata": {},
   "source": [
    "string does not support character modification but it does supports whole word replacing by using replace function as new object gets created.\n",
    "\n",
    "\n",
    "In the above example, we can see that we replaced 'cs' to 'ds' and as soon as we replaced, new object gets created ( different memory address)"
   ]
  },
  {
   "cell_type": "code",
   "execution_count": 29,
   "id": "c8598c1d-0a66-4bd0-9cdf-074c1717c975",
   "metadata": {},
   "outputs": [
    {
     "data": {
      "text/plain": [
       "'Welcome to pwskilss.Welcome to Data Science Masters'"
      ]
     },
     "execution_count": 29,
     "metadata": {},
     "output_type": "execute_result"
    }
   ],
   "source": [
    "str_4 = 'Welcome to pwskilss.Welcome to Dat cience Masters'\n",
    "var_4 = str_4.replace('Dat','Data').replace('cience','Science')\n",
    "var_4"
   ]
  },
  {
   "cell_type": "code",
   "execution_count": 30,
   "id": "f20f4df2-8c69-4819-9640-612553608cf2",
   "metadata": {},
   "outputs": [
    {
     "data": {
      "text/plain": [
       "False"
      ]
     },
     "execution_count": 30,
     "metadata": {},
     "output_type": "execute_result"
    }
   ],
   "source": [
    "str_4.isupper()"
   ]
  },
  {
   "cell_type": "code",
   "execution_count": 6,
   "id": "7eb1c2fb-acc0-43cc-8c7a-bd03dd3b421f",
   "metadata": {},
   "outputs": [
    {
     "name": "stdout",
     "output_type": "stream",
     "text": [
      "139931170169456\n"
     ]
    }
   ],
   "source": [
    "str_3 = 'harsh'\n",
    "print(id(str_3))"
   ]
  },
  {
   "cell_type": "code",
   "execution_count": 36,
   "id": "e46c28d1-b05b-4dee-b6a3-bc16aae54720",
   "metadata": {},
   "outputs": [
    {
     "name": "stdout",
     "output_type": "stream",
     "text": [
      "139955878018992\n"
     ]
    }
   ],
   "source": [
    "str_3 = ' '\n",
    "print(id(str_3))"
   ]
  },
  {
   "cell_type": "code",
   "execution_count": 37,
   "id": "e40a9b8e-7844-4b4f-85f9-a87dab93d714",
   "metadata": {},
   "outputs": [
    {
     "data": {
      "text/plain": [
       "True"
      ]
     },
     "execution_count": 37,
     "metadata": {},
     "output_type": "execute_result"
    }
   ],
   "source": [
    "str_3.isspace()"
   ]
  },
  {
   "cell_type": "code",
   "execution_count": 3,
   "id": "65d50097-4aea-418e-ac20-ed0b9428d164",
   "metadata": {},
   "outputs": [
    {
     "data": {
      "text/plain": [
       "True"
      ]
     },
     "execution_count": 3,
     "metadata": {},
     "output_type": "execute_result"
    }
   ],
   "source": [
    "a = 'abcd1234'\n",
    "a.isalnum()"
   ]
  },
  {
   "cell_type": "code",
   "execution_count": 4,
   "id": "52489aa2-728f-4260-91b9-12e820bf5e1a",
   "metadata": {},
   "outputs": [
    {
     "name": "stdout",
     "output_type": "stream",
     "text": [
      "8\n"
     ]
    }
   ],
   "source": [
    "## to count no of char in string\n",
    "count = 0\n",
    "for i in a:\n",
    "    count+=1\n",
    "print(count)"
   ]
  },
  {
   "cell_type": "code",
   "execution_count": 5,
   "id": "90d113eb-631b-4196-bf97-3849e1a55377",
   "metadata": {},
   "outputs": [
    {
     "data": {
      "text/plain": [
       "8"
      ]
     },
     "execution_count": 5,
     "metadata": {},
     "output_type": "execute_result"
    }
   ],
   "source": [
    "len(a)"
   ]
  },
  {
   "cell_type": "code",
   "execution_count": 21,
   "id": "362b77e6-3ded-4a35-ac11-3d2287dbd0a7",
   "metadata": {},
   "outputs": [
    {
     "data": {
      "text/plain": [
       "'h'"
      ]
     },
     "execution_count": 21,
     "metadata": {},
     "output_type": "execute_result"
    }
   ],
   "source": [
    "str_3\n",
    "\n",
    "str_3[-1]"
   ]
  },
  {
   "cell_type": "code",
   "execution_count": 15,
   "id": "78c15f86-8ee9-4e98-8cd1-6d757b63f00a",
   "metadata": {},
   "outputs": [
    {
     "data": {
      "text/plain": [
       "5"
      ]
     },
     "execution_count": 15,
     "metadata": {},
     "output_type": "execute_result"
    }
   ],
   "source": [
    "len(str_3)"
   ]
  },
  {
   "cell_type": "code",
   "execution_count": 25,
   "id": "a13a3cf8-b88d-457e-8b01-42b412375cc7",
   "metadata": {},
   "outputs": [
    {
     "name": "stdout",
     "output_type": "stream",
     "text": [
      "h\n",
      "s\n",
      "r\n",
      "a\n",
      "h\n"
     ]
    }
   ],
   "source": [
    "# we can use index to iterate string in reverse direction\n",
    "for i in range((len(str_3)-1),-1,-1):\n",
    "    print(str_3[i])"
   ]
  },
  {
   "cell_type": "code",
   "execution_count": 65,
   "id": "a80f3891-5cb9-4cc2-a8ea-9ffef9136975",
   "metadata": {},
   "outputs": [],
   "source": [
    "string = 'pwskills harsh'\n",
    "ch = len(string)-1\n"
   ]
  },
  {
   "cell_type": "code",
   "execution_count": 53,
   "id": "1994d1fc-6b40-4f1a-9097-0848e64ec4b9",
   "metadata": {},
   "outputs": [
    {
     "data": {
      "text/plain": [
       "7"
      ]
     },
     "execution_count": 53,
     "metadata": {},
     "output_type": "execute_result"
    }
   ],
   "source": [
    "ch"
   ]
  },
  {
   "cell_type": "code",
   "execution_count": 62,
   "id": "956c51cb-97b8-4042-a1ca-6f624309a9ac",
   "metadata": {},
   "outputs": [
    {
     "name": "stdout",
     "output_type": "stream",
     "text": [
      "s\n",
      "l\n",
      "l\n",
      "i\n",
      "k\n",
      "s\n",
      "w\n",
      "p\n"
     ]
    }
   ],
   "source": [
    "while ch>=0:\n",
    "    print(string[ch])\n",
    "    ch-=1"
   ]
  },
  {
   "cell_type": "code",
   "execution_count": 66,
   "id": "9642e1ef-702b-4455-a22a-caa2e8d93054",
   "metadata": {},
   "outputs": [
    {
     "name": "stdout",
     "output_type": "stream",
     "text": [
      "hsrah sllikswp"
     ]
    }
   ],
   "source": [
    "for i in range(len(string)):\n",
    "    print(string[len(string) - (i+1)],end='')"
   ]
  },
  {
   "cell_type": "code",
   "execution_count": 67,
   "id": "f80c9999-a192-4bd0-b65a-dff424876050",
   "metadata": {},
   "outputs": [
    {
     "data": {
      "text/plain": [
       "'hsrah sllikswp'"
      ]
     },
     "execution_count": 67,
     "metadata": {},
     "output_type": "execute_result"
    }
   ],
   "source": [
    "string[::-1]"
   ]
  },
  {
   "cell_type": "code",
   "execution_count": 69,
   "id": "87e70b8a-1f15-41a7-a856-086b5e030465",
   "metadata": {},
   "outputs": [
    {
     "data": {
      "text/plain": [
       "True"
      ]
     },
     "execution_count": 69,
     "metadata": {},
     "output_type": "execute_result"
    }
   ],
   "source": [
    "'hsrah sllikswp' == 'hsrah sllikswp'"
   ]
  },
  {
   "cell_type": "code",
   "execution_count": 1,
   "id": "ae79a044-40c4-4e92-b78c-50e709681b0a",
   "metadata": {},
   "outputs": [
    {
     "name": "stdout",
     "output_type": "stream",
     "text": [
      "p is not a vowel\n",
      "w is not a vowel\n",
      "s is not a vowel\n",
      "k is not a vowel\n",
      "i is a vowel\n",
      "l is not a vowel\n",
      "l is not a vowel\n",
      "s is not a vowel\n"
     ]
    }
   ],
   "source": [
    "name = 'pwskills'\n",
    "vowels = 'AaEeIiOoUu'\n",
    "for ch in name:\n",
    "    if ch in vowels:\n",
    "        print('{} is a vowel'.format(ch))\n",
    "    else:\n",
    "        print('{} is not a vowel'.format(ch))\n",
    "    # print(ch)"
   ]
  },
  {
   "cell_type": "markdown",
   "id": "41e423d5-4f55-42d3-85cc-8bb86076cc15",
   "metadata": {},
   "source": [
    "# List - unordered collection of elements"
   ]
  },
  {
   "cell_type": "code",
   "execution_count": 3,
   "id": "f3447e4f-ed8f-428f-a6c1-95f64e4384d4",
   "metadata": {},
   "outputs": [
    {
     "data": {
      "text/plain": [
       "list"
      ]
     },
     "execution_count": 3,
     "metadata": {},
     "output_type": "execute_result"
    }
   ],
   "source": [
    "type([])"
   ]
  },
  {
   "cell_type": "code",
   "execution_count": null,
   "id": "d59d1152-5a55-4389-b736-6d8f1cbd6216",
   "metadata": {},
   "outputs": [],
   "source": [
    "['a','b','c','d','e']"
   ]
  },
  {
   "cell_type": "code",
   "execution_count": 7,
   "id": "ffe66d0c-3275-4b4f-b516-0eafeb58a877",
   "metadata": {},
   "outputs": [],
   "source": [
    "str1 = 'PW skills Data science masters'\n"
   ]
  },
  {
   "cell_type": "code",
   "execution_count": 8,
   "id": "1ee99118-4b76-42ee-8204-eb02336fa7b8",
   "metadata": {},
   "outputs": [
    {
     "data": {
      "text/plain": [
       "['P',\n",
       " 'W',\n",
       " ' ',\n",
       " 's',\n",
       " 'k',\n",
       " 'i',\n",
       " 'l',\n",
       " 'l',\n",
       " 's',\n",
       " ' ',\n",
       " 'D',\n",
       " 'a',\n",
       " 't',\n",
       " 'a',\n",
       " ' ',\n",
       " 's',\n",
       " 'c',\n",
       " 'i',\n",
       " 'e',\n",
       " 'n',\n",
       " 'c',\n",
       " 'e',\n",
       " ' ',\n",
       " 'm',\n",
       " 'a',\n",
       " 's',\n",
       " 't',\n",
       " 'e',\n",
       " 'r',\n",
       " 's']"
      ]
     },
     "execution_count": 8,
     "metadata": {},
     "output_type": "execute_result"
    }
   ],
   "source": [
    "list(str1)"
   ]
  },
  {
   "cell_type": "code",
   "execution_count": 10,
   "id": "cce6dad6-b3db-44d6-a23e-ea61e0bbbcb5",
   "metadata": {},
   "outputs": [],
   "source": [
    "lst1 = list(str1.split(' '))"
   ]
  },
  {
   "cell_type": "code",
   "execution_count": 11,
   "id": "299376b6-6bd2-4772-8968-86bae532e7fd",
   "metadata": {},
   "outputs": [
    {
     "data": {
      "text/plain": [
       "['PW', 'skills', 'Data', 'science', 'masters']"
      ]
     },
     "execution_count": 11,
     "metadata": {},
     "output_type": "execute_result"
    }
   ],
   "source": [
    "lst1"
   ]
  },
  {
   "cell_type": "code",
   "execution_count": 12,
   "id": "99eee710-a67f-40d6-a6e2-03afa58a7b01",
   "metadata": {},
   "outputs": [
    {
     "data": {
      "text/plain": [
       "['PW', 'skills', 'datas', 'science', 'masters']"
      ]
     },
     "execution_count": 12,
     "metadata": {},
     "output_type": "execute_result"
    }
   ],
   "source": [
    "lst1[2] = 'datas'\n",
    "lst1"
   ]
  },
  {
   "cell_type": "code",
   "execution_count": 13,
   "id": "7039a258-5c1d-41a9-9d2c-60a72acea1dc",
   "metadata": {},
   "outputs": [
    {
     "data": {
      "text/plain": [
       "'datas'"
      ]
     },
     "execution_count": 13,
     "metadata": {},
     "output_type": "execute_result"
    }
   ],
   "source": [
    "lst1[-3]"
   ]
  },
  {
   "cell_type": "code",
   "execution_count": 15,
   "id": "600f309c-07a1-47c8-9360-77e3ed26cced",
   "metadata": {},
   "outputs": [
    {
     "data": {
      "text/plain": [
       "['masters', 'datas', 'PW']"
      ]
     },
     "execution_count": 15,
     "metadata": {},
     "output_type": "execute_result"
    }
   ],
   "source": [
    "lst1[::-2]"
   ]
  },
  {
   "cell_type": "code",
   "execution_count": 20,
   "id": "2ce3e9dc-b29d-4213-9eaf-fe8b143a106e",
   "metadata": {},
   "outputs": [
    {
     "data": {
      "text/plain": [
       "['masters', 'science']"
      ]
     },
     "execution_count": 20,
     "metadata": {},
     "output_type": "execute_result"
    }
   ],
   "source": [
    "lst1[4:2:-1]"
   ]
  },
  {
   "cell_type": "code",
   "execution_count": 23,
   "id": "6dc07bf3-43a8-4224-bea0-ecb699a21eb5",
   "metadata": {},
   "outputs": [],
   "source": [
    "lst2 = lst1 + [['new',3]]"
   ]
  },
  {
   "cell_type": "code",
   "execution_count": 25,
   "id": "bc6870f0-20ce-41ca-9d0d-a88115b2de8d",
   "metadata": {},
   "outputs": [
    {
     "data": {
      "text/plain": [
       "'new'"
      ]
     },
     "execution_count": 25,
     "metadata": {},
     "output_type": "execute_result"
    }
   ],
   "source": [
    "#multinested list\n",
    "lst2[-1][0]"
   ]
  },
  {
   "cell_type": "code",
   "execution_count": 26,
   "id": "16075254-b595-4d90-8a5c-69fa14fcc023",
   "metadata": {},
   "outputs": [
    {
     "data": {
      "text/plain": [
       "['PW',\n",
       " 'skills',\n",
       " 'datas',\n",
       " 'science',\n",
       " 'masters',\n",
       " 'PW',\n",
       " 'skills',\n",
       " 'datas',\n",
       " 'science',\n",
       " 'masters']"
      ]
     },
     "execution_count": 26,
     "metadata": {},
     "output_type": "execute_result"
    }
   ],
   "source": [
    "lst1*2"
   ]
  },
  {
   "cell_type": "code",
   "execution_count": 27,
   "id": "488f6393-afec-44e5-a370-f0d9edcca083",
   "metadata": {},
   "outputs": [
    {
     "data": {
      "text/plain": [
       "['PW', 'skills', 'datas', 'science', 'masters']"
      ]
     },
     "execution_count": 27,
     "metadata": {},
     "output_type": "execute_result"
    }
   ],
   "source": [
    "lst1"
   ]
  },
  {
   "cell_type": "code",
   "execution_count": 29,
   "id": "c4b0e3b1-1746-468d-abe0-461f89e3a902",
   "metadata": {},
   "outputs": [
    {
     "name": "stdout",
     "output_type": "stream",
     "text": [
      "True\n"
     ]
    }
   ],
   "source": [
    "if 'science' in lst1:\n",
    "    print(True)\n",
    "    \n",
    "    "
   ]
  },
  {
   "cell_type": "code",
   "execution_count": 30,
   "id": "ed0b25ca-602d-4243-b351-dc276f0afcce",
   "metadata": {},
   "outputs": [
    {
     "data": {
      "text/plain": [
       "True"
      ]
     },
     "execution_count": 30,
     "metadata": {},
     "output_type": "execute_result"
    }
   ],
   "source": [
    "lst=[1,2,3,4]\n",
    "4 in lst"
   ]
  },
  {
   "cell_type": "code",
   "execution_count": 33,
   "id": "96052543-c52a-48c4-8c7f-3ddfb47cefa7",
   "metadata": {},
   "outputs": [],
   "source": [
    "lst = [1,2,3,4,5,6,7,8,9]\n"
   ]
  },
  {
   "cell_type": "code",
   "execution_count": 34,
   "id": "16b83bbe-f495-450f-a7f0-5873f2e0366a",
   "metadata": {},
   "outputs": [],
   "source": [
    "lst.append(\"PW\")"
   ]
  },
  {
   "cell_type": "code",
   "execution_count": 35,
   "id": "3bec615f-7ff6-4c2f-8ba8-85a83a87e86b",
   "metadata": {},
   "outputs": [
    {
     "data": {
      "text/plain": [
       "[1, 2, 3, 4, 5, 6, 7, 8, 9, 'PW']"
      ]
     },
     "execution_count": 35,
     "metadata": {},
     "output_type": "execute_result"
    }
   ],
   "source": [
    "lst"
   ]
  },
  {
   "cell_type": "code",
   "execution_count": 36,
   "id": "46adac87-9ec2-42f7-86aa-d0541b08d922",
   "metadata": {},
   "outputs": [
    {
     "data": {
      "text/plain": [
       "'PW'"
      ]
     },
     "execution_count": 36,
     "metadata": {},
     "output_type": "execute_result"
    }
   ],
   "source": [
    "lst.pop()"
   ]
  },
  {
   "cell_type": "code",
   "execution_count": 37,
   "id": "1af891bd-01bb-4b61-93bd-fb3f15c9a075",
   "metadata": {},
   "outputs": [
    {
     "data": {
      "text/plain": [
       "[1, 2, 3, 4, 5, 6, 7, 8, 9]"
      ]
     },
     "execution_count": 37,
     "metadata": {},
     "output_type": "execute_result"
    }
   ],
   "source": [
    "lst"
   ]
  },
  {
   "cell_type": "code",
   "execution_count": 39,
   "id": "7b735365-4704-4f2c-a204-6b58aa8481fd",
   "metadata": {},
   "outputs": [
    {
     "data": {
      "text/plain": [
       "3"
      ]
     },
     "execution_count": 39,
     "metadata": {},
     "output_type": "execute_result"
    }
   ],
   "source": [
    "lst.pop(2)"
   ]
  },
  {
   "cell_type": "code",
   "execution_count": 40,
   "id": "d1c7e492-111b-4e93-8712-68c4915bf5d4",
   "metadata": {},
   "outputs": [],
   "source": [
    "# sorting and reverse methods"
   ]
  },
  {
   "cell_type": "code",
   "execution_count": 1,
   "id": "1259eb3c-4674-4fc7-aa13-bd4e54649840",
   "metadata": {},
   "outputs": [],
   "source": [
    "new_list = ['q','w','e','r','t','g']"
   ]
  },
  {
   "cell_type": "code",
   "execution_count": 2,
   "id": "ffd48806-7c5e-4584-95ab-d9a3c9179c27",
   "metadata": {},
   "outputs": [
    {
     "data": {
      "text/plain": [
       "['q', 'w', 'e', 'r', 't', 'g']"
      ]
     },
     "execution_count": 2,
     "metadata": {},
     "output_type": "execute_result"
    }
   ],
   "source": [
    "new_list"
   ]
  },
  {
   "cell_type": "code",
   "execution_count": 3,
   "id": "36903e02-0b20-480a-926a-911a2886364f",
   "metadata": {},
   "outputs": [
    {
     "data": {
      "text/plain": [
       "['g', 't', 'r', 'e', 'w', 'q']"
      ]
     },
     "execution_count": 3,
     "metadata": {},
     "output_type": "execute_result"
    }
   ],
   "source": [
    "new_list[::-1]"
   ]
  },
  {
   "cell_type": "code",
   "execution_count": 4,
   "id": "a81ab7b2-99a7-44ef-8f22-3fa97872a85a",
   "metadata": {},
   "outputs": [],
   "source": [
    "new_list.reverse()"
   ]
  },
  {
   "cell_type": "code",
   "execution_count": 5,
   "id": "f2648725-1337-4ef1-8cf2-e9a91d473a2d",
   "metadata": {},
   "outputs": [
    {
     "data": {
      "text/plain": [
       "['g', 't', 'r', 'e', 'w', 'q']"
      ]
     },
     "execution_count": 5,
     "metadata": {},
     "output_type": "execute_result"
    }
   ],
   "source": [
    "new_list"
   ]
  },
  {
   "cell_type": "code",
   "execution_count": 6,
   "id": "9ca2b3a1-df5e-44e8-b0ca-565ed1384152",
   "metadata": {},
   "outputs": [],
   "source": [
    "new_list.sort(reverse =False)"
   ]
  },
  {
   "cell_type": "code",
   "execution_count": 7,
   "id": "eaab66c1-7a6e-4e14-b711-38f1e5dd6cbd",
   "metadata": {},
   "outputs": [
    {
     "data": {
      "text/plain": [
       "['e', 'g', 'q', 'r', 't', 'w']"
      ]
     },
     "execution_count": 7,
     "metadata": {},
     "output_type": "execute_result"
    }
   ],
   "source": [
    "new_list"
   ]
  },
  {
   "cell_type": "markdown",
   "id": "f932ffa7-abcb-4101-b240-9dd1c291e28f",
   "metadata": {},
   "source": [
    "nested list"
   ]
  },
  {
   "cell_type": "code",
   "execution_count": 13,
   "id": "cd1706e6-a597-4841-a41b-c02580d3f517",
   "metadata": {},
   "outputs": [],
   "source": [
    "lst_1 = [1,2,3]\n",
    "lst_2 = [4,5,6]\n",
    "lst_3 = [7,8,9]\n",
    "matrix = [lst_1,lst_2,lst_3]\n"
   ]
  },
  {
   "cell_type": "code",
   "execution_count": 14,
   "id": "d2777dc0-7996-47f0-b68d-88d736e9d55f",
   "metadata": {},
   "outputs": [
    {
     "data": {
      "text/plain": [
       "[[1, 2, 3], [4, 5, 6], [7, 8, 9]]"
      ]
     },
     "execution_count": 14,
     "metadata": {},
     "output_type": "execute_result"
    }
   ],
   "source": [
    "matrix"
   ]
  },
  {
   "cell_type": "code",
   "execution_count": 15,
   "id": "f9f24b8f-38cc-40b6-b579-8fe3a73a7105",
   "metadata": {},
   "outputs": [
    {
     "data": {
      "text/plain": [
       "6"
      ]
     },
     "execution_count": 15,
     "metadata": {},
     "output_type": "execute_result"
    }
   ],
   "source": [
    "matrix[1][2]"
   ]
  },
  {
   "cell_type": "code",
   "execution_count": 16,
   "id": "76b8e304-57f2-436f-a4e7-45c35dac3ef7",
   "metadata": {},
   "outputs": [
    {
     "data": {
      "text/plain": [
       "[8, 9]"
      ]
     },
     "execution_count": 16,
     "metadata": {},
     "output_type": "execute_result"
    }
   ],
   "source": [
    "matrix[2][1:]"
   ]
  },
  {
   "cell_type": "code",
   "execution_count": 20,
   "id": "b65ad526-0f07-4e54-9bbc-de28a44eb456",
   "metadata": {},
   "outputs": [
    {
     "data": {
      "text/plain": [
       "[[1, 2, 3], [4, 5, 6], [7, 8, 9]]"
      ]
     },
     "execution_count": 20,
     "metadata": {},
     "output_type": "execute_result"
    }
   ],
   "source": [
    "matrix[:]"
   ]
  },
  {
   "cell_type": "code",
   "execution_count": 28,
   "id": "7c99cab7-b496-48c8-99a6-8dbc4dfbdfa9",
   "metadata": {},
   "outputs": [],
   "source": [
    "# list comprehension\n"
   ]
  },
  {
   "cell_type": "code",
   "execution_count": 29,
   "id": "969fa8d7-a92a-4232-a22f-8bd7d52e7579",
   "metadata": {},
   "outputs": [
    {
     "data": {
      "text/plain": [
       "[0, 1, 2, 3, 4, 5, 6, 7, 8, 9, 10, 11, 12, 13, 14, 15, 16, 17, 18, 19]"
      ]
     },
     "execution_count": 29,
     "metadata": {},
     "output_type": "execute_result"
    }
   ],
   "source": [
    "[i for i in range(20)]"
   ]
  },
  {
   "cell_type": "code",
   "execution_count": 39,
   "id": "22d66dd1-e3fc-4991-afd5-f91216725f6c",
   "metadata": {},
   "outputs": [
    {
     "data": {
      "text/plain": [
       "[0,\n",
       " 'ODD',\n",
       " 2,\n",
       " 'ODD',\n",
       " 4,\n",
       " 'ODD',\n",
       " 6,\n",
       " 'ODD',\n",
       " 8,\n",
       " 'ODD',\n",
       " 10,\n",
       " 'ODD',\n",
       " 12,\n",
       " 'ODD',\n",
       " 14,\n",
       " 'ODD',\n",
       " 16,\n",
       " 'ODD',\n",
       " 18,\n",
       " 'ODD']"
      ]
     },
     "execution_count": 39,
     "metadata": {},
     "output_type": "execute_result"
    }
   ],
   "source": [
    "[i if i%2==0 else 'ODD' for i in range(20)]"
   ]
  },
  {
   "cell_type": "code",
   "execution_count": 37,
   "id": "c4721853-4537-467e-b6cc-b75c11927ba1",
   "metadata": {},
   "outputs": [
    {
     "ename": "SyntaxError",
     "evalue": "invalid syntax (713283445.py, line 1)",
     "output_type": "error",
     "traceback": [
      "\u001b[0;36m  Cell \u001b[0;32mIn[37], line 1\u001b[0;36m\u001b[0m\n\u001b[0;31m    ['True' for i%2==0 in range(20)]\u001b[0m\n\u001b[0m                 ^\u001b[0m\n\u001b[0;31mSyntaxError\u001b[0m\u001b[0;31m:\u001b[0m invalid syntax\n"
     ]
    }
   ],
   "source": []
  },
  {
   "cell_type": "code",
   "execution_count": 40,
   "id": "724345a3-9b7c-41e4-8d26-3cf8bfa93351",
   "metadata": {},
   "outputs": [
    {
     "data": {
      "text/plain": [
       "[0, 1, 2, 3, 4, 5, 6, 7, 8, 9, 10, 11, 12, 13, 14, 15, 16, 17, 18, 19]"
      ]
     },
     "execution_count": 40,
     "metadata": {},
     "output_type": "execute_result"
    }
   ],
   "source": [
    "[i for i in range(20)]"
   ]
  },
  {
   "cell_type": "code",
   "execution_count": 46,
   "id": "2f8f9170-fa66-4836-b500-1d985576a0f6",
   "metadata": {},
   "outputs": [
    {
     "name": "stdout",
     "output_type": "stream",
     "text": [
      "30\n",
      "25\n"
     ]
    }
   ],
   "source": [
    "# lst = [0, 1, 2, 3, 4, 5, 6, 7, 8, 9, 10]\n",
    "# sum = 0\n",
    "# sum1 = 0\n",
    "# for i in lst:\n",
    "#     if i%2==0:\n",
    "#         sum +=i\n",
    "#     else:\n",
    "#         sum1+=i\n",
    "# print(sum)\n",
    "# print(sum1)\n"
   ]
  },
  {
   "cell_type": "code",
   "execution_count": 52,
   "id": "6c633223-0300-4781-955c-34e8246bd329",
   "metadata": {},
   "outputs": [
    {
     "data": {
      "text/plain": [
       "[0, 1, 2, 3, 4, 5, 6, 7, 8, 9, 10]"
      ]
     },
     "execution_count": 52,
     "metadata": {},
     "output_type": "execute_result"
    }
   ],
   "source": [
    "lst"
   ]
  },
  {
   "cell_type": "code",
   "execution_count": 51,
   "id": "785135ed-be9a-4d01-a58a-fb6cf44061c4",
   "metadata": {},
   "outputs": [
    {
     "ename": "TypeError",
     "evalue": "'int' object is not callable",
     "output_type": "error",
     "traceback": [
      "\u001b[0;31m---------------------------------------------------------------------------\u001b[0m",
      "\u001b[0;31mTypeError\u001b[0m                                 Traceback (most recent call last)",
      "Cell \u001b[0;32mIn[51], line 2\u001b[0m\n\u001b[1;32m      1\u001b[0m \u001b[38;5;66;03m# using list comprehension\u001b[39;00m\n\u001b[0;32m----> 2\u001b[0m \u001b[38;5;28;43msum\u001b[39;49m\u001b[43m(\u001b[49m\u001b[43m[\u001b[49m\u001b[43mnum\u001b[49m\u001b[43m \u001b[49m\u001b[38;5;28;43;01mfor\u001b[39;49;00m\u001b[43m \u001b[49m\u001b[43mnum\u001b[49m\u001b[43m \u001b[49m\u001b[38;5;129;43;01min\u001b[39;49;00m\u001b[43m \u001b[49m\u001b[43mlst\u001b[49m\u001b[43m \u001b[49m\u001b[38;5;28;43;01mif\u001b[39;49;00m\u001b[43m \u001b[49m\u001b[43mnum\u001b[49m\u001b[38;5;241;43m%\u001b[39;49m\u001b[38;5;241;43m2\u001b[39;49m\u001b[38;5;241;43m==\u001b[39;49m\u001b[38;5;241;43m0\u001b[39;49m\u001b[43m]\u001b[49m\u001b[43m)\u001b[49m\n",
      "\u001b[0;31mTypeError\u001b[0m: 'int' object is not callable"
     ]
    }
   ],
   "source": [
    "# using list comprehension\n",
    "sum([num for num in lst if num%2==0])"
   ]
  },
  {
   "cell_type": "code",
   "execution_count": 3,
   "id": "6759799b-d11e-4d9d-89d6-9697bac6d4ee",
   "metadata": {},
   "outputs": [],
   "source": [
    "list_1 = [1,2,3,4,5,6,7,8,9,0]\n",
    "a=(sum([ele for ele in list_1 if ele%2!=0]))\n"
   ]
  },
  {
   "cell_type": "code",
   "execution_count": 4,
   "id": "fdcf003b-845c-4060-a591-e72859337cfd",
   "metadata": {},
   "outputs": [
    {
     "data": {
      "text/plain": [
       "25"
      ]
     },
     "execution_count": 4,
     "metadata": {},
     "output_type": "execute_result"
    }
   ],
   "source": [
    "a"
   ]
  },
  {
   "cell_type": "code",
   "execution_count": 7,
   "id": "774defc9-de38-42f1-bb62-2b331cf88e0d",
   "metadata": {},
   "outputs": [],
   "source": [
    "sq_lst = [i**2 for i in list_1]"
   ]
  },
  {
   "cell_type": "code",
   "execution_count": 8,
   "id": "9eab958e-8639-4415-a33e-f1af29114750",
   "metadata": {},
   "outputs": [
    {
     "data": {
      "text/plain": [
       "[1, 4, 9, 16, 25, 36, 49, 64, 81, 0]"
      ]
     },
     "execution_count": 8,
     "metadata": {},
     "output_type": "execute_result"
    }
   ],
   "source": [
    "sq_lst"
   ]
  },
  {
   "cell_type": "code",
   "execution_count": 11,
   "id": "c0bf5332-ba1c-4bc8-9a99-06bd7fd45387",
   "metadata": {},
   "outputs": [
    {
     "data": {
      "text/plain": [
       "[1, 2, 3, 4]"
      ]
     },
     "execution_count": 11,
     "metadata": {},
     "output_type": "execute_result"
    }
   ],
   "source": [
    "numbers = [-2,-1,0,1,2,3,4]\n",
    "pos = [i for i in numbers if i>0]\n",
    "pos"
   ]
  },
  {
   "cell_type": "code",
   "execution_count": 12,
   "id": "73697f6a-ab32-4f3b-aabc-9fc704d1ff49",
   "metadata": {},
   "outputs": [],
   "source": [
    "words = ['apple','banana','cherery','date']\n",
    "fst_let = [word[0] for word in words]"
   ]
  },
  {
   "cell_type": "code",
   "execution_count": 13,
   "id": "985b76a1-21bb-423b-9bd3-2f6a1e3dd1f1",
   "metadata": {},
   "outputs": [
    {
     "data": {
      "text/plain": [
       "['a', 'b', 'c', 'd']"
      ]
     },
     "execution_count": 13,
     "metadata": {},
     "output_type": "execute_result"
    }
   ],
   "source": [
    "fst_let"
   ]
  },
  {
   "cell_type": "code",
   "execution_count": 18,
   "id": "dcd9f6c6-518f-432d-bc0f-ab536c067fad",
   "metadata": {},
   "outputs": [],
   "source": [
    "celcius = [0,10,20,30,40,50]\n",
    "fah = [int(((9/5)*i+32)) for i in celcius]"
   ]
  },
  {
   "cell_type": "code",
   "execution_count": 19,
   "id": "b6665c32-cf3b-4409-84cd-4895dac0c24c",
   "metadata": {},
   "outputs": [
    {
     "data": {
      "text/plain": [
       "[32, 50, 68, 86, 104, 122]"
      ]
     },
     "execution_count": 19,
     "metadata": {},
     "output_type": "execute_result"
    }
   ],
   "source": [
    "fah"
   ]
  },
  {
   "cell_type": "code",
   "execution_count": 23,
   "id": "0d2a85ee-0ad6-4824-86b9-22eb7a6bc047",
   "metadata": {},
   "outputs": [],
   "source": [
    "lists = [[1,2,3],[4,5,6],[7,8,9]]\n",
    "op = [j for i in lists for j in i]"
   ]
  },
  {
   "cell_type": "markdown",
   "id": "7d013728-2f2e-48f9-a454-60cd39d51df2",
   "metadata": {},
   "source": [
    "explain for above code:\n",
    "first for loop will take substrings and we will iterate in substring using j as required output\n",
    "for i in lists = substrings and \n",
    "for j in i = elements of substring"
   ]
  },
  {
   "cell_type": "code",
   "execution_count": 24,
   "id": "eb3d5140-2def-4c43-853a-037cd8706c9a",
   "metadata": {},
   "outputs": [
    {
     "data": {
      "text/plain": [
       "[1, 2, 3, 4, 5, 6, 7, 8, 9]"
      ]
     },
     "execution_count": 24,
     "metadata": {},
     "output_type": "execute_result"
    }
   ],
   "source": [
    "op"
   ]
  },
  {
   "cell_type": "code",
   "execution_count": null,
   "id": "0cc7222d-a34c-4864-bb94-038c29a4e308",
   "metadata": {},
   "outputs": [],
   "source": []
  },
  {
   "cell_type": "code",
   "execution_count": 2,
   "id": "e2b67435-2178-4acd-a2f3-6fbff94b23c0",
   "metadata": {},
   "outputs": [],
   "source": []
  },
  {
   "cell_type": "code",
   "execution_count": 20,
   "id": "cebe3688-b1e8-4982-b5ef-de5088d4d9dd",
   "metadata": {},
   "outputs": [
    {
     "name": "stdout",
     "output_type": "stream",
     "text": [
      "prime\n"
     ]
    }
   ],
   "source": [
    "n = 2\n",
    "flag = False\n",
    "if n==0 or n ==1:\n",
    "    print('not prime nor composite')\n",
    "elif n > 1:\n",
    "    for i in range(2,int(n/2)):\n",
    "        if n%i==0:\n",
    "            flag = True\n",
    "            break\n",
    "    if flag:\n",
    "        print('not prime')\n",
    "    else:\n",
    "        print('prime')\n",
    "        \n",
    "        "
   ]
  },
  {
   "cell_type": "code",
   "execution_count": 30,
   "id": "1f053a9a-e9a1-405b-9a0f-9350ef7ba0e8",
   "metadata": {},
   "outputs": [],
   "source": [
    "## Assignment \n",
    "## Using both code and list comprehesnion\n",
    "# Example 2: Create a list of only the prime numbers from a given list\n",
    "numbers = [1, 2, 3, 4, 5, 6, 7, 8, 9, 10]"
   ]
  },
  {
   "cell_type": "code",
   "execution_count": 45,
   "id": "d6dd6e05-3d3d-4772-93de-e17f50b71ad7",
   "metadata": {},
   "outputs": [
    {
     "data": {
      "text/plain": [
       "[2, 3, 5, 7]"
      ]
     },
     "execution_count": 45,
     "metadata": {},
     "output_type": "execute_result"
    }
   ],
   "source": [
    "[num for num in numbers if all(num%i!=0 for i in range(2,num)) if num>1]"
   ]
  },
  {
   "cell_type": "code",
   "execution_count": 19,
   "id": "7a0dc779-e0fe-4cfa-a246-c7e36d265047",
   "metadata": {},
   "outputs": [
    {
     "data": {
      "text/plain": [
       "[3,\n",
       " 4,\n",
       " 5,\n",
       " 5,\n",
       " 5,\n",
       " 6,\n",
       " 6,\n",
       " 7,\n",
       " 7,\n",
       " 7,\n",
       " 7,\n",
       " 7,\n",
       " 8,\n",
       " 8,\n",
       " 8,\n",
       " 8,\n",
       " 9,\n",
       " 9,\n",
       " 9,\n",
       " 9,\n",
       " 9,\n",
       " 9,\n",
       " 10,\n",
       " 10,\n",
       " 10,\n",
       " 10,\n",
       " 10,\n",
       " 10]"
      ]
     },
     "execution_count": 19,
     "metadata": {},
     "output_type": "execute_result"
    }
   ],
   "source": [
    "res"
   ]
  },
  {
   "cell_type": "code",
   "execution_count": 1,
   "id": "a245ff7c-1fd9-4297-a024-36b58c89d3d8",
   "metadata": {},
   "outputs": [],
   "source": [
    "# Example 3: Create a list of all the possible combinations of 2 elements from a list\n",
    "numbers = [1, 2, 3, 4, 5]"
   ]
  },
  {
   "cell_type": "code",
   "execution_count": null,
   "id": "84e6d3fc-cef9-4391-aa69-67ef9a486c19",
   "metadata": {},
   "outputs": [],
   "source": []
  },
  {
   "cell_type": "code",
   "execution_count": null,
   "id": "10454ede-baea-498d-b9a0-b92b301f3c3a",
   "metadata": {},
   "outputs": [],
   "source": []
  },
  {
   "cell_type": "code",
   "execution_count": null,
   "id": "763b7366-cdbd-4278-b4af-2d3c52ff8233",
   "metadata": {},
   "outputs": [],
   "source": []
  },
  {
   "cell_type": "code",
   "execution_count": null,
   "id": "f53f1ebd-feb5-4b12-b856-c2e1d155444d",
   "metadata": {},
   "outputs": [],
   "source": []
  },
  {
   "cell_type": "code",
   "execution_count": null,
   "id": "e8f9768c-ea2d-48a7-8f20-b46254c5b1bb",
   "metadata": {},
   "outputs": [],
   "source": []
  },
  {
   "cell_type": "code",
   "execution_count": null,
   "id": "9c29c9f8-2bbe-4982-9fb4-58a8b85e85d8",
   "metadata": {},
   "outputs": [],
   "source": []
  },
  {
   "cell_type": "code",
   "execution_count": null,
   "id": "5ba0c202-3ddd-4128-b7ea-f8dea94ad156",
   "metadata": {},
   "outputs": [],
   "source": []
  },
  {
   "cell_type": "code",
   "execution_count": null,
   "id": "1e628697-dcb7-4ba1-9898-a4659bec3339",
   "metadata": {},
   "outputs": [],
   "source": []
  },
  {
   "cell_type": "code",
   "execution_count": null,
   "id": "75bb4c45-667e-419a-a0f3-f5449c2121ab",
   "metadata": {},
   "outputs": [],
   "source": []
  },
  {
   "cell_type": "code",
   "execution_count": null,
   "id": "52353d01-540e-44fa-aa66-7e602d401546",
   "metadata": {},
   "outputs": [],
   "source": []
  },
  {
   "cell_type": "code",
   "execution_count": null,
   "id": "ef4bcfb8-2b84-426e-acc3-879273bfd6a1",
   "metadata": {},
   "outputs": [],
   "source": []
  },
  {
   "cell_type": "code",
   "execution_count": null,
   "id": "2bc18ec9-3d44-44bf-b105-193e25a49781",
   "metadata": {},
   "outputs": [],
   "source": []
  }
 ],
 "metadata": {
  "kernelspec": {
   "display_name": "Python 3 (ipykernel)",
   "language": "python",
   "name": "python3"
  },
  "language_info": {
   "codemirror_mode": {
    "name": "ipython",
    "version": 3
   },
   "file_extension": ".py",
   "mimetype": "text/x-python",
   "name": "python",
   "nbconvert_exporter": "python",
   "pygments_lexer": "ipython3",
   "version": "3.10.8"
  }
 },
 "nbformat": 4,
 "nbformat_minor": 5
}
