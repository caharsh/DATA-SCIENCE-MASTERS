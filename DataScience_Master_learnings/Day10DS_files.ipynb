{
 "cells": [
  {
   "cell_type": "code",
   "execution_count": 24,
   "id": "458a56de-a9f8-4c8f-b188-f45b41d224df",
   "metadata": {},
   "outputs": [],
   "source": [
    "f = open('test.txt','a' )"
   ]
  },
  {
   "cell_type": "code",
   "execution_count": 25,
   "id": "de91ab3c-d0de-438e-9f54-9119f4292f4a",
   "metadata": {},
   "outputs": [
    {
     "data": {
      "text/plain": [
       "'/home/jovyan/work'"
      ]
     },
     "execution_count": 25,
     "metadata": {},
     "output_type": "execute_result"
    }
   ],
   "source": [
    "pwd  # present working directory"
   ]
  },
  {
   "cell_type": "code",
   "execution_count": 26,
   "id": "6b82c595-6147-4471-9e3d-33004688363b",
   "metadata": {},
   "outputs": [
    {
     "name": "stdout",
     "output_type": "stream",
     "text": [
      "Day10DS_files.ipynb  Day6DS_function.ipynb            dictionary_prac.ipynb\n",
      "Day1DS.ipynb         Day7DS_func_part2.ipynb          README.md\n",
      "Day2DS.ipynb         Day8DS_OOPS.ipynb                sample-code.ipynb\n",
      "Day3DS.ipynb         Day9DS_dudermagic_special.ipynb  \u001b[0m\u001b[01;34mtest\u001b[0m/\n",
      "Day4DS.ipynb         Day9DS_OOPS_2.ipynb              \u001b[01;34mtest1\u001b[0m/\n",
      "Day5DS.ipynb         Day9DS_staticmeth.ipynb          test.txt\n"
     ]
    }
   ],
   "source": [
    "ls"
   ]
  },
  {
   "cell_type": "code",
   "execution_count": 27,
   "id": "f1f833e3-1cb9-49ee-9b7b-c12009bd7009",
   "metadata": {},
   "outputs": [
    {
     "data": {
      "text/plain": [
       "583"
      ]
     },
     "execution_count": 27,
     "metadata": {},
     "output_type": "execute_result"
    }
   ],
   "source": [
    "f.write('Data Science Masters course is highly curated and uniquely designed according to the latest industry standards. This program instills students the skills essential to knowledge discovery efforts to identify standard, novel, and truly differentiated solutions and decision-making, including skills in managing, querying, analyzing, visualizing, and extracting meaning from extremely large data sets. This trending program provides students with the statistical, mathematical and computational skills needed to meet the large-scale data science challenges of todays professional world.')\n"
   ]
  },
  {
   "cell_type": "code",
   "execution_count": 28,
   "id": "933cf875-fffb-4dc4-a196-9666c4d0b05a",
   "metadata": {},
   "outputs": [],
   "source": [
    "f.close()"
   ]
  },
  {
   "cell_type": "code",
   "execution_count": 29,
   "id": "a0b5d810-7dee-47c3-b30c-6731bfca7454",
   "metadata": {},
   "outputs": [],
   "source": [
    "data = open('test.txt','r')"
   ]
  },
  {
   "cell_type": "code",
   "execution_count": 32,
   "id": "bf8b1a10-bd2f-4d07-b1a6-56b4f09e30b7",
   "metadata": {},
   "outputs": [
    {
     "data": {
      "text/plain": [
       "''"
      ]
     },
     "execution_count": 32,
     "metadata": {},
     "output_type": "execute_result"
    }
   ],
   "source": [
    "data.read()"
   ]
  },
  {
   "cell_type": "code",
   "execution_count": 35,
   "id": "79077551-4360-41c9-92cc-b98282e8e2d1",
   "metadata": {},
   "outputs": [
    {
     "data": {
      "text/plain": [
       "'Data Science Masters course is highly curated and uniquely designed according to the latest industry standards. This program instills students the skills essential to knowledge discovery efforts to identify standard, novel, and truly differentiated solutions and decision-making, including skills in managing, querying, analyzing, visualizing, and extracting meaning from extremely large data sets. This trending program provides students with the statistical, mathematical and computational skills needed to meet the large-scale data science challenges of todays professional world.Data Science Masters course is highly curated and uniquely designed according to the latest industry standards. This program instills students the skills essential to knowledge discovery efforts to identify standard, novel, and truly differentiated solutions and decision-making, including skills in managing, querying, analyzing, visualizing, and extracting meaning from extremely large data sets. This trending program provides students with the statistical, mathematical and computational skills needed to meet the large-scale data science challenges of todays professional world.'"
      ]
     },
     "execution_count": 35,
     "metadata": {},
     "output_type": "execute_result"
    }
   ],
   "source": [
    "data.read()"
   ]
  },
  {
   "cell_type": "code",
   "execution_count": 34,
   "id": "7574d39f-ee9c-428d-bdd7-11f6b68f0d0b",
   "metadata": {},
   "outputs": [
    {
     "data": {
      "text/plain": [
       "0"
      ]
     },
     "execution_count": 34,
     "metadata": {},
     "output_type": "execute_result"
    }
   ],
   "source": [
    "data.seek(0)"
   ]
  },
  {
   "cell_type": "code",
   "execution_count": 36,
   "id": "4333efe4-58ac-4215-b1f7-6b8850e1bcf0",
   "metadata": {},
   "outputs": [
    {
     "data": {
      "text/plain": [
       "100"
      ]
     },
     "execution_count": 36,
     "metadata": {},
     "output_type": "execute_result"
    }
   ],
   "source": [
    "data.seek(100)"
   ]
  },
  {
   "cell_type": "code",
   "execution_count": 37,
   "id": "b85bcc98-d5d1-4305-ae0f-8e871975b6f1",
   "metadata": {},
   "outputs": [
    {
     "data": {
      "text/plain": [
       "' standards. This program instills students the skills essential to knowledge discovery efforts to identify standard, novel, and truly differentiated solutions and decision-making, including skills in managing, querying, analyzing, visualizing, and extracting meaning from extremely large data sets. This trending program provides students with the statistical, mathematical and computational skills needed to meet the large-scale data science challenges of todays professional world.Data Science Masters course is highly curated and uniquely designed according to the latest industry standards. This program instills students the skills essential to knowledge discovery efforts to identify standard, novel, and truly differentiated solutions and decision-making, including skills in managing, querying, analyzing, visualizing, and extracting meaning from extremely large data sets. This trending program provides students with the statistical, mathematical and computational skills needed to meet the large-scale data science challenges of todays professional world.'"
      ]
     },
     "execution_count": 37,
     "metadata": {},
     "output_type": "execute_result"
    }
   ],
   "source": [
    "data.read()"
   ]
  },
  {
   "cell_type": "code",
   "execution_count": 38,
   "id": "a9afee7e-394e-465b-aba0-9558a8958a32",
   "metadata": {},
   "outputs": [],
   "source": [
    "data1 = open('test.txt','r')"
   ]
  },
  {
   "cell_type": "code",
   "execution_count": 39,
   "id": "8af30dd7-94bb-4eba-bcbf-bd9e73770116",
   "metadata": {},
   "outputs": [
    {
     "name": "stdout",
     "output_type": "stream",
     "text": [
      "Data Science Masters course is highly curated and uniquely designed according to the latest industry standards. This program instills students the skills essential to knowledge discovery efforts to identify standard, novel, and truly differentiated solutions and decision-making, including skills in managing, querying, analyzing, visualizing, and extracting meaning from extremely large data sets. This trending program provides students with the statistical, mathematical and computational skills needed to meet the large-scale data science challenges of todays professional world.Data Science Masters course is highly curated and uniquely designed according to the latest industry standards. This program instills students the skills essential to knowledge discovery efforts to identify standard, novel, and truly differentiated solutions and decision-making, including skills in managing, querying, analyzing, visualizing, and extracting meaning from extremely large data sets. This trending program provides students with the statistical, mathematical and computational skills needed to meet the large-scale data science challenges of todays professional world.\n"
     ]
    }
   ],
   "source": [
    "for i in data1:\n",
    "    print(i)"
   ]
  },
  {
   "cell_type": "code",
   "execution_count": 40,
   "id": "08f2b063-6695-4266-bffc-212e10a20e65",
   "metadata": {},
   "outputs": [],
   "source": [
    "import os"
   ]
  },
  {
   "cell_type": "code",
   "execution_count": 41,
   "id": "fe372501-fb42-4a28-a07d-dc57dc4c2cab",
   "metadata": {},
   "outputs": [
    {
     "data": {
      "text/plain": [
       "1166"
      ]
     },
     "execution_count": 41,
     "metadata": {},
     "output_type": "execute_result"
    }
   ],
   "source": [
    "os.path.getsize('test.txt')"
   ]
  },
  {
   "cell_type": "code",
   "execution_count": 42,
   "id": "0374205b-fcd3-4853-9f22-30ad04a42715",
   "metadata": {},
   "outputs": [],
   "source": [
    "import shutil"
   ]
  },
  {
   "cell_type": "code",
   "execution_count": 43,
   "id": "9bedf531-6a6d-41b2-aa6c-e531420d5c20",
   "metadata": {},
   "outputs": [
    {
     "data": {
      "text/plain": [
       "'new_test.txt'"
      ]
     },
     "execution_count": 43,
     "metadata": {},
     "output_type": "execute_result"
    }
   ],
   "source": [
    "shutil.copy('test.txt','new_test.txt')"
   ]
  },
  {
   "cell_type": "code",
   "execution_count": 44,
   "id": "05ef844b-e1b4-496e-8ee9-f36162e75bcd",
   "metadata": {},
   "outputs": [],
   "source": [
    "os.remove('test.txt')"
   ]
  },
  {
   "cell_type": "code",
   "execution_count": 45,
   "id": "de49dff3-68ac-45f7-97ea-ba34e39f8464",
   "metadata": {},
   "outputs": [
    {
     "name": "stdout",
     "output_type": "stream",
     "text": [
      "Data Science Masters course is highly curated and uniquely designed according to the latest industry standards. This program instills students the skills essential to knowledge discovery efforts to identify standard, novel, and truly differentiated solutions and decision-making, including skills in managing, querying, analyzing, visualizing, and extracting meaning from extremely large data sets. This trending program provides students with the statistical, mathematical and computational skills needed to meet the large-scale data science challenges of todays professional world.Data Science Masters course is highly curated and uniquely designed according to the latest industry standards. This program instills students the skills essential to knowledge discovery efforts to identify standard, novel, and truly differentiated solutions and decision-making, including skills in managing, querying, analyzing, visualizing, and extracting meaning from extremely large data sets. This trending program provides students with the statistical, mathematical and computational skills needed to meet the large-scale data science challenges of todays professional world.\n"
     ]
    }
   ],
   "source": [
    "with open('new_test.txt','r') as f:\n",
    "    print(f.read())"
   ]
  },
  {
   "cell_type": "code",
   "execution_count": 46,
   "id": "1ab2a8ad-7b34-4bb6-ad0f-001beea81822",
   "metadata": {},
   "outputs": [],
   "source": [
    "os.rename('new_test.txt','test1.txt')"
   ]
  },
  {
   "cell_type": "code",
   "execution_count": null,
   "id": "ddb9fed5-7b2c-4de2-bf15-8bd8fd37fbbe",
   "metadata": {},
   "outputs": [],
   "source": []
  },
  {
   "cell_type": "code",
   "execution_count": 59,
   "id": "eb3268de-0f94-45b5-bb7c-8c766d593edc",
   "metadata": {},
   "outputs": [],
   "source": [
    "data = {\n",
    "    'name':'harsh',\n",
    "    'mail':'h@g.com',\n",
    "    'phone': 3723627,\n",
    "    'subject':['ds','bigdata','da']\n",
    "}"
   ]
  },
  {
   "cell_type": "code",
   "execution_count": 60,
   "id": "a8fbc13a-17ad-44ef-981f-5128b9f0e9c8",
   "metadata": {},
   "outputs": [],
   "source": [
    "# file equivalent to json data\n",
    "import json"
   ]
  },
  {
   "cell_type": "code",
   "execution_count": 61,
   "id": "6ddc266a-ed88-4765-a2f6-fefe509b6b2d",
   "metadata": {},
   "outputs": [],
   "source": [
    "with open('test1.json','w') as f:\n",
    "    json.dump(data,f)\n",
    "    "
   ]
  },
  {
   "cell_type": "markdown",
   "id": "487c69cf-67bb-4802-aa66-76604b53682b",
   "metadata": {},
   "source": [
    "stored dictionary object into json "
   ]
  },
  {
   "cell_type": "code",
   "execution_count": 62,
   "id": "7818addb-6717-4704-828f-657637a968c7",
   "metadata": {},
   "outputs": [],
   "source": [
    "with open('test1.json','r') as f:\n",
    "    data1 = json.load(f)"
   ]
  },
  {
   "cell_type": "code",
   "execution_count": 63,
   "id": "621972f9-7c9c-44dd-b777-1dbd64787391",
   "metadata": {},
   "outputs": [
    {
     "data": {
      "text/plain": [
       "{'name': 'harsh',\n",
       " 'mail': 'h@g.com',\n",
       " 'phone': 3723627,\n",
       " 'subject': ['ds', 'bigdata', 'da']}"
      ]
     },
     "execution_count": 63,
     "metadata": {},
     "output_type": "execute_result"
    }
   ],
   "source": [
    "data1"
   ]
  },
  {
   "cell_type": "code",
   "execution_count": 64,
   "id": "0fc9780d-2fc1-4c58-bc0c-5185fc33c386",
   "metadata": {},
   "outputs": [
    {
     "data": {
      "text/plain": [
       "'bigdata'"
      ]
     },
     "execution_count": 64,
     "metadata": {},
     "output_type": "execute_result"
    }
   ],
   "source": [
    "data1['subject'][1]"
   ]
  },
  {
   "cell_type": "code",
   "execution_count": 65,
   "id": "8840b7fd-6c6e-4bd0-a8f9-31aa8aba0499",
   "metadata": {},
   "outputs": [],
   "source": [
    "data = [['name','mail','no'],['harsh','g.com',3782],['krish','k.com',3672]]"
   ]
  },
  {
   "cell_type": "code",
   "execution_count": 66,
   "id": "dd580ded-75ec-4223-9271-8dd9ee2a726c",
   "metadata": {},
   "outputs": [],
   "source": [
    "# data is separated by comma"
   ]
  },
  {
   "cell_type": "code",
   "execution_count": 67,
   "id": "b2b01a4f-a9d0-4e77-9c0e-b5af89c5314f",
   "metadata": {},
   "outputs": [],
   "source": [
    "import csv"
   ]
  },
  {
   "cell_type": "code",
   "execution_count": 68,
   "id": "80ed51eb-6e47-46d6-aab1-e290582c0a6d",
   "metadata": {},
   "outputs": [],
   "source": [
    "with open('test3.csv' ,'w') as f:\n",
    "    w = csv.writer(f)\n",
    "    for i in data:\n",
    "        w.writerow(i)"
   ]
  },
  {
   "cell_type": "code",
   "execution_count": 69,
   "id": "a8f374a5-767e-40c2-a42a-d476d5da8fdd",
   "metadata": {},
   "outputs": [],
   "source": [
    "# this will store data into csv file in structured manner"
   ]
  },
  {
   "cell_type": "code",
   "execution_count": 70,
   "id": "382a01fe-ae46-4a3f-9946-b75d54877f52",
   "metadata": {},
   "outputs": [
    {
     "name": "stdout",
     "output_type": "stream",
     "text": [
      "['name', 'mail', 'no']\n",
      "['harsh', 'g.com', '3782']\n",
      "['krish', 'k.com', '3672']\n"
     ]
    }
   ],
   "source": [
    "with open('test3.csv','r') as f:\n",
    "    read = csv.reader(f)\n",
    "    for i in read:\n",
    "        print(i)"
   ]
  },
  {
   "cell_type": "markdown",
   "id": "5e10d4eb-5f03-45d1-8d9e-9abd2eaccf54",
   "metadata": {},
   "source": [
    "Binary file"
   ]
  },
  {
   "cell_type": "code",
   "execution_count": 72,
   "id": "24203a29-5721-4485-888f-c5774da8db9f",
   "metadata": {},
   "outputs": [],
   "source": [
    "with open('test4.bin','wb') as f:\n",
    "    f.write(b'\\x01\\x02\\x03')"
   ]
  },
  {
   "cell_type": "code",
   "execution_count": 74,
   "id": "950cb60c-6b4b-462c-a68d-4b9e375d84cd",
   "metadata": {},
   "outputs": [
    {
     "name": "stdout",
     "output_type": "stream",
     "text": [
      "b'\\x01\\x02\\x03'\n"
     ]
    }
   ],
   "source": [
    "with open('test4.bin','rb') as f:\n",
    "    print(f.read())"
   ]
  },
  {
   "cell_type": "code",
   "execution_count": null,
   "id": "8cdde4b3-7515-4085-b147-5c81efce88a4",
   "metadata": {},
   "outputs": [],
   "source": []
  },
  {
   "cell_type": "markdown",
   "id": "a5e1c8bf-272c-456f-ab5f-d950b200a106",
   "metadata": {},
   "source": [
    "Buffered read and write and other file methods:"
   ]
  },
  {
   "cell_type": "code",
   "execution_count": 76,
   "id": "ae976bdd-bda2-4e39-a60d-648ab8d60f9c",
   "metadata": {},
   "outputs": [],
   "source": [
    "import io #inputoutput\n"
   ]
  },
  {
   "cell_type": "code",
   "execution_count": 81,
   "id": "7d702973-1c7c-4ce5-9556-9cd9c0e86864",
   "metadata": {},
   "outputs": [],
   "source": [
    "with open('test.txt','wb') as f:\n",
    "    file = io.BufferedWriter(f)\n",
    "    file.write(b'this is my buffered write\\n')\n",
    "    file.write(b'this is my second line that i am trying to write')\n",
    "    file.flush()"
   ]
  },
  {
   "cell_type": "code",
   "execution_count": 87,
   "id": "e3aa8b70-5535-4712-90fd-cf0ef7c063d6",
   "metadata": {},
   "outputs": [
    {
     "name": "stdout",
     "output_type": "stream",
     "text": [
      "b'this is my buffered write\\nthis is my second line that i am trying to write'\n"
     ]
    }
   ],
   "source": [
    "with open('test.txt','rb') as f:\n",
    "    file = io.BufferedReader(f)\n",
    "    data = file.read(10000)   # or u can write (10) , (100) which refers to hopw many chunks u want to read\n",
    "    print(data)"
   ]
  },
  {
   "cell_type": "markdown",
   "id": "db0aefe4-8506-489b-8c95-0e777f18cbcd",
   "metadata": {},
   "source": [
    "logging and debugging"
   ]
  },
  {
   "cell_type": "code",
   "execution_count": 88,
   "id": "484edb40-51d5-44e5-8f2b-cfc70fd6c331",
   "metadata": {},
   "outputs": [
    {
     "name": "stdout",
     "output_type": "stream",
     "text": [
      "my print\n"
     ]
    }
   ],
   "source": [
    "print('my print')"
   ]
  },
  {
   "cell_type": "code",
   "execution_count": 29,
   "id": "fd56a8d4-64df-4772-9524-61c56266324d",
   "metadata": {},
   "outputs": [],
   "source": [
    "import logging"
   ]
  },
  {
   "cell_type": "code",
   "execution_count": 90,
   "id": "8f322964-d0e0-46ad-8145-a93f033bcfd5",
   "metadata": {},
   "outputs": [],
   "source": [
    "logging.basicConfig(filename = 'test.log',level = logging.INFO)"
   ]
  },
  {
   "cell_type": "code",
   "execution_count": 91,
   "id": "7f3782a6-5215-404d-a777-47e167dcb373",
   "metadata": {},
   "outputs": [],
   "source": [
    "logging.info('this is line of my execution')"
   ]
  },
  {
   "cell_type": "code",
   "execution_count": 92,
   "id": "2961147b-e4a6-4038-8fd9-f6f0f828ea8a",
   "metadata": {},
   "outputs": [],
   "source": [
    "logging.error('this is my error')"
   ]
  },
  {
   "cell_type": "code",
   "execution_count": 93,
   "id": "0b907aaa-032c-4248-943b-953d935edcc8",
   "metadata": {},
   "outputs": [],
   "source": [
    "logging.critical('this is my critical')"
   ]
  },
  {
   "cell_type": "markdown",
   "id": "fc2e1b5e-c605-4fc8-91a6-c2f5de366c67",
   "metadata": {},
   "source": [
    "LOGGING HIERARCHY\n",
    "1. NOSET\n",
    "2. DEBUG\n",
    "3. INFO\n",
    "4. WARNING\n",
    "5. ERROR\n",
    "6. CRITICAL"
   ]
  },
  {
   "cell_type": "code",
   "execution_count": 94,
   "id": "d08534f0-08b5-49bc-b3fc-301735867aaf",
   "metadata": {},
   "outputs": [],
   "source": [
    "logging.warning('this is my warinng')"
   ]
  },
  {
   "cell_type": "code",
   "execution_count": 95,
   "id": "ec30291f-0493-4c41-a448-a05c60552b45",
   "metadata": {},
   "outputs": [],
   "source": [
    "logging.debug('my info related to debug')"
   ]
  },
  {
   "cell_type": "code",
   "execution_count": 96,
   "id": "2ddc29c0-3ebd-46be-840b-2831548271d5",
   "metadata": {},
   "outputs": [],
   "source": [
    "logging.shutdown()"
   ]
  },
  {
   "cell_type": "code",
   "execution_count": 4,
   "id": "af72a5e9-dbbb-4f82-a7b5-c4fe3d614989",
   "metadata": {},
   "outputs": [],
   "source": [
    "logging.basicConfig(filename = 'test1.log',level=logging.DEBUG, format = '%(asctime)s %(message)s')"
   ]
  },
  {
   "cell_type": "code",
   "execution_count": 8,
   "id": "e080e40c-60eb-4e8f-8fe9-b0e99da9cad8",
   "metadata": {},
   "outputs": [],
   "source": [
    "logging.info('my info')"
   ]
  },
  {
   "cell_type": "code",
   "execution_count": 9,
   "id": "72abdefd-1e6e-4d5a-b5c8-481cbe8d8530",
   "metadata": {},
   "outputs": [],
   "source": [
    "logging.debug('my debug')"
   ]
  },
  {
   "cell_type": "code",
   "execution_count": 10,
   "id": "791149d2-ce23-43ef-91cd-779ddb8c684a",
   "metadata": {},
   "outputs": [],
   "source": [
    "logging.warning('my warning')"
   ]
  },
  {
   "cell_type": "code",
   "execution_count": 11,
   "id": "96ca0a0f-6889-4ca6-923e-659087fd2649",
   "metadata": {},
   "outputs": [],
   "source": [
    "logging.shutdown()\n"
   ]
  },
  {
   "cell_type": "code",
   "execution_count": 30,
   "id": "965c5398-ec22-401b-b6ca-6ebe4d0b83f6",
   "metadata": {},
   "outputs": [],
   "source": [
    "logging.basicConfig(filename = 'test3.log', level = logging.DEBUG, format = '%(asctime)s %(name)s %(levelname)s %(message)s')"
   ]
  },
  {
   "cell_type": "code",
   "execution_count": 20,
   "id": "263c7897-73b8-49b2-9628-c9f5ac1eb4b4",
   "metadata": {},
   "outputs": [],
   "source": [
    "logging.info('info')"
   ]
  },
  {
   "cell_type": "code",
   "execution_count": null,
   "id": "7a2b3f27-5605-40b3-8cfe-e85dca461e9e",
   "metadata": {},
   "outputs": [],
   "source": []
  },
  {
   "cell_type": "code",
   "execution_count": 21,
   "id": "85571c16-adca-498c-9673-abe7b8e9fc1a",
   "metadata": {},
   "outputs": [],
   "source": [
    "l = [1,2,3,4,[5,6,7],'harsh','santosh']"
   ]
  },
  {
   "cell_type": "code",
   "execution_count": 22,
   "id": "6711f90d-79ee-4d49-836a-6f17382c8370",
   "metadata": {},
   "outputs": [],
   "source": [
    "l1_int = []\n",
    "l2_str = []\n",
    "for i in l:\n",
    "    logging.info('This is)\n",
    "    if type(i)==list:\n",
    "        for j in i:\n",
    "            if type(j)==int:\n",
    "                l1_int.append(j)\n",
    "    elif type(i) ==int:\n",
    "        l1_int.append(i)\n",
    "    elif type(i) ==str:\n",
    "        l2_str.append(i)\n",
    "        \n",
    "        "
   ]
  },
  {
   "cell_type": "code",
   "execution_count": 23,
   "id": "2f302090-d5f5-43ff-bd25-9814db407de7",
   "metadata": {},
   "outputs": [
    {
     "data": {
      "text/plain": [
       "[1, 2, 3, 4, 5, 6, 7]"
      ]
     },
     "execution_count": 23,
     "metadata": {},
     "output_type": "execute_result"
    }
   ],
   "source": [
    "l1_int"
   ]
  },
  {
   "cell_type": "code",
   "execution_count": 24,
   "id": "5e4e4648-4be5-4333-844b-9b71506c9cb5",
   "metadata": {},
   "outputs": [
    {
     "data": {
      "text/plain": [
       "['harsh', 'santosh']"
      ]
     },
     "execution_count": 24,
     "metadata": {},
     "output_type": "execute_result"
    }
   ],
   "source": [
    "l2_str"
   ]
  },
  {
   "cell_type": "markdown",
   "id": "9b0dc0ca-e061-43fa-acc0-78e895fd3b48",
   "metadata": {},
   "source": [
    "# Modules and import statements"
   ]
  },
  {
   "cell_type": "code",
   "execution_count": null,
   "id": "08054f36-7612-4790-aac2-08b1b1972fe1",
   "metadata": {},
   "outputs": [],
   "source": []
  }
 ],
 "metadata": {
  "kernelspec": {
   "display_name": "Python 3 (ipykernel)",
   "language": "python",
   "name": "python3"
  },
  "language_info": {
   "codemirror_mode": {
    "name": "ipython",
    "version": 3
   },
   "file_extension": ".py",
   "mimetype": "text/x-python",
   "name": "python",
   "nbconvert_exporter": "python",
   "pygments_lexer": "ipython3",
   "version": "3.10.8"
  }
 },
 "nbformat": 4,
 "nbformat_minor": 5
}
