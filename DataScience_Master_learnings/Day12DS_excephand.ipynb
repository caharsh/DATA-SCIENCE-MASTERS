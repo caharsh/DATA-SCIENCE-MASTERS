{
 "cells": [
  {
   "cell_type": "markdown",
   "id": "e9a8bb27-34bf-4fa6-9d29-bfc35a129460",
   "metadata": {},
   "source": [
    "## List of General use exception"
   ]
  },
  {
   "cell_type": "code",
   "execution_count": 22,
   "id": "4250c040-9540-448a-ae03-e04760f171d5",
   "metadata": {},
   "outputs": [
    {
     "name": "stdout",
     "output_type": "stream",
     "text": [
      "division by zero\n"
     ]
    }
   ],
   "source": [
    "try:\n",
    "    a = 10\n",
    "    a/0\n",
    "except ZeroDivisionError as e:\n",
    "    print(e)\n",
    "    "
   ]
  },
  {
   "cell_type": "code",
   "execution_count": 2,
   "id": "0dbe03a6-a06e-4c67-859f-2072117d6c05",
   "metadata": {},
   "outputs": [
    {
     "name": "stdout",
     "output_type": "stream",
     "text": [
      "invalid literal for int() with base 10: 'sudh'\n"
     ]
    }
   ],
   "source": [
    "try:\n",
    "    int('sudh')\n",
    "except (ValueError,TypeError) as e:\n",
    "    print(e)"
   ]
  },
  {
   "cell_type": "code",
   "execution_count": 4,
   "id": "fac53bfa-403d-468b-ba26-4c3e60fea866",
   "metadata": {},
   "outputs": [
    {
     "name": "stdout",
     "output_type": "stream",
     "text": [
      "this will catch an error\n"
     ]
    }
   ],
   "source": [
    "try:\n",
    "    int('sudh')\n",
    "except:\n",
    "    print('this will catch an error')"
   ]
  },
  {
   "cell_type": "code",
   "execution_count": 5,
   "id": "a579090e-91e0-4bed-912f-4c7f4cd9e939",
   "metadata": {},
   "outputs": [
    {
     "name": "stdout",
     "output_type": "stream",
     "text": [
      "No module named 'harsh'\n"
     ]
    }
   ],
   "source": [
    "try:\n",
    "    import harsh\n",
    "except ImportError as e:\n",
    "    print(e)\n",
    "    "
   ]
  },
  {
   "cell_type": "code",
   "execution_count": 6,
   "id": "bc79d6d9-be00-4283-9d84-c0a06c2d72ce",
   "metadata": {},
   "outputs": [
    {
     "name": "stdout",
     "output_type": "stream",
     "text": [
      "'key10'\n"
     ]
    }
   ],
   "source": [
    "try:\n",
    "    d = {1:[1,2,3,4],'key':'harsh'}\n",
    "    d['key10']\n",
    "except KeyError as e:\n",
    "    print(e)"
   ]
  },
  {
   "cell_type": "code",
   "execution_count": 7,
   "id": "7b072d4f-1a9d-46bb-85a1-bd1c05d79620",
   "metadata": {},
   "outputs": [
    {
     "name": "stdout",
     "output_type": "stream",
     "text": [
      "'str' object has no attribute 'test'\n"
     ]
    }
   ],
   "source": [
    "try:\n",
    "    'harsh'.test()\n",
    "except AttributeError as e:\n",
    "    print(e)"
   ]
  },
  {
   "cell_type": "code",
   "execution_count": 8,
   "id": "fddbb98d-8a7a-4555-b902-73341c49cdae",
   "metadata": {},
   "outputs": [
    {
     "name": "stdout",
     "output_type": "stream",
     "text": [
      "list index out of range\n"
     ]
    }
   ],
   "source": [
    "try:\n",
    "    l = [1,2,3,4]\n",
    "    l[10]\n",
    "except IndexError as e:\n",
    "    print(e)"
   ]
  },
  {
   "cell_type": "code",
   "execution_count": 10,
   "id": "b37d5cd1-8d2d-404e-97e1-dfdfe08d7ffc",
   "metadata": {},
   "outputs": [
    {
     "name": "stdout",
     "output_type": "stream",
     "text": [
      "unsupported operand type(s) for +: 'int' and 'str'\n"
     ]
    }
   ],
   "source": [
    "try:\n",
    "    213+'harsh'\n",
    "except TypeError as e:\n",
    "    print(e)"
   ]
  },
  {
   "cell_type": "code",
   "execution_count": 20,
   "id": "f60c9a79-43b5-455e-a6b8-19f8b38ac9f8",
   "metadata": {},
   "outputs": [],
   "source": [
    "def test(file):\n",
    "\n",
    "    try:\n",
    "        with open('tesfyt.txt','r')as f:\n",
    "            f.read()\n",
    "\n",
    "\n",
    "    except FileNotFoundError as e:\n",
    "        print('file not found error')\n",
    "    \n",
    "    # executes from exception class as it is Superclass\n",
    "        "
   ]
  },
  {
   "cell_type": "code",
   "execution_count": 21,
   "id": "b45897fb-ff9d-44b0-8ad9-ed906027d8f9",
   "metadata": {},
   "outputs": [
    {
     "name": "stdout",
     "output_type": "stream",
     "text": [
      "file not found error\n"
     ]
    }
   ],
   "source": [
    "test('testja.txt')"
   ]
  },
  {
   "cell_type": "markdown",
   "id": "b918b3db-e9e0-42cf-ac73-5344ed56d86f",
   "metadata": {},
   "source": [
    "## Best practices Exception Handling"
   ]
  },
  {
   "cell_type": "code",
   "execution_count": 24,
   "id": "51f62459-36e4-4d04-8005-70f70284ead8",
   "metadata": {},
   "outputs": [
    {
     "name": "stdout",
     "output_type": "stream",
     "text": [
      "division by zero\n"
     ]
    }
   ],
   "source": [
    "#use always a specific exception\n",
    "\n",
    "try:\n",
    "    10/0\n",
    "except ZeroDivisionError as e:\n",
    "    print(e)\n",
    "    "
   ]
  },
  {
   "cell_type": "code",
   "execution_count": 25,
   "id": "f4897b48-97e4-4370-943d-9f91a82c5a32",
   "metadata": {},
   "outputs": [
    {
     "name": "stdout",
     "output_type": "stream",
     "text": [
      "This is zero division error i am handling division by zero\n"
     ]
    }
   ],
   "source": [
    "#print always a valid messages\n",
    "try:\n",
    "    10/0\n",
    "except ZeroDivisionError as e:\n",
    "    print('This is zero division error i am handling',e)"
   ]
  },
  {
   "cell_type": "code",
   "execution_count": 27,
   "id": "6b9b9530-c7e5-4757-91e0-cfa8953153f7",
   "metadata": {},
   "outputs": [],
   "source": [
    "#always try to log\n",
    "import logging\n",
    "logging.basicConfig(filename = 'error.log', level = logging.error)\n",
    "try :\n",
    "    10/0\n",
    "except ZeroDivisionError as e:\n",
    "    logging.error('this is my zero division error i am handling {}'.format(e))\n",
    "    "
   ]
  },
  {
   "cell_type": "code",
   "execution_count": 28,
   "id": "0f6d6c16-4435-4ea0-a204-ecdef16146ac",
   "metadata": {},
   "outputs": [],
   "source": [
    "#always avoid to write a multiple exception handling\n",
    "\n",
    "try :\n",
    "    10/0\n",
    "except FileNotFoundError as e:\n",
    "    logging.error(\"this is my file not foud error {}\".format( e))\n",
    "except AttributeError as e:\n",
    "    logging.error(\"this is my attribute error {}\".format( e))\n",
    "except ZeroDivisionError as e:\n",
    "    logging.error('this is my zero division error i am handling {}'.format(e))\n",
    "    "
   ]
  },
  {
   "cell_type": "markdown",
   "id": "c16d2081-956b-4798-bb56-e7f0b213c0f3",
   "metadata": {},
   "source": [
    "in the above exception handling, first 2 i.e.filenot found and attribute error are unnecessary error handling as we are focused only on zero division error"
   ]
  },
  {
   "cell_type": "code",
   "execution_count": 29,
   "id": "4366a79c-1b36-4c19-915a-5646750f8bc5",
   "metadata": {},
   "outputs": [],
   "source": [
    "# always try to prepare a proper documentation\n",
    "\n"
   ]
  },
  {
   "cell_type": "code",
   "execution_count": 30,
   "id": "1cb8a182-1125-4e9d-8694-e75e7ba55dca",
   "metadata": {},
   "outputs": [],
   "source": [
    "# clean up all the resources\n",
    "try:\n",
    "    with open('testtt.txt','w') as f:\n",
    "        f.write('this is my msg to file ')\n",
    "except FileNotFoundError as e:\n",
    "    logging.error('my file not found error : {}'.format( e))\n",
    "finally:\n",
    "    f.close()\n",
    "    \n",
    "        "
   ]
  },
  {
   "cell_type": "code",
   "execution_count": null,
   "id": "98f81f80-ce59-4551-84b1-49bea185c483",
   "metadata": {},
   "outputs": [],
   "source": []
  }
 ],
 "metadata": {
  "kernelspec": {
   "display_name": "Python 3 (ipykernel)",
   "language": "python",
   "name": "python3"
  },
  "language_info": {
   "codemirror_mode": {
    "name": "ipython",
    "version": 3
   },
   "file_extension": ".py",
   "mimetype": "text/x-python",
   "name": "python",
   "nbconvert_exporter": "python",
   "pygments_lexer": "ipython3",
   "version": "3.10.8"
  }
 },
 "nbformat": 4,
 "nbformat_minor": 5
}
