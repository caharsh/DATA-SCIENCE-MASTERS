{
 "cells": [
  {
   "cell_type": "markdown",
   "id": "a038b248-8bf3-4ce0-b4dc-f2b6c4573803",
   "metadata": {},
   "source": [
    "## lambda functions"
   ]
  },
  {
   "cell_type": "code",
   "execution_count": 1,
   "id": "2f43b95f-6d46-4933-9c59-28f646aac218",
   "metadata": {},
   "outputs": [],
   "source": [
    "n = 3\n",
    "p = 2\n",
    "def test(n,p):\n",
    "    return n**p"
   ]
  },
  {
   "cell_type": "code",
   "execution_count": 4,
   "id": "890fc4db-580d-47a6-8fb0-3ff2bcd76005",
   "metadata": {},
   "outputs": [
    {
     "data": {
      "text/plain": [
       "6561"
      ]
     },
     "execution_count": 4,
     "metadata": {},
     "output_type": "execute_result"
    }
   ],
   "source": [
    "test(9,4)"
   ]
  },
  {
   "cell_type": "code",
   "execution_count": 6,
   "id": "7e1c7ba1-5c64-4eb1-8720-043bb0c6c2da",
   "metadata": {},
   "outputs": [],
   "source": [
    "a = lambda n,p :n**p"
   ]
  },
  {
   "cell_type": "code",
   "execution_count": 7,
   "id": "ac7a7163-7083-46a8-a786-fe75b8c6fa47",
   "metadata": {},
   "outputs": [
    {
     "data": {
      "text/plain": [
       "9"
      ]
     },
     "execution_count": 7,
     "metadata": {},
     "output_type": "execute_result"
    }
   ],
   "source": [
    "a(3,2)"
   ]
  },
  {
   "cell_type": "code",
   "execution_count": 8,
   "id": "7e1919ce-a41e-4464-a7a6-9e75e94efc9a",
   "metadata": {},
   "outputs": [
    {
     "data": {
      "text/plain": [
       "6561"
      ]
     },
     "execution_count": 8,
     "metadata": {},
     "output_type": "execute_result"
    }
   ],
   "source": [
    "a(9,4)"
   ]
  },
  {
   "cell_type": "code",
   "execution_count": 9,
   "id": "09679e65-0f95-4dd2-9260-fd2886c241d3",
   "metadata": {},
   "outputs": [],
   "source": [
    "add = lambda x,y : x+y"
   ]
  },
  {
   "cell_type": "code",
   "execution_count": 10,
   "id": "d5027b71-6aa6-4b2c-b66a-2de256eedba3",
   "metadata": {},
   "outputs": [
    {
     "data": {
      "text/plain": [
       "11"
      ]
     },
     "execution_count": 10,
     "metadata": {},
     "output_type": "execute_result"
    }
   ],
   "source": [
    "add(6,5)"
   ]
  },
  {
   "cell_type": "code",
   "execution_count": 11,
   "id": "b2f777dc-44d1-4877-91be-cddc538154f4",
   "metadata": {},
   "outputs": [],
   "source": [
    "cel_t_fah = lambda temp : (9/5)*temp +32"
   ]
  },
  {
   "cell_type": "code",
   "execution_count": 15,
   "id": "e8b9b574-99c3-4510-8736-bc5784e2e379",
   "metadata": {},
   "outputs": [
    {
     "data": {
      "text/plain": [
       "93.2"
      ]
     },
     "execution_count": 15,
     "metadata": {},
     "output_type": "execute_result"
    }
   ],
   "source": [
    "cel_t_fah(34)"
   ]
  },
  {
   "cell_type": "code",
   "execution_count": 21,
   "id": "6cc59cfb-ed11-4e80-a23c-df586956e313",
   "metadata": {},
   "outputs": [],
   "source": [
    "max_m = lambda x,y : x if x>y  else y"
   ]
  },
  {
   "cell_type": "code",
   "execution_count": 22,
   "id": "06372377-acee-4b8f-bdc9-e0db720b9fa5",
   "metadata": {},
   "outputs": [
    {
     "data": {
      "text/plain": [
       "4"
      ]
     },
     "execution_count": 22,
     "metadata": {},
     "output_type": "execute_result"
    }
   ],
   "source": [
    "max_m(3,4)"
   ]
  },
  {
   "cell_type": "code",
   "execution_count": 23,
   "id": "97eb9643-b3d9-419f-9ff6-467c71ab7d45",
   "metadata": {},
   "outputs": [],
   "source": [
    "a = 'pwskills'\n",
    "leng = lambda strr : len(strr)"
   ]
  },
  {
   "cell_type": "code",
   "execution_count": 24,
   "id": "c8a02f53-f257-45cb-bded-d650f815f029",
   "metadata": {},
   "outputs": [
    {
     "data": {
      "text/plain": [
       "8"
      ]
     },
     "execution_count": 24,
     "metadata": {},
     "output_type": "execute_result"
    }
   ],
   "source": [
    "leng(a)"
   ]
  },
  {
   "cell_type": "markdown",
   "id": "d90395d2-656d-4543-86e6-22c2c19dc0b5",
   "metadata": {},
   "source": [
    "## Map, Reduce and Filter function"
   ]
  },
  {
   "cell_type": "code",
   "execution_count": 25,
   "id": "373c24f3-1d46-406f-93d9-263d04830642",
   "metadata": {},
   "outputs": [],
   "source": [
    "l = [1,2,3,4,5]\n"
   ]
  },
  {
   "cell_type": "code",
   "execution_count": 26,
   "id": "79145152-2ad3-4d82-925b-458e66f49c05",
   "metadata": {},
   "outputs": [
    {
     "data": {
      "text/plain": [
       "[1, 4, 9, 16, 25]"
      ]
     },
     "execution_count": 26,
     "metadata": {},
     "output_type": "execute_result"
    }
   ],
   "source": [
    "[i*i for i in l]"
   ]
  },
  {
   "cell_type": "code",
   "execution_count": 27,
   "id": "c656e4ae-48bd-406d-ad19-174bcd253ab2",
   "metadata": {},
   "outputs": [],
   "source": [
    "def test(l):\n",
    "    l1=[]\n",
    "    for i in l:\n",
    "        l1.append(i**2)\n",
    "    return l1"
   ]
  },
  {
   "cell_type": "code",
   "execution_count": 28,
   "id": "597e8acc-3e77-4b4b-b16c-93b75d90e6c1",
   "metadata": {},
   "outputs": [
    {
     "data": {
      "text/plain": [
       "[1, 4, 9, 16, 25]"
      ]
     },
     "execution_count": 28,
     "metadata": {},
     "output_type": "execute_result"
    }
   ],
   "source": [
    "test(l)"
   ]
  },
  {
   "cell_type": "code",
   "execution_count": 30,
   "id": "3dedf24a-940c-4989-b984-b8f2bc8d67da",
   "metadata": {},
   "outputs": [],
   "source": [
    "def sq(x):\n",
    "    return x**2"
   ]
  },
  {
   "cell_type": "code",
   "execution_count": 32,
   "id": "31d66a0f-a9d8-4231-aa49-375dfed353b9",
   "metadata": {},
   "outputs": [
    {
     "data": {
      "text/plain": [
       "[1, 4, 9, 16, 25]"
      ]
     },
     "execution_count": 32,
     "metadata": {},
     "output_type": "execute_result"
    }
   ],
   "source": [
    "list(map(sq,l))"
   ]
  },
  {
   "cell_type": "code",
   "execution_count": 33,
   "id": "aa08c4ab-a351-4883-a75f-989e50c69c71",
   "metadata": {},
   "outputs": [
    {
     "data": {
      "text/plain": [
       "[1, 4, 9, 16, 25]"
      ]
     },
     "execution_count": 33,
     "metadata": {},
     "output_type": "execute_result"
    }
   ],
   "source": [
    "list(map(lambda x : x**2,l))"
   ]
  },
  {
   "cell_type": "code",
   "execution_count": 34,
   "id": "a1609a69-1b92-40ff-93e3-9a0e837e484a",
   "metadata": {},
   "outputs": [
    {
     "data": {
      "text/plain": [
       "[11, 12, 13, 14, 15]"
      ]
     },
     "execution_count": 34,
     "metadata": {},
     "output_type": "execute_result"
    }
   ],
   "source": [
    "list(map(lambda x : x+10,l))"
   ]
  },
  {
   "cell_type": "code",
   "execution_count": 35,
   "id": "31303c3b-8110-4e87-9e84-9dd560a135c3",
   "metadata": {},
   "outputs": [
    {
     "data": {
      "text/plain": [
       "['1', '2', '3', '4', '5']"
      ]
     },
     "execution_count": 35,
     "metadata": {},
     "output_type": "execute_result"
    }
   ],
   "source": [
    "list(map(lambda x : str(x),l))"
   ]
  },
  {
   "cell_type": "code",
   "execution_count": 36,
   "id": "8d375458-d555-4d9f-bc9d-c5b505ac603f",
   "metadata": {},
   "outputs": [],
   "source": [
    "l1 = [1,2,3,4,5]\n",
    "l2 = [6,7,8,9,10]"
   ]
  },
  {
   "cell_type": "code",
   "execution_count": 39,
   "id": "89270c0a-2ec0-4bb0-8af2-2322ff5a3dcf",
   "metadata": {},
   "outputs": [],
   "source": []
  },
  {
   "cell_type": "code",
   "execution_count": null,
   "id": "e22d58be-a511-4874-b94b-da4a9d6a6679",
   "metadata": {},
   "outputs": [],
   "source": []
  },
  {
   "cell_type": "code",
   "execution_count": 46,
   "id": "c4a7788e-9a33-441a-98b1-f7a00c02e8f1",
   "metadata": {},
   "outputs": [
    {
     "data": {
      "text/plain": [
       "[7, 9, 11, 13, 15]"
      ]
     },
     "execution_count": 46,
     "metadata": {},
     "output_type": "execute_result"
    }
   ],
   "source": [
    "list(map(lambda x,y : x+y, l1,l2))"
   ]
  },
  {
   "cell_type": "code",
   "execution_count": null,
   "id": "4f9a4d18-1407-4f35-b2f4-0c8555099758",
   "metadata": {},
   "outputs": [],
   "source": [
    "list(map(lambda x,y : x+y, l1,l2))"
   ]
  },
  {
   "cell_type": "code",
   "execution_count": 47,
   "id": "ea5676a1-409a-46e5-b465-683791661713",
   "metadata": {},
   "outputs": [],
   "source": [
    "s = 'pwskills'\n"
   ]
  },
  {
   "cell_type": "code",
   "execution_count": 49,
   "id": "d2939a40-0223-485a-9672-72df6485976d",
   "metadata": {},
   "outputs": [
    {
     "data": {
      "text/plain": [
       "['P', 'W', 'S', 'K', 'I', 'L', 'L', 'S']"
      ]
     },
     "execution_count": 49,
     "metadata": {},
     "output_type": "execute_result"
    }
   ],
   "source": [
    "list(map(lambda x: x.upper(),s))\n"
   ]
  },
  {
   "cell_type": "code",
   "execution_count": 50,
   "id": "dae1ddb3-208d-4d4f-a134-72572b415b5e",
   "metadata": {},
   "outputs": [],
   "source": [
    "from functools import reduce"
   ]
  },
  {
   "cell_type": "code",
   "execution_count": 51,
   "id": "4b6d35c4-3dfb-4088-8ab3-5ee3fbfb40cd",
   "metadata": {},
   "outputs": [],
   "source": [
    "l  = [1,2,3,4,5]"
   ]
  },
  {
   "cell_type": "code",
   "execution_count": 52,
   "id": "48153c11-f781-4819-8ce7-7140d92cc9d2",
   "metadata": {},
   "outputs": [
    {
     "data": {
      "text/plain": [
       "15"
      ]
     },
     "execution_count": 52,
     "metadata": {},
     "output_type": "execute_result"
    }
   ],
   "source": [
    "reduce(lambda x,y :x+y,l)"
   ]
  },
  {
   "cell_type": "code",
   "execution_count": 53,
   "id": "d503e1d4-4594-404a-907b-d75a3792c804",
   "metadata": {},
   "outputs": [],
   "source": [
    "def add(x,y):\n",
    "    return x+y\n"
   ]
  },
  {
   "cell_type": "code",
   "execution_count": 54,
   "id": "868bb359-3919-43cb-a803-ee0ae80dd9e1",
   "metadata": {},
   "outputs": [
    {
     "data": {
      "text/plain": [
       "15"
      ]
     },
     "execution_count": 54,
     "metadata": {},
     "output_type": "execute_result"
    }
   ],
   "source": [
    "reduce(add,l)"
   ]
  },
  {
   "cell_type": "code",
   "execution_count": 55,
   "id": "c57624c8-ec19-4378-92df-e093cb4fb720",
   "metadata": {},
   "outputs": [
    {
     "ename": "TypeError",
     "evalue": "<lambda>() missing 1 required positional argument: 'z'",
     "output_type": "error",
     "traceback": [
      "\u001b[0;31m---------------------------------------------------------------------------\u001b[0m",
      "\u001b[0;31mTypeError\u001b[0m                                 Traceback (most recent call last)",
      "Cell \u001b[0;32mIn[55], line 1\u001b[0m\n\u001b[0;32m----> 1\u001b[0m \u001b[43mreduce\u001b[49m\u001b[43m(\u001b[49m\u001b[38;5;28;43;01mlambda\u001b[39;49;00m\u001b[43m \u001b[49m\u001b[43mx\u001b[49m\u001b[43m,\u001b[49m\u001b[43my\u001b[49m\u001b[43m,\u001b[49m\u001b[43mz\u001b[49m\u001b[43m \u001b[49m\u001b[43m:\u001b[49m\u001b[43m \u001b[49m\u001b[43mx\u001b[49m\u001b[38;5;241;43m+\u001b[39;49m\u001b[43my\u001b[49m\u001b[38;5;241;43m+\u001b[39;49m\u001b[43mz\u001b[49m\u001b[43m,\u001b[49m\u001b[43ml\u001b[49m\u001b[43m)\u001b[49m\n",
      "\u001b[0;31mTypeError\u001b[0m: <lambda>() missing 1 required positional argument: 'z'"
     ]
    }
   ],
   "source": [
    "reduce(lambda x,y,z : x+y+z,l)"
   ]
  },
  {
   "cell_type": "code",
   "execution_count": 56,
   "id": "13e79cba-8edb-4d39-a47a-e72e443ee56a",
   "metadata": {},
   "outputs": [
    {
     "data": {
      "text/plain": [
       "[1, 2, 3, 4, 5]"
      ]
     },
     "execution_count": 56,
     "metadata": {},
     "output_type": "execute_result"
    }
   ],
   "source": [
    "l\n"
   ]
  },
  {
   "cell_type": "code",
   "execution_count": 57,
   "id": "9dcc8f1a-5ada-4ef8-b599-169f051f1631",
   "metadata": {},
   "outputs": [
    {
     "data": {
      "text/plain": [
       "[]"
      ]
     },
     "execution_count": 57,
     "metadata": {},
     "output_type": "execute_result"
    }
   ],
   "source": [
    "list(map(lambda x,y : x+y, []))"
   ]
  },
  {
   "cell_type": "code",
   "execution_count": 58,
   "id": "471136ae-0e83-47fa-8c8d-33a23062b2d5",
   "metadata": {},
   "outputs": [
    {
     "ename": "TypeError",
     "evalue": "reduce() of empty iterable with no initial value",
     "output_type": "error",
     "traceback": [
      "\u001b[0;31m---------------------------------------------------------------------------\u001b[0m",
      "\u001b[0;31mTypeError\u001b[0m                                 Traceback (most recent call last)",
      "Cell \u001b[0;32mIn[58], line 1\u001b[0m\n\u001b[0;32m----> 1\u001b[0m \u001b[43mreduce\u001b[49m\u001b[43m(\u001b[49m\u001b[38;5;28;43;01mlambda\u001b[39;49;00m\u001b[43m \u001b[49m\u001b[43mx\u001b[49m\u001b[43m,\u001b[49m\u001b[43my\u001b[49m\u001b[43m \u001b[49m\u001b[43m:\u001b[49m\u001b[43m \u001b[49m\u001b[43mx\u001b[49m\u001b[38;5;241;43m+\u001b[39;49m\u001b[43my\u001b[49m\u001b[43m,\u001b[49m\u001b[43m[\u001b[49m\u001b[43m]\u001b[49m\u001b[43m)\u001b[49m\n",
      "\u001b[0;31mTypeError\u001b[0m: reduce() of empty iterable with no initial value"
     ]
    }
   ],
   "source": [
    "reduce(lambda x,y : x+y,[])"
   ]
  },
  {
   "cell_type": "code",
   "execution_count": 59,
   "id": "90ec9a0a-3067-4d1a-b945-4f2c7d09597c",
   "metadata": {},
   "outputs": [
    {
     "data": {
      "text/plain": [
       "1"
      ]
     },
     "execution_count": 59,
     "metadata": {},
     "output_type": "execute_result"
    }
   ],
   "source": [
    "reduce(lambda x,y : x+y,[1])"
   ]
  },
  {
   "cell_type": "code",
   "execution_count": 60,
   "id": "a29350aa-f6d3-4750-bfe6-8fd2f091a3d9",
   "metadata": {},
   "outputs": [
    {
     "data": {
      "text/plain": [
       "[1, 2, 3, 4, 5]"
      ]
     },
     "execution_count": 60,
     "metadata": {},
     "output_type": "execute_result"
    }
   ],
   "source": [
    "l"
   ]
  },
  {
   "cell_type": "code",
   "execution_count": 62,
   "id": "619a44bf-bf6d-4413-ae7e-8fb3508cd6da",
   "metadata": {},
   "outputs": [
    {
     "data": {
      "text/plain": [
       "5"
      ]
     },
     "execution_count": 62,
     "metadata": {},
     "output_type": "execute_result"
    }
   ],
   "source": [
    "reduce(lambda x,y : x if x>y else y,l)"
   ]
  },
  {
   "cell_type": "code",
   "execution_count": 63,
   "id": "40445c1f-4c1f-47bb-8a26-6166a5ecb7b1",
   "metadata": {},
   "outputs": [],
   "source": [
    "# filter\n",
    "# filtering out not required elements from iterables"
   ]
  },
  {
   "cell_type": "code",
   "execution_count": 65,
   "id": "40b69aa0-cfc6-4f17-a401-2cfca18e3600",
   "metadata": {},
   "outputs": [],
   "source": [
    "l.append(4)"
   ]
  },
  {
   "cell_type": "code",
   "execution_count": 66,
   "id": "150b97ce-5e77-45a7-aa44-b7c103c968e2",
   "metadata": {},
   "outputs": [
    {
     "data": {
      "text/plain": [
       "[1, 2, 3, 4, 5, 4]"
      ]
     },
     "execution_count": 66,
     "metadata": {},
     "output_type": "execute_result"
    }
   ],
   "source": [
    "l"
   ]
  },
  {
   "cell_type": "code",
   "execution_count": 69,
   "id": "a9b452f7-f59a-4030-9be2-d1c90eee23f0",
   "metadata": {},
   "outputs": [
    {
     "data": {
      "text/plain": [
       "[1, 3, 5]"
      ]
     },
     "execution_count": 69,
     "metadata": {},
     "output_type": "execute_result"
    }
   ],
   "source": [
    "list(filter(lambda x: x%2!=0 , l))"
   ]
  },
  {
   "cell_type": "code",
   "execution_count": 70,
   "id": "414eec87-fd7d-4378-a990-1511f62096f1",
   "metadata": {},
   "outputs": [],
   "source": [
    "l1 = [1,2,-2,-5,-6,7,8,-3,-12]"
   ]
  },
  {
   "cell_type": "code",
   "execution_count": 73,
   "id": "e0b17b36-7d67-402a-9851-7ae8ac940e87",
   "metadata": {},
   "outputs": [
    {
     "data": {
      "text/plain": [
       "[1, 2, 7, 8]"
      ]
     },
     "execution_count": 73,
     "metadata": {},
     "output_type": "execute_result"
    }
   ],
   "source": [
    "list(filter(lambda x: x>=0,l1))"
   ]
  },
  {
   "cell_type": "code",
   "execution_count": 74,
   "id": "3cde8b62-8e69-4c6b-b860-2d18be2f9955",
   "metadata": {},
   "outputs": [],
   "source": [
    "l2=['harsh','pw','santosh','chennai']"
   ]
  },
  {
   "cell_type": "code",
   "execution_count": 76,
   "id": "34dd408e-bde6-4c44-a80e-31133f608cb8",
   "metadata": {},
   "outputs": [
    {
     "data": {
      "text/plain": [
       "['harsh', 'pw']"
      ]
     },
     "execution_count": 76,
     "metadata": {},
     "output_type": "execute_result"
    }
   ],
   "source": [
    "list(filter(lambda x: len(x)<6,l2))"
   ]
  },
  {
   "cell_type": "code",
   "execution_count": null,
   "id": "97f0b723-cd08-45ac-ac18-29c0585357eb",
   "metadata": {},
   "outputs": [],
   "source": []
  }
 ],
 "metadata": {
  "kernelspec": {
   "display_name": "Python 3 (ipykernel)",
   "language": "python",
   "name": "python3"
  },
  "language_info": {
   "codemirror_mode": {
    "name": "ipython",
    "version": 3
   },
   "file_extension": ".py",
   "mimetype": "text/x-python",
   "name": "python",
   "nbconvert_exporter": "python",
   "pygments_lexer": "ipython3",
   "version": "3.10.8"
  }
 },
 "nbformat": 4,
 "nbformat_minor": 5
}
